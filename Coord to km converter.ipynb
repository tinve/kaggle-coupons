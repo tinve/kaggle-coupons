{
 "cells": [
  {
   "cell_type": "code",
   "execution_count": null,
   "metadata": {
    "collapsed": true
   },
   "outputs": [],
   "source": [
    "import pandas as pd\n",
    "import numpy as np\n",
    "\n",
    "# Distance by the Haversine formula\n",
    "# https://en.wikipedia.org/wiki/Haversine_formula\n",
    "def dist_from_coordinates(lat1, lon1, lat2, lon2):\n",
    "    R = 6371 # Earth's radius in KM\n",
    "\n",
    "    # convert to radians\n",
    "    d_lat = np.radians(lat2-lat1)\n",
    "    d_lon = np.radians(lon2-lon1)\n",
    "\n",
    "    r_lat1 = np.radians(lat1)\n",
    "    r_lat2 = np.radians(lat2)\n",
    "\n",
    "    # argument under the root\n",
    "    a = np.sin(d_lat/2.) **2 + np.cos(r_lat1) * np.cos(r_lat2) * np.sin(d_lon/2.)**2\n",
    "\n",
    "    haversine = 2 * R * np.arcsin(np.sqrt(a))\n",
    "\n",
    "    return haversine\n",
    "\n",
    "# error because the file is not available to scripts, you can download it from the data page\n",
    "##pref_locations = pd.read_csv('../input/prefecture_locations.csv')\n",
    "\n",
    "# to test\n",
    "##lats = pref_locations['LATITUDE']\n",
    "##longs = pref_locations['LONGITUDE']\n",
    "\n",
    "# point 1 - Sapporo\n",
    "lat1 = 43.063968 #lats.values[0]\n",
    "lon1 = 141.347899 #longs.values[0]\n",
    "\n",
    "# point 2 - Aomori\n",
    "lat2 = 40.824623 #lats.values[1]\n",
    "lon2 = 140.740593 #longs.values[1]\n",
    "\n",
    "# 254.016997815 - checks out on google maps\n",
    "# 0.5% error possible due to earth being a spheroid\n",
    "\n",
    "print(dist_from_coordinates(lat1, lon1, lat2, lon2), 'km')\n"
   ]
  }
 ],
 "metadata": {
  "kernelspec": {
   "display_name": "Python 2",
   "language": "python",
   "name": "python2"
  },
  "language_info": {
   "codemirror_mode": {
    "name": "ipython",
    "version": 2
   },
   "file_extension": ".py",
   "mimetype": "text/x-python",
   "name": "python",
   "nbconvert_exporter": "python",
   "pygments_lexer": "ipython2",
   "version": "2.7.9"
  }
 },
 "nbformat": 4,
 "nbformat_minor": 0
}
