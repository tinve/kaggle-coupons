{
 "cells": [
  {
   "cell_type": "code",
   "execution_count": 1,
   "metadata": {
    "collapsed": true
   },
   "outputs": [],
   "source": [
    "from __future__ import division\n",
    "\n",
    "import pandas as pd\n",
    "import numpy as np"
   ]
  },
  {
   "cell_type": "markdown",
   "metadata": {},
   "source": [
    "Earliest coupon distribution:\n",
    "2011-06-27\n",
    "\n",
    "Earliest coupon valid period beginning:\n",
    "2011-07-01\n",
    "\n",
    "Latest coupon valid period end:\n",
    "2012-12-30"
   ]
  },
  {
   "cell_type": "code",
   "execution_count": 3,
   "metadata": {
    "collapsed": false
   },
   "outputs": [],
   "source": [
    "start_time = pd.to_datetime('2011-06-27')\n",
    "end_time = pd.to_datetime('2012-12-30')\n",
    "time_length = int((end_time - start_time).days)"
   ]
  },
  {
   "cell_type": "markdown",
   "metadata": {},
   "source": [
    "## user_list.csv"
   ]
  },
  {
   "cell_type": "code",
   "execution_count": 4,
   "metadata": {
    "collapsed": false
   },
   "outputs": [
    {
     "data": {
      "text/html": [
       "<div>\n",
       "<table border=\"1\" class=\"dataframe\">\n",
       "  <thead>\n",
       "    <tr style=\"text-align: right;\">\n",
       "      <th></th>\n",
       "      <th>REG_DATE</th>\n",
       "      <th>SEX_ID</th>\n",
       "      <th>AGE</th>\n",
       "      <th>WITHDRAW_DATE</th>\n",
       "      <th>USER_ID_hash</th>\n",
       "    </tr>\n",
       "  </thead>\n",
       "  <tbody>\n",
       "    <tr>\n",
       "      <th>0</th>\n",
       "      <td>2012-03-28 14:14:18</td>\n",
       "      <td>0</td>\n",
       "      <td>25</td>\n",
       "      <td>2012-12-30</td>\n",
       "      <td>d9dca3cb44bab12ba313eaa681f663eb</td>\n",
       "    </tr>\n",
       "    <tr>\n",
       "      <th>1</th>\n",
       "      <td>2011-05-18 00:41:48</td>\n",
       "      <td>0</td>\n",
       "      <td>34</td>\n",
       "      <td>2012-12-30</td>\n",
       "      <td>560574a339f1b25e57b0221e486907ed</td>\n",
       "    </tr>\n",
       "    <tr>\n",
       "      <th>2</th>\n",
       "      <td>2011-06-13 16:36:58</td>\n",
       "      <td>1</td>\n",
       "      <td>41</td>\n",
       "      <td>2012-12-30</td>\n",
       "      <td>e66ae91b978b3229f8fd858c80615b73</td>\n",
       "    </tr>\n",
       "    <tr>\n",
       "      <th>3</th>\n",
       "      <td>2012-02-08 12:56:15</td>\n",
       "      <td>1</td>\n",
       "      <td>25</td>\n",
       "      <td>2012-12-30</td>\n",
       "      <td>43fc18f32eafb05713ec02935e2c2825</td>\n",
       "    </tr>\n",
       "    <tr>\n",
       "      <th>4</th>\n",
       "      <td>2011-05-22 23:43:56</td>\n",
       "      <td>1</td>\n",
       "      <td>62</td>\n",
       "      <td>2012-12-30</td>\n",
       "      <td>dc6df8aa860f8db0d710ce9d4839840f</td>\n",
       "    </tr>\n",
       "  </tbody>\n",
       "</table>\n",
       "</div>"
      ],
      "text/plain": [
       "             REG_DATE  SEX_ID  AGE WITHDRAW_DATE  \\\n",
       "0 2012-03-28 14:14:18       0   25    2012-12-30   \n",
       "1 2011-05-18 00:41:48       0   34    2012-12-30   \n",
       "2 2011-06-13 16:36:58       1   41    2012-12-30   \n",
       "3 2012-02-08 12:56:15       1   25    2012-12-30   \n",
       "4 2011-05-22 23:43:56       1   62    2012-12-30   \n",
       "\n",
       "                       USER_ID_hash  \n",
       "0  d9dca3cb44bab12ba313eaa681f663eb  \n",
       "1  560574a339f1b25e57b0221e486907ed  \n",
       "2  e66ae91b978b3229f8fd858c80615b73  \n",
       "3  43fc18f32eafb05713ec02935e2c2825  \n",
       "4  dc6df8aa860f8db0d710ce9d4839840f  "
      ]
     },
     "execution_count": 4,
     "metadata": {},
     "output_type": "execute_result"
    }
   ],
   "source": [
    "users = pd.read_csv('user_list.csv', index_col = None)\n",
    "users.drop('PREF_NAME', axis = 1, inplace = True)\n",
    "users['SEX_ID'] = users['SEX_ID'].map({'f':0, 'm': 1})\n",
    "\n",
    "users['REG_DATE'] = pd.to_datetime(users['REG_DATE'])\n",
    "users['WITHDRAW_DATE'] = pd.to_datetime(users['WITHDRAW_DATE'])\n",
    "users['WITHDRAW_DATE'] =users['WITHDRAW_DATE'].fillna(end_time)\n",
    "\n",
    "users.head()"
   ]
  },
  {
   "cell_type": "code",
   "execution_count": 5,
   "metadata": {
    "collapsed": false
   },
   "outputs": [
    {
     "name": "stdout",
     "output_type": "stream",
     "text": [
      "<class 'pandas.core.frame.DataFrame'>\n",
      "Int64Index: 22873 entries, 0 to 22872\n",
      "Data columns (total 5 columns):\n",
      "REG_DATE         22873 non-null datetime64[ns]\n",
      "SEX_ID           22873 non-null int64\n",
      "AGE              22873 non-null int64\n",
      "WITHDRAW_DATE    22873 non-null datetime64[ns]\n",
      "USER_ID_hash     22873 non-null object\n",
      "dtypes: datetime64[ns](2), int64(2), object(1)\n",
      "memory usage: 1.0+ MB\n"
     ]
    }
   ],
   "source": [
    "users.info()"
   ]
  },
  {
   "cell_type": "code",
   "execution_count": 6,
   "metadata": {
    "collapsed": false
   },
   "outputs": [
    {
     "name": "stdout",
     "output_type": "stream",
     "text": [
      "Earliest registration 2010-07-21 13:44:02\n",
      "Time inside active period: False\n"
     ]
    }
   ],
   "source": [
    "print 'Earliest registration', min(users['REG_DATE'])\n",
    "print 'Time inside active period:', min(users['REG_DATE']) >= start_time and min(users['REG_DATE']) <= end_time"
   ]
  },
  {
   "cell_type": "code",
   "execution_count": 7,
   "metadata": {
    "collapsed": false
   },
   "outputs": [
    {
     "name": "stdout",
     "output_type": "stream",
     "text": [
      "Latest registration 2012-06-30 23:29:01\n",
      "Time inside active period: True\n"
     ]
    }
   ],
   "source": [
    "print 'Latest registration', max(users['REG_DATE'])\n",
    "print 'Time inside active period:',max(users['REG_DATE']) >= start_time and max(users['REG_DATE']) <= end_time"
   ]
  },
  {
   "cell_type": "code",
   "execution_count": 8,
   "metadata": {
    "collapsed": false
   },
   "outputs": [
    {
     "name": "stdout",
     "output_type": "stream",
     "text": [
      "Earliest withdrawal 2011-07-07 19:51:30\n",
      "Time inside active period: True\n"
     ]
    }
   ],
   "source": [
    "print 'Earliest withdrawal', min(users['WITHDRAW_DATE'].dropna())\n",
    "print 'Time inside active period:', min(users['WITHDRAW_DATE']) >= start_time and min(users['WITHDRAW_DATE']) <= end_time"
   ]
  },
  {
   "cell_type": "code",
   "execution_count": 9,
   "metadata": {
    "collapsed": false
   },
   "outputs": [
    {
     "name": "stdout",
     "output_type": "stream",
     "text": [
      "Latest withdrawal 2012-12-30 00:00:00\n",
      "Time inside active period: True\n"
     ]
    }
   ],
   "source": [
    "print 'Latest withdrawal', max(users['WITHDRAW_DATE'].dropna())\n",
    "print 'Time inside active period:', max(users['WITHDRAW_DATE']) >= start_time and max(users['WITHDRAW_DATE']) <= end_time"
   ]
  },
  {
   "cell_type": "code",
   "execution_count": 10,
   "metadata": {
    "collapsed": false
   },
   "outputs": [
    {
     "data": {
      "text/html": [
       "<div>\n",
       "<table border=\"1\" class=\"dataframe\">\n",
       "  <thead>\n",
       "    <tr style=\"text-align: right;\">\n",
       "      <th></th>\n",
       "      <th>REG_DATE</th>\n",
       "      <th>SEX_ID</th>\n",
       "      <th>AGE</th>\n",
       "      <th>WITHDRAW_DATE</th>\n",
       "      <th>USER_ID_hash</th>\n",
       "    </tr>\n",
       "  </thead>\n",
       "  <tbody>\n",
       "    <tr>\n",
       "      <th>0</th>\n",
       "      <td>275</td>\n",
       "      <td>0</td>\n",
       "      <td>25</td>\n",
       "      <td>552</td>\n",
       "      <td>d9dca3cb44bab12ba313eaa681f663eb</td>\n",
       "    </tr>\n",
       "    <tr>\n",
       "      <th>1</th>\n",
       "      <td>0</td>\n",
       "      <td>0</td>\n",
       "      <td>34</td>\n",
       "      <td>552</td>\n",
       "      <td>560574a339f1b25e57b0221e486907ed</td>\n",
       "    </tr>\n",
       "    <tr>\n",
       "      <th>2</th>\n",
       "      <td>0</td>\n",
       "      <td>1</td>\n",
       "      <td>41</td>\n",
       "      <td>552</td>\n",
       "      <td>e66ae91b978b3229f8fd858c80615b73</td>\n",
       "    </tr>\n",
       "    <tr>\n",
       "      <th>3</th>\n",
       "      <td>226</td>\n",
       "      <td>1</td>\n",
       "      <td>25</td>\n",
       "      <td>552</td>\n",
       "      <td>43fc18f32eafb05713ec02935e2c2825</td>\n",
       "    </tr>\n",
       "    <tr>\n",
       "      <th>4</th>\n",
       "      <td>0</td>\n",
       "      <td>1</td>\n",
       "      <td>62</td>\n",
       "      <td>552</td>\n",
       "      <td>dc6df8aa860f8db0d710ce9d4839840f</td>\n",
       "    </tr>\n",
       "  </tbody>\n",
       "</table>\n",
       "</div>"
      ],
      "text/plain": [
       "   REG_DATE  SEX_ID  AGE  WITHDRAW_DATE                      USER_ID_hash\n",
       "0       275       0   25            552  d9dca3cb44bab12ba313eaa681f663eb\n",
       "1         0       0   34            552  560574a339f1b25e57b0221e486907ed\n",
       "2         0       1   41            552  e66ae91b978b3229f8fd858c80615b73\n",
       "3       226       1   25            552  43fc18f32eafb05713ec02935e2c2825\n",
       "4         0       1   62            552  dc6df8aa860f8db0d710ce9d4839840f"
      ]
     },
     "execution_count": 10,
     "metadata": {},
     "output_type": "execute_result"
    }
   ],
   "source": [
    "# REG_DATE to number of days since start time. Negative numbers to zero.\n",
    "users['REG_DATE'] = users['REG_DATE'].map(lambda x : 0 if x < start_time else (x - start_time).days)\n",
    "users['WITHDRAW_DATE'] = users['WITHDRAW_DATE'].map(lambda x : (x - start_time).days)\n",
    "\n",
    "users.head()"
   ]
  },
  {
   "cell_type": "code",
   "execution_count": 11,
   "metadata": {
    "collapsed": true
   },
   "outputs": [],
   "source": [
    "users_userID = set(users['USER_ID_hash'].unique())"
   ]
  },
  {
   "cell_type": "markdown",
   "metadata": {},
   "source": [
    "## coupon_list_train_translated.csv\n",
    "## coupon_list_test_translated.csv"
   ]
  },
  {
   "cell_type": "code",
   "execution_count": 12,
   "metadata": {
    "collapsed": false
   },
   "outputs": [
    {
     "name": "stdout",
     "output_type": "stream",
     "text": [
      "<class 'pandas.core.frame.DataFrame'>\n",
      "Int64Index: 19723 entries, 0 to 309\n",
      "Data columns (total 25 columns):\n",
      "CAPSULE_TEXT                  19723 non-null object\n",
      "GENRE_NAME                    19723 non-null object\n",
      "PRICE_RATE                    19723 non-null int64\n",
      "CATALOG_PRICE                 19723 non-null int64\n",
      "DISCOUNT_PRICE                19723 non-null int64\n",
      "DISPFROM                      19723 non-null object\n",
      "DISPEND                       19723 non-null object\n",
      "DISPPERIOD                    19723 non-null int64\n",
      "VALIDFROM                     13480 non-null object\n",
      "VALIDEND                      13480 non-null object\n",
      "VALIDPERIOD                   13480 non-null float64\n",
      "USABLE_DATE_MON               12617 non-null float64\n",
      "USABLE_DATE_TUE               12617 non-null float64\n",
      "USABLE_DATE_WED               12617 non-null float64\n",
      "USABLE_DATE_THU               12617 non-null float64\n",
      "USABLE_DATE_FRI               12617 non-null float64\n",
      "USABLE_DATE_SAT               12617 non-null float64\n",
      "USABLE_DATE_SUN               12617 non-null float64\n",
      "USABLE_DATE_HOLIDAY           12617 non-null float64\n",
      "USABLE_DATE_BEFORE_HOLIDAY    12617 non-null float64\n",
      "large_area_name               19723 non-null object\n",
      "ken_name                      19723 non-null object\n",
      "small_area_name               19723 non-null object\n",
      "COUPON_ID_hash                19723 non-null object\n",
      "test                          19723 non-null int64\n",
      "dtypes: float64(10), int64(5), object(10)\n",
      "memory usage: 3.9+ MB\n"
     ]
    }
   ],
   "source": [
    "train = pd.read_csv('coupon_list_train_translated.csv', index_col = None)\n",
    "train['test'] = 0\n",
    "test = pd.read_csv('coupon_list_test_translated.csv', index_col = None)\n",
    "test['test'] = 1\n",
    "\n",
    "joined = pd.concat([train, test])\n",
    "joined.info()"
   ]
  },
  {
   "cell_type": "code",
   "execution_count": 125,
   "metadata": {
    "collapsed": false
   },
   "outputs": [
    {
     "name": "stdout",
     "output_type": "stream",
     "text": [
      "Earliest start of coupon valid period in train: 2011-07-02\n",
      "Latest end of coupon valid period in train: 2012-12-25 \n",
      "\n",
      "Earliest start of coupon valid period in test: 2012-06-28\n",
      "Latest end of coupon valid period in test: 2012-12-31 \n",
      "\n",
      "In submission, can drop all users that withdrew before 2012-06-28 or registered after 2012-12-31.\n",
      "Withdraw date should be more than 367\n",
      "Registration date should be less then 553\n"
     ]
    }
   ],
   "source": [
    "print 'Earliest start of coupon valid period in train:', min(train['VALIDFROM'].dropna())\n",
    "print 'Latest end of coupon valid period in train:', max(train['VALIDEND'].dropna()), '\\n'\n",
    "\n",
    "print 'Earliest start of coupon valid period in test:', min(test['VALIDFROM'].dropna())\n",
    "print 'Latest end of coupon valid period in test:', max(test['VALIDEND'].dropna()), '\\n'\n",
    "\n",
    "print 'In submission, can drop all users that withdrew before 2012-06-28 or registered after 2012-12-31.'\n",
    "print 'Withdraw date should be more than', (pd.to_datetime( min(test['VALIDFROM'].dropna()) ) - start_time).days\n",
    "print 'Registration date should be less then', (pd.to_datetime( max(test['VALIDEND'].dropna()) ) - start_time).days"
   ]
  },
  {
   "cell_type": "code",
   "execution_count": 126,
   "metadata": {
    "collapsed": false
   },
   "outputs": [
    {
     "name": "stdout",
     "output_type": "stream",
     "text": [
      "<class 'pandas.core.frame.DataFrame'>\n",
      "Int64Index: 310 entries, 0 to 309\n",
      "Data columns (total 25 columns):\n",
      "CAPSULE_TEXT                  310 non-null object\n",
      "GENRE_NAME                    310 non-null object\n",
      "PRICE_RATE                    310 non-null int64\n",
      "CATALOG_PRICE                 310 non-null int64\n",
      "DISCOUNT_PRICE                310 non-null int64\n",
      "DISPFROM                      310 non-null object\n",
      "DISPEND                       310 non-null object\n",
      "DISPPERIOD                    310 non-null int64\n",
      "VALIDFROM                     214 non-null object\n",
      "VALIDEND                      214 non-null object\n",
      "VALIDPERIOD                   214 non-null float64\n",
      "USABLE_DATE_MON               209 non-null float64\n",
      "USABLE_DATE_TUE               209 non-null float64\n",
      "USABLE_DATE_WED               209 non-null float64\n",
      "USABLE_DATE_THU               209 non-null float64\n",
      "USABLE_DATE_FRI               209 non-null float64\n",
      "USABLE_DATE_SAT               209 non-null float64\n",
      "USABLE_DATE_SUN               209 non-null float64\n",
      "USABLE_DATE_HOLIDAY           209 non-null float64\n",
      "USABLE_DATE_BEFORE_HOLIDAY    209 non-null float64\n",
      "large_area_name               310 non-null object\n",
      "ken_name                      310 non-null object\n",
      "small_area_name               310 non-null object\n",
      "COUPON_ID_hash                310 non-null object\n",
      "test                          310 non-null int64\n",
      "dtypes: float64(10), int64(5), object(10)\n",
      "memory usage: 63.0+ KB\n"
     ]
    }
   ],
   "source": [
    "test.info()"
   ]
  },
  {
   "cell_type": "code",
   "execution_count": 13,
   "metadata": {
    "collapsed": false
   },
   "outputs": [],
   "source": [
    "# USABLE_DATE_SOMETHING: replace 2 and NaN with 1\n",
    "for col in joined.iloc[:, 11:20]:\n",
    "    joined[col] = joined[col].map({0:0, 1:1, 2:1})\n",
    "    joined[col] = joined[col].fillna(1)"
   ]
  },
  {
   "cell_type": "code",
   "execution_count": 14,
   "metadata": {
    "collapsed": false
   },
   "outputs": [],
   "source": [
    "# VALIDFROM to number of days since start time\n",
    "# Dirty solution? Assumes coupons with NaN action period are active all time\n",
    "joined.drop('VALIDEND', axis = 1, inplace = True)\n",
    "joined['VALIDPERIOD'] = joined['VALIDPERIOD'].fillna(time_length)\n",
    "joined['VALIDPERIOD'] = joined['VALIDPERIOD'].map(int)\n",
    "\n",
    "joined['VALIDFROM'] = pd.to_datetime(joined['VALIDFROM'])\n",
    "joined['VALIDFROM'] = joined['VALIDFROM'].fillna(start_time)\n",
    "joined['VALIDFROM'] = joined['VALIDFROM'].map(lambda x: (x - start_time).days)"
   ]
  },
  {
   "cell_type": "code",
   "execution_count": 15,
   "metadata": {
    "collapsed": true
   },
   "outputs": [],
   "source": [
    "# DISPFROM to number of days since start time\n",
    "joined.drop('DISPEND', axis = 1, inplace = True)\n",
    "\n",
    "joined['DISPFROM'] = pd.to_datetime(joined['DISPFROM'])\n",
    "joined['DISPFROM'] = joined['DISPFROM'].map(lambda x: (x - start_time).days)"
   ]
  },
  {
   "cell_type": "code",
   "execution_count": 16,
   "metadata": {
    "collapsed": false
   },
   "outputs": [
    {
     "name": "stdout",
     "output_type": "stream",
     "text": [
      "<class 'pandas.core.frame.DataFrame'>\n",
      "Int64Index: 19723 entries, 0 to 309\n",
      "Data columns (total 23 columns):\n",
      "CAPSULE_TEXT                  19723 non-null object\n",
      "GENRE_NAME                    19723 non-null object\n",
      "PRICE_RATE                    19723 non-null int64\n",
      "CATALOG_PRICE                 19723 non-null int64\n",
      "DISCOUNT_PRICE                19723 non-null int64\n",
      "DISPFROM                      19723 non-null int64\n",
      "DISPPERIOD                    19723 non-null int64\n",
      "VALIDFROM                     19723 non-null int64\n",
      "VALIDPERIOD                   19723 non-null int64\n",
      "USABLE_DATE_MON               19723 non-null float64\n",
      "USABLE_DATE_TUE               19723 non-null float64\n",
      "USABLE_DATE_WED               19723 non-null float64\n",
      "USABLE_DATE_THU               19723 non-null float64\n",
      "USABLE_DATE_FRI               19723 non-null float64\n",
      "USABLE_DATE_SAT               19723 non-null float64\n",
      "USABLE_DATE_SUN               19723 non-null float64\n",
      "USABLE_DATE_HOLIDAY           19723 non-null float64\n",
      "USABLE_DATE_BEFORE_HOLIDAY    19723 non-null float64\n",
      "large_area_name               19723 non-null object\n",
      "ken_name                      19723 non-null object\n",
      "small_area_name               19723 non-null object\n",
      "COUPON_ID_hash                19723 non-null object\n",
      "test                          19723 non-null int64\n",
      "dtypes: float64(9), int64(8), object(6)\n",
      "memory usage: 3.6+ MB\n"
     ]
    }
   ],
   "source": [
    "joined.info()"
   ]
  },
  {
   "cell_type": "code",
   "execution_count": 17,
   "metadata": {
    "collapsed": false
   },
   "outputs": [
    {
     "data": {
      "text/html": [
       "<div>\n",
       "<table border=\"1\" class=\"dataframe\">\n",
       "  <thead>\n",
       "    <tr style=\"text-align: right;\">\n",
       "      <th></th>\n",
       "      <th>CAPSULE_TEXT</th>\n",
       "      <th>GENRE_NAME</th>\n",
       "      <th>PRICE_RATE</th>\n",
       "      <th>CATALOG_PRICE</th>\n",
       "      <th>DISCOUNT_PRICE</th>\n",
       "      <th>DISPFROM</th>\n",
       "      <th>DISPPERIOD</th>\n",
       "      <th>VALIDFROM</th>\n",
       "      <th>VALIDPERIOD</th>\n",
       "      <th>USABLE_DATE_MON</th>\n",
       "      <th>...</th>\n",
       "      <th>USABLE_DATE_FRI</th>\n",
       "      <th>USABLE_DATE_SAT</th>\n",
       "      <th>USABLE_DATE_SUN</th>\n",
       "      <th>USABLE_DATE_HOLIDAY</th>\n",
       "      <th>USABLE_DATE_BEFORE_HOLIDAY</th>\n",
       "      <th>large_area_name</th>\n",
       "      <th>ken_name</th>\n",
       "      <th>small_area_name</th>\n",
       "      <th>COUPON_ID_hash</th>\n",
       "      <th>test</th>\n",
       "    </tr>\n",
       "  </thead>\n",
       "  <tbody>\n",
       "    <tr>\n",
       "      <th>0</th>\n",
       "      <td>Food</td>\n",
       "      <td>Food</td>\n",
       "      <td>50</td>\n",
       "      <td>3000</td>\n",
       "      <td>1500</td>\n",
       "      <td>11</td>\n",
       "      <td>1</td>\n",
       "      <td>13</td>\n",
       "      <td>151</td>\n",
       "      <td>1</td>\n",
       "      <td>...</td>\n",
       "      <td>0</td>\n",
       "      <td>0</td>\n",
       "      <td>1</td>\n",
       "      <td>1</td>\n",
       "      <td>0</td>\n",
       "      <td>関東</td>\n",
       "      <td>埼玉県</td>\n",
       "      <td>埼玉</td>\n",
       "      <td>6b263844241eea98c5a97f1335ea82af</td>\n",
       "      <td>0</td>\n",
       "    </tr>\n",
       "    <tr>\n",
       "      <th>1</th>\n",
       "      <td>Food</td>\n",
       "      <td>Food</td>\n",
       "      <td>51</td>\n",
       "      <td>2080</td>\n",
       "      <td>1000</td>\n",
       "      <td>4</td>\n",
       "      <td>1</td>\n",
       "      <td>6</td>\n",
       "      <td>154</td>\n",
       "      <td>1</td>\n",
       "      <td>...</td>\n",
       "      <td>1</td>\n",
       "      <td>1</td>\n",
       "      <td>1</td>\n",
       "      <td>1</td>\n",
       "      <td>1</td>\n",
       "      <td>関東</td>\n",
       "      <td>千葉県</td>\n",
       "      <td>千葉</td>\n",
       "      <td>cc031f250e8bad1e24060263b9fc0ddd</td>\n",
       "      <td>0</td>\n",
       "    </tr>\n",
       "    <tr>\n",
       "      <th>2</th>\n",
       "      <td>Food</td>\n",
       "      <td>Food</td>\n",
       "      <td>50</td>\n",
       "      <td>7000</td>\n",
       "      <td>3500</td>\n",
       "      <td>15</td>\n",
       "      <td>3</td>\n",
       "      <td>19</td>\n",
       "      <td>179</td>\n",
       "      <td>0</td>\n",
       "      <td>...</td>\n",
       "      <td>1</td>\n",
       "      <td>1</td>\n",
       "      <td>1</td>\n",
       "      <td>1</td>\n",
       "      <td>1</td>\n",
       "      <td>関東</td>\n",
       "      <td>千葉県</td>\n",
       "      <td>千葉</td>\n",
       "      <td>ba5e9b7453ca52ff711635a5d2e8102d</td>\n",
       "      <td>0</td>\n",
       "    </tr>\n",
       "    <tr>\n",
       "      <th>3</th>\n",
       "      <td>Food</td>\n",
       "      <td>Food</td>\n",
       "      <td>50</td>\n",
       "      <td>3000</td>\n",
       "      <td>1500</td>\n",
       "      <td>12</td>\n",
       "      <td>2</td>\n",
       "      <td>15</td>\n",
       "      <td>142</td>\n",
       "      <td>1</td>\n",
       "      <td>...</td>\n",
       "      <td>0</td>\n",
       "      <td>0</td>\n",
       "      <td>1</td>\n",
       "      <td>1</td>\n",
       "      <td>1</td>\n",
       "      <td>関東</td>\n",
       "      <td>千葉県</td>\n",
       "      <td>千葉</td>\n",
       "      <td>3e1ffbedca3569f9e8032d401e8cb4e6</td>\n",
       "      <td>0</td>\n",
       "    </tr>\n",
       "    <tr>\n",
       "      <th>4</th>\n",
       "      <td>Food</td>\n",
       "      <td>Food</td>\n",
       "      <td>50</td>\n",
       "      <td>2000</td>\n",
       "      <td>1000</td>\n",
       "      <td>8</td>\n",
       "      <td>1</td>\n",
       "      <td>10</td>\n",
       "      <td>176</td>\n",
       "      <td>1</td>\n",
       "      <td>...</td>\n",
       "      <td>0</td>\n",
       "      <td>0</td>\n",
       "      <td>1</td>\n",
       "      <td>1</td>\n",
       "      <td>0</td>\n",
       "      <td>関東</td>\n",
       "      <td>千葉県</td>\n",
       "      <td>千葉</td>\n",
       "      <td>782934b6c815b4030ea204eef7d4a734</td>\n",
       "      <td>0</td>\n",
       "    </tr>\n",
       "  </tbody>\n",
       "</table>\n",
       "<p>5 rows × 23 columns</p>\n",
       "</div>"
      ],
      "text/plain": [
       "  CAPSULE_TEXT GENRE_NAME  PRICE_RATE  CATALOG_PRICE  DISCOUNT_PRICE  \\\n",
       "0         Food       Food          50           3000            1500   \n",
       "1         Food       Food          51           2080            1000   \n",
       "2         Food       Food          50           7000            3500   \n",
       "3         Food       Food          50           3000            1500   \n",
       "4         Food       Food          50           2000            1000   \n",
       "\n",
       "   DISPFROM  DISPPERIOD  VALIDFROM  VALIDPERIOD  USABLE_DATE_MON ...   \\\n",
       "0        11           1         13          151                1 ...    \n",
       "1         4           1          6          154                1 ...    \n",
       "2        15           3         19          179                0 ...    \n",
       "3        12           2         15          142                1 ...    \n",
       "4         8           1         10          176                1 ...    \n",
       "\n",
       "   USABLE_DATE_FRI  USABLE_DATE_SAT  USABLE_DATE_SUN  USABLE_DATE_HOLIDAY  \\\n",
       "0                0                0                1                    1   \n",
       "1                1                1                1                    1   \n",
       "2                1                1                1                    1   \n",
       "3                0                0                1                    1   \n",
       "4                0                0                1                    1   \n",
       "\n",
       "   USABLE_DATE_BEFORE_HOLIDAY  large_area_name  ken_name  small_area_name  \\\n",
       "0                           0               関東       埼玉県               埼玉   \n",
       "1                           1               関東       千葉県               千葉   \n",
       "2                           1               関東       千葉県               千葉   \n",
       "3                           1               関東       千葉県               千葉   \n",
       "4                           0               関東       千葉県               千葉   \n",
       "\n",
       "                     COUPON_ID_hash test  \n",
       "0  6b263844241eea98c5a97f1335ea82af    0  \n",
       "1  cc031f250e8bad1e24060263b9fc0ddd    0  \n",
       "2  ba5e9b7453ca52ff711635a5d2e8102d    0  \n",
       "3  3e1ffbedca3569f9e8032d401e8cb4e6    0  \n",
       "4  782934b6c815b4030ea204eef7d4a734    0  \n",
       "\n",
       "[5 rows x 23 columns]"
      ]
     },
     "execution_count": 17,
     "metadata": {},
     "output_type": "execute_result"
    }
   ],
   "source": [
    "joined.head()"
   ]
  },
  {
   "cell_type": "code",
   "execution_count": 18,
   "metadata": {
    "collapsed": false
   },
   "outputs": [
    {
     "name": "stdout",
     "output_type": "stream",
     "text": [
      "Number of unique entries in CAPSULE_TEXT 24\n",
      "Number of unique entries in GENRE_NAME 13\n",
      "Number of unique entries in PRICE_RATE 71\n",
      "Number of unique entries in CATALOG_PRICE 2435\n",
      "Number of unique entries in DISCOUNT_PRICE 1118\n",
      "Number of unique entries in DISPFROM 370\n",
      "Number of unique entries in DISPPERIOD 18\n",
      "Number of unique entries in VALIDFROM 388\n",
      "Number of unique entries in VALIDPERIOD 181\n",
      "Number of unique entries in USABLE_DATE_MON 2\n",
      "Number of unique entries in USABLE_DATE_TUE 2\n",
      "Number of unique entries in USABLE_DATE_WED 2\n",
      "Number of unique entries in USABLE_DATE_THU 2\n",
      "Number of unique entries in USABLE_DATE_FRI 2\n",
      "Number of unique entries in USABLE_DATE_SAT 2\n",
      "Number of unique entries in USABLE_DATE_SUN 2\n",
      "Number of unique entries in USABLE_DATE_HOLIDAY 2\n",
      "Number of unique entries in USABLE_DATE_BEFORE_HOLIDAY 2\n",
      "Number of unique entries in large_area_name 9\n",
      "Number of unique entries in ken_name 47\n",
      "Number of unique entries in small_area_name 55\n",
      "Number of unique entries in COUPON_ID_hash 19723\n",
      "Number of unique entries in test 2\n"
     ]
    }
   ],
   "source": [
    "for col in joined:\n",
    "    print 'Number of unique entries in', col, len(joined[col].unique())"
   ]
  },
  {
   "cell_type": "code",
   "execution_count": 19,
   "metadata": {
    "collapsed": false
   },
   "outputs": [
    {
     "name": "stdout",
     "output_type": "stream",
     "text": [
      "Minimum entry in PRICE_RATE 0\n",
      "Minimum entry in CATALOG_PRICE 1\n",
      "Minimum entry in DISCOUNT_PRICE 0\n",
      "Minimum entry in DISPFROM 0\n",
      "Minimum entry in DISPPERIOD 0\n",
      "Minimum entry in VALIDFROM 0\n",
      "Minimum entry in VALIDPERIOD 0\n"
     ]
    }
   ],
   "source": [
    "for col in joined:\n",
    "    if joined[col].dtype != 'object' and len(joined[col].unique()) > 2:\n",
    "        print 'Minimum entry in', col, min(joined[col].unique())"
   ]
  },
  {
   "cell_type": "code",
   "execution_count": 20,
   "metadata": {
    "collapsed": false
   },
   "outputs": [
    {
     "name": "stdout",
     "output_type": "stream",
     "text": [
      "Maximum entry in PRICE_RATE 100\n",
      "Maximum entry in CATALOG_PRICE 680000\n",
      "Maximum entry in DISCOUNT_PRICE 100000\n",
      "Maximum entry in DISPFROM 369\n",
      "Maximum entry in DISPPERIOD 36\n",
      "Maximum entry in VALIDFROM 433\n",
      "Maximum entry in VALIDPERIOD 552\n"
     ]
    }
   ],
   "source": [
    "for col in joined:\n",
    "    if joined[col].dtype != 'object' and len(joined[col].unique()) > 2:\n",
    "        print 'Maximum entry in', col, max(joined[col].unique())"
   ]
  },
  {
   "cell_type": "code",
   "execution_count": 21,
   "metadata": {
    "collapsed": false
   },
   "outputs": [
    {
     "name": "stdout",
     "output_type": "stream",
     "text": [
      "Second largest entry in PRICE_RATE 97\n",
      "Second largest entry in CATALOG_PRICE 300000\n",
      "Second largest entry in DISCOUNT_PRICE 99225\n",
      "Second largest entry in DISPFROM 368\n",
      "Second largest entry in DISPPERIOD 29\n",
      "Second largest entry in VALIDFROM 432\n",
      "Second largest entry in VALIDPERIOD 179\n"
     ]
    }
   ],
   "source": [
    "for col in joined:\n",
    "    if joined[col].dtype != 'object' and len(joined[col].unique()) > 2:\n",
    "        print 'Second largest entry in', col, np.sort(joined[col].unique())[-2]"
   ]
  },
  {
   "cell_type": "code",
   "execution_count": 22,
   "metadata": {
    "collapsed": true
   },
   "outputs": [],
   "source": [
    "joined_couponID = set(joined['COUPON_ID_hash'].unique())\n",
    "train_couponID = set(train['COUPON_ID_hash'].unique())\n",
    "test_couponID = set(test['COUPON_ID_hash'].unique())"
   ]
  },
  {
   "cell_type": "markdown",
   "metadata": {},
   "source": [
    "## coupon_visit_train.csv"
   ]
  },
  {
   "cell_type": "code",
   "execution_count": 91,
   "metadata": {
    "collapsed": false
   },
   "outputs": [],
   "source": [
    "visit = pd.read_csv('coupon_visit_train.csv')\n",
    "visit.drop(['PAGE_SERIAL', 'REFERRER_hash', 'SESSION_ID_hash'], axis = 1, inplace = True)\n",
    "\n",
    "# I_DATE to number of days since start time. Negative numbers to zero.\n",
    "# visit['I_DATE'] = pd.to_datetime(visit['I_DATE'])\n",
    "# visit['I_DATE'] = visit['I_DATE'].map(lambda x : 0 if x < start_time else (x - start_time).days)\n",
    "# print 'Latest visit day:', max(visit['I_DATE'])\n",
    "\n",
    "# Actually, there is no sense in keeping date, because we don't have viewing info for test set anyway\n",
    "# I also drop all rows that used to differ by date only and now are duplicates\n",
    "visit.drop('I_DATE', axis = 1, inplace = True)\n",
    "visit = visit.drop_duplicates()"
   ]
  },
  {
   "cell_type": "code",
   "execution_count": 93,
   "metadata": {
    "collapsed": false
   },
   "outputs": [
    {
     "data": {
      "text/html": [
       "<div>\n",
       "<table border=\"1\" class=\"dataframe\">\n",
       "  <thead>\n",
       "    <tr style=\"text-align: right;\">\n",
       "      <th></th>\n",
       "      <th>PURCHASE_FLG</th>\n",
       "      <th>VIEW_COUPON_ID_hash</th>\n",
       "      <th>USER_ID_hash</th>\n",
       "      <th>PURCHASEID_hash</th>\n",
       "    </tr>\n",
       "  </thead>\n",
       "  <tbody>\n",
       "    <tr>\n",
       "      <th>0</th>\n",
       "      <td>0</td>\n",
       "      <td>34c48f84026e08355dc3bd19b427f09a</td>\n",
       "      <td>d9dca3cb44bab12ba313eaa681f663eb</td>\n",
       "      <td>NaN</td>\n",
       "    </tr>\n",
       "    <tr>\n",
       "      <th>2</th>\n",
       "      <td>0</td>\n",
       "      <td>17c450c3b470c045d35ec22b02daa690</td>\n",
       "      <td>d9dca3cb44bab12ba313eaa681f663eb</td>\n",
       "      <td>NaN</td>\n",
       "    </tr>\n",
       "    <tr>\n",
       "      <th>3</th>\n",
       "      <td>0</td>\n",
       "      <td>91a15e6a95d09e5e01b50747833b317d</td>\n",
       "      <td>d9dca3cb44bab12ba313eaa681f663eb</td>\n",
       "      <td>NaN</td>\n",
       "    </tr>\n",
       "    <tr>\n",
       "      <th>4</th>\n",
       "      <td>0</td>\n",
       "      <td>96fcbc8f6e45d5a2de1661eb140c6e82</td>\n",
       "      <td>d9dca3cb44bab12ba313eaa681f663eb</td>\n",
       "      <td>NaN</td>\n",
       "    </tr>\n",
       "    <tr>\n",
       "      <th>7</th>\n",
       "      <td>0</td>\n",
       "      <td>13090b0c75d7d2d51b15c51bfa7a90fe</td>\n",
       "      <td>d9dca3cb44bab12ba313eaa681f663eb</td>\n",
       "      <td>NaN</td>\n",
       "    </tr>\n",
       "  </tbody>\n",
       "</table>\n",
       "</div>"
      ],
      "text/plain": [
       "   PURCHASE_FLG               VIEW_COUPON_ID_hash  \\\n",
       "0             0  34c48f84026e08355dc3bd19b427f09a   \n",
       "2             0  17c450c3b470c045d35ec22b02daa690   \n",
       "3             0  91a15e6a95d09e5e01b50747833b317d   \n",
       "4             0  96fcbc8f6e45d5a2de1661eb140c6e82   \n",
       "7             0  13090b0c75d7d2d51b15c51bfa7a90fe   \n",
       "\n",
       "                       USER_ID_hash PURCHASEID_hash  \n",
       "0  d9dca3cb44bab12ba313eaa681f663eb             NaN  \n",
       "2  d9dca3cb44bab12ba313eaa681f663eb             NaN  \n",
       "3  d9dca3cb44bab12ba313eaa681f663eb             NaN  \n",
       "4  d9dca3cb44bab12ba313eaa681f663eb             NaN  \n",
       "7  d9dca3cb44bab12ba313eaa681f663eb             NaN  "
      ]
     },
     "execution_count": 93,
     "metadata": {},
     "output_type": "execute_result"
    }
   ],
   "source": [
    "visit.head()"
   ]
  },
  {
   "cell_type": "code",
   "execution_count": 94,
   "metadata": {
    "collapsed": false
   },
   "outputs": [
    {
     "name": "stdout",
     "output_type": "stream",
     "text": [
      "<class 'pandas.core.frame.DataFrame'>\n",
      "Int64Index: 1965074 entries, 0 to 2833176\n",
      "Data columns (total 4 columns):\n",
      "PURCHASE_FLG           int64\n",
      "VIEW_COUPON_ID_hash    object\n",
      "USER_ID_hash           object\n",
      "PURCHASEID_hash        object\n",
      "dtypes: int64(1), object(3)\n",
      "memory usage: 75.0+ MB\n"
     ]
    }
   ],
   "source": [
    "visit.info()"
   ]
  },
  {
   "cell_type": "code",
   "execution_count": 95,
   "metadata": {
    "collapsed": false
   },
   "outputs": [
    {
     "data": {
      "text/plain": [
       "PURCHASE_FLG           1965074\n",
       "VIEW_COUPON_ID_hash    1965074\n",
       "USER_ID_hash           1965074\n",
       "PURCHASEID_hash         114774\n",
       "dtype: int64"
      ]
     },
     "execution_count": 95,
     "metadata": {},
     "output_type": "execute_result"
    }
   ],
   "source": [
    "visit.count()"
   ]
  },
  {
   "cell_type": "code",
   "execution_count": 96,
   "metadata": {
    "collapsed": false
   },
   "outputs": [
    {
     "name": "stdout",
     "output_type": "stream",
     "text": [
      "Number of unique entries in PURCHASE_FLG 2\n",
      "Number of unique entries in VIEW_COUPON_ID_hash 32628\n",
      "Number of unique entries in USER_ID_hash 22805\n",
      "Number of unique entries in PURCHASEID_hash 114775\n"
     ]
    }
   ],
   "source": [
    "for col in visit:\n",
    "    print 'Number of unique entries in', col, len(visit[col].unique())"
   ]
  },
  {
   "cell_type": "code",
   "execution_count": 97,
   "metadata": {
    "collapsed": false
   },
   "outputs": [
    {
     "name": "stdout",
     "output_type": "stream",
     "text": [
      "Number of non-zero PURCHASE_FLG entries: 114774\n",
      "Fraction of non-zero PURCHASE_FLG entries: 0.0584069607557\n"
     ]
    }
   ],
   "source": [
    "print 'Number of non-zero PURCHASE_FLG entries:', sum(visit['PURCHASE_FLG'])\n",
    "print 'Fraction of non-zero PURCHASE_FLG entries:', sum(visit['PURCHASE_FLG']) / len(visit)"
   ]
  },
  {
   "cell_type": "code",
   "execution_count": 98,
   "metadata": {
    "collapsed": false
   },
   "outputs": [
    {
     "name": "stdout",
     "output_type": "stream",
     "text": [
      "Unique users in users list: 22873\n",
      "Unique users in visit list: 22805\n",
      "Intersection beween sets of users: 22805\n"
     ]
    }
   ],
   "source": [
    "visit_userID = set(visit['USER_ID_hash'].unique())\n",
    "\n",
    "print 'Unique users in users list:', len(users_userID)\n",
    "print 'Unique users in visit list:', len(visit_userID)\n",
    "print 'Intersection beween sets of users:', len(users_userID.intersection(visit_userID))"
   ]
  },
  {
   "cell_type": "code",
   "execution_count": 99,
   "metadata": {
    "collapsed": false
   },
   "outputs": [
    {
     "name": "stdout",
     "output_type": "stream",
     "text": [
      "Unique coupons in train list: 19413\n",
      "Unique coupons in test list: 310\n",
      "Unique coupons in visit list: 32628\n",
      "Intersection beween train and visit sets of coupons: 19412\n",
      "Intersection beween test and visit sets of coupons: 39\n"
     ]
    }
   ],
   "source": [
    "visit_couponID = set(visit['VIEW_COUPON_ID_hash'].unique())\n",
    "\n",
    "print 'Unique coupons in train list:', len(train_couponID)\n",
    "print 'Unique coupons in test list:', len(test_couponID)\n",
    "print 'Unique coupons in visit list:', len(visit_couponID)\n",
    "\n",
    "print 'Intersection beween train and visit sets of coupons:', len(train_couponID.intersection(visit_couponID))\n",
    "print 'Intersection beween test and visit sets of coupons:', len(test_couponID.intersection(visit_couponID))"
   ]
  },
  {
   "cell_type": "code",
   "execution_count": 103,
   "metadata": {
    "collapsed": false
   },
   "outputs": [
    {
     "data": {
      "text/html": [
       "<div>\n",
       "<table border=\"1\" class=\"dataframe\">\n",
       "  <thead>\n",
       "    <tr style=\"text-align: right;\">\n",
       "      <th></th>\n",
       "      <th></th>\n",
       "      <th>PURCHASE_FLG</th>\n",
       "    </tr>\n",
       "    <tr>\n",
       "      <th>USER_ID_hash</th>\n",
       "      <th>VIEW_COUPON_ID_hash</th>\n",
       "      <th></th>\n",
       "    </tr>\n",
       "  </thead>\n",
       "  <tbody>\n",
       "    <tr>\n",
       "      <th rowspan=\"30\" valign=\"top\">0000b53e182165208887ba65c079fc21</th>\n",
       "      <th>0645faa156f34104e6d8910160868f9f</th>\n",
       "      <td>0</td>\n",
       "    </tr>\n",
       "    <tr>\n",
       "      <th>18097cd25ab6b7e8eb0481b0e3a3cfd8</th>\n",
       "      <td>0</td>\n",
       "    </tr>\n",
       "    <tr>\n",
       "      <th>1b581f2ed53f2f2eafbc1560db640194</th>\n",
       "      <td>0</td>\n",
       "    </tr>\n",
       "    <tr>\n",
       "      <th>1d04e76c44c231d5d05dc1634d20fe8c</th>\n",
       "      <td>0</td>\n",
       "    </tr>\n",
       "    <tr>\n",
       "      <th>2962b9f2ec7ecde9daddf53dd3118526</th>\n",
       "      <td>0</td>\n",
       "    </tr>\n",
       "    <tr>\n",
       "      <th>2ab16b8f5aeead6d31dbdb9bd59c41db</th>\n",
       "      <td>0</td>\n",
       "    </tr>\n",
       "    <tr>\n",
       "      <th>2ccbe8c179e4f956b367ad6c4a74a23e</th>\n",
       "      <td>0</td>\n",
       "    </tr>\n",
       "    <tr>\n",
       "      <th>2d231a9ce88beb42b0952f59d3e0e8e8</th>\n",
       "      <td>0</td>\n",
       "    </tr>\n",
       "    <tr>\n",
       "      <th>300bffc61bc80717d7a2a2c22965fa58</th>\n",
       "      <td>0</td>\n",
       "    </tr>\n",
       "    <tr>\n",
       "      <th>35dd6298ee5e42db692c2c211a5f5eba</th>\n",
       "      <td>0</td>\n",
       "    </tr>\n",
       "    <tr>\n",
       "      <th>35ed2dd67171a5defaac71ea31298f07</th>\n",
       "      <td>0</td>\n",
       "    </tr>\n",
       "    <tr>\n",
       "      <th>36b2cae27d8d37e322ce0f20d02d6ede</th>\n",
       "      <td>0</td>\n",
       "    </tr>\n",
       "    <tr>\n",
       "      <th>38beeadfe3f97e640367eddae4a8c1b5</th>\n",
       "      <td>1</td>\n",
       "    </tr>\n",
       "    <tr>\n",
       "      <th>3a55fd3a869b1674efa364debfa4442b</th>\n",
       "      <td>0</td>\n",
       "    </tr>\n",
       "    <tr>\n",
       "      <th>3c7e742af0db59fb6d714b3c6f5845b9</th>\n",
       "      <td>0</td>\n",
       "    </tr>\n",
       "    <tr>\n",
       "      <th>41103c9fa867c654dc914604ccb417b6</th>\n",
       "      <td>0</td>\n",
       "    </tr>\n",
       "    <tr>\n",
       "      <th>41ecb75dad1a4ea6d06e828d314bb278</th>\n",
       "      <td>0</td>\n",
       "    </tr>\n",
       "    <tr>\n",
       "      <th>42945e9c231f1b8cfe6642d823a19401</th>\n",
       "      <td>0</td>\n",
       "    </tr>\n",
       "    <tr>\n",
       "      <th>460b8ff0668e1237e4e63e3f825978da</th>\n",
       "      <td>0</td>\n",
       "    </tr>\n",
       "    <tr>\n",
       "      <th>4f3c3667db2231befb2b309d0f3720f8</th>\n",
       "      <td>0</td>\n",
       "    </tr>\n",
       "    <tr>\n",
       "      <th>58e03f650bb4fba1f19113340a3a50a3</th>\n",
       "      <td>0</td>\n",
       "    </tr>\n",
       "    <tr>\n",
       "      <th>660f2b8e209fd7deb21e19307cd8135a</th>\n",
       "      <td>0</td>\n",
       "    </tr>\n",
       "    <tr>\n",
       "      <th>66518e59026acaf78dbb9a57d0f5e793</th>\n",
       "      <td>0</td>\n",
       "    </tr>\n",
       "    <tr>\n",
       "      <th>66a87d147ccbaa07e2e490937977227b</th>\n",
       "      <td>0</td>\n",
       "    </tr>\n",
       "    <tr>\n",
       "      <th>670be217dd99b181cc8a6a4db60df0d5</th>\n",
       "      <td>0</td>\n",
       "    </tr>\n",
       "    <tr>\n",
       "      <th>6d74e2f933e60fe3a533ff88523a22fb</th>\n",
       "      <td>0</td>\n",
       "    </tr>\n",
       "    <tr>\n",
       "      <th>72c3429137ec83cfe48e3ab49d8c6007</th>\n",
       "      <td>0</td>\n",
       "    </tr>\n",
       "    <tr>\n",
       "      <th>732c654dda32d8575f85657f24ea11c5</th>\n",
       "      <td>0</td>\n",
       "    </tr>\n",
       "    <tr>\n",
       "      <th>782762327e188a712b991d26574f8806</th>\n",
       "      <td>0</td>\n",
       "    </tr>\n",
       "    <tr>\n",
       "      <th>7d3cdf7086f2062369ffb6c714a1beb6</th>\n",
       "      <td>0</td>\n",
       "    </tr>\n",
       "    <tr>\n",
       "      <th>...</th>\n",
       "      <th>...</th>\n",
       "      <td>...</td>\n",
       "    </tr>\n",
       "    <tr>\n",
       "      <th rowspan=\"17\" valign=\"top\">fff970d2014c3e10a77e38d540239017</th>\n",
       "      <th>c0e93c88cb11143ddafcf62454ecc57b</th>\n",
       "      <td>0</td>\n",
       "    </tr>\n",
       "    <tr>\n",
       "      <th>c895cf7902b5b9d667bbd7fe7b237be7</th>\n",
       "      <td>0</td>\n",
       "    </tr>\n",
       "    <tr>\n",
       "      <th>c9dfe642b0680f67fe47d91ea6930ca8</th>\n",
       "      <td>0</td>\n",
       "    </tr>\n",
       "    <tr>\n",
       "      <th>cce8ae4e7e1e18fb18f913431034ab87</th>\n",
       "      <td>0</td>\n",
       "    </tr>\n",
       "    <tr>\n",
       "      <th>cef38abd9aea06e568b6e328a06cd417</th>\n",
       "      <td>0</td>\n",
       "    </tr>\n",
       "    <tr>\n",
       "      <th>d0beff6a1419a73f4b9d3ecd52b3c413</th>\n",
       "      <td>0</td>\n",
       "    </tr>\n",
       "    <tr>\n",
       "      <th>d187d74e1ab64133cc5c2313b034b82d</th>\n",
       "      <td>0</td>\n",
       "    </tr>\n",
       "    <tr>\n",
       "      <th>d22cec5ae4127f98f034d73683ccbea9</th>\n",
       "      <td>0</td>\n",
       "    </tr>\n",
       "    <tr>\n",
       "      <th>d5fa40771a7781c2ac464c9e827de7cc</th>\n",
       "      <td>2</td>\n",
       "    </tr>\n",
       "    <tr>\n",
       "      <th>dc46b0a968bb0b8c32e7526d1a84edbe</th>\n",
       "      <td>0</td>\n",
       "    </tr>\n",
       "    <tr>\n",
       "      <th>de741997784d986b97e75d6a91fb7407</th>\n",
       "      <td>0</td>\n",
       "    </tr>\n",
       "    <tr>\n",
       "      <th>e58ab32b122162f7f426dbf9788b3237</th>\n",
       "      <td>0</td>\n",
       "    </tr>\n",
       "    <tr>\n",
       "      <th>e9a6160006d0064a9cd84e4331c4a714</th>\n",
       "      <td>0</td>\n",
       "    </tr>\n",
       "    <tr>\n",
       "      <th>ee1e91ce2dfe8f856c929036d232f74d</th>\n",
       "      <td>0</td>\n",
       "    </tr>\n",
       "    <tr>\n",
       "      <th>fb4ee873ff4be228ab802a2a9a8b4bc1</th>\n",
       "      <td>0</td>\n",
       "    </tr>\n",
       "    <tr>\n",
       "      <th>fb7d966c9183aa0ea50b5372fa9d21b2</th>\n",
       "      <td>0</td>\n",
       "    </tr>\n",
       "    <tr>\n",
       "      <th>ff29f21fcaab0cdc18a883d0e400c89d</th>\n",
       "      <td>0</td>\n",
       "    </tr>\n",
       "    <tr>\n",
       "      <th rowspan=\"11\" valign=\"top\">fffafc024e264d5d539813444cf61199</th>\n",
       "      <th>09411858ae07c0be91aeeddacf4556b4</th>\n",
       "      <td>1</td>\n",
       "    </tr>\n",
       "    <tr>\n",
       "      <th>0de4875c90bb952ab23b706a94a3efa9</th>\n",
       "      <td>0</td>\n",
       "    </tr>\n",
       "    <tr>\n",
       "      <th>134e74a0073d63d6344dca458ce0a632</th>\n",
       "      <td>1</td>\n",
       "    </tr>\n",
       "    <tr>\n",
       "      <th>35c1138ad9cdbcf8632f5d3f225d1ceb</th>\n",
       "      <td>0</td>\n",
       "    </tr>\n",
       "    <tr>\n",
       "      <th>42c4e4b3505f6da14a98f0920348f9a1</th>\n",
       "      <td>0</td>\n",
       "    </tr>\n",
       "    <tr>\n",
       "      <th>6802798fc647d2593b45794b6ac189ea</th>\n",
       "      <td>0</td>\n",
       "    </tr>\n",
       "    <tr>\n",
       "      <th>780f19b627c3a1ba3e8efaec0409a164</th>\n",
       "      <td>0</td>\n",
       "    </tr>\n",
       "    <tr>\n",
       "      <th>9a59e0b49c7d24aa4992add0d3214963</th>\n",
       "      <td>0</td>\n",
       "    </tr>\n",
       "    <tr>\n",
       "      <th>a59b4ce089e25202f8d417321f73d259</th>\n",
       "      <td>0</td>\n",
       "    </tr>\n",
       "    <tr>\n",
       "      <th>cefcc9e0a0e2eb3e0934f89b225feb25</th>\n",
       "      <td>0</td>\n",
       "    </tr>\n",
       "    <tr>\n",
       "      <th>d9e947891035210f7cba4456cfd99fbf</th>\n",
       "      <td>0</td>\n",
       "    </tr>\n",
       "    <tr>\n",
       "      <th rowspan=\"2\" valign=\"top\">ffff56dbf3c782c3532f88c6c79817ba</th>\n",
       "      <th>09411858ae07c0be91aeeddacf4556b4</th>\n",
       "      <td>1</td>\n",
       "    </tr>\n",
       "    <tr>\n",
       "      <th>a262c7ff56a5cd3de3c5c40443f3018c</th>\n",
       "      <td>0</td>\n",
       "    </tr>\n",
       "  </tbody>\n",
       "</table>\n",
       "<p>1853450 rows × 1 columns</p>\n",
       "</div>"
      ],
      "text/plain": [
       "                                                                   PURCHASE_FLG\n",
       "USER_ID_hash                     VIEW_COUPON_ID_hash                           \n",
       "0000b53e182165208887ba65c079fc21 0645faa156f34104e6d8910160868f9f             0\n",
       "                                 18097cd25ab6b7e8eb0481b0e3a3cfd8             0\n",
       "                                 1b581f2ed53f2f2eafbc1560db640194             0\n",
       "                                 1d04e76c44c231d5d05dc1634d20fe8c             0\n",
       "                                 2962b9f2ec7ecde9daddf53dd3118526             0\n",
       "                                 2ab16b8f5aeead6d31dbdb9bd59c41db             0\n",
       "                                 2ccbe8c179e4f956b367ad6c4a74a23e             0\n",
       "                                 2d231a9ce88beb42b0952f59d3e0e8e8             0\n",
       "                                 300bffc61bc80717d7a2a2c22965fa58             0\n",
       "                                 35dd6298ee5e42db692c2c211a5f5eba             0\n",
       "                                 35ed2dd67171a5defaac71ea31298f07             0\n",
       "                                 36b2cae27d8d37e322ce0f20d02d6ede             0\n",
       "                                 38beeadfe3f97e640367eddae4a8c1b5             1\n",
       "                                 3a55fd3a869b1674efa364debfa4442b             0\n",
       "                                 3c7e742af0db59fb6d714b3c6f5845b9             0\n",
       "                                 41103c9fa867c654dc914604ccb417b6             0\n",
       "                                 41ecb75dad1a4ea6d06e828d314bb278             0\n",
       "                                 42945e9c231f1b8cfe6642d823a19401             0\n",
       "                                 460b8ff0668e1237e4e63e3f825978da             0\n",
       "                                 4f3c3667db2231befb2b309d0f3720f8             0\n",
       "                                 58e03f650bb4fba1f19113340a3a50a3             0\n",
       "                                 660f2b8e209fd7deb21e19307cd8135a             0\n",
       "                                 66518e59026acaf78dbb9a57d0f5e793             0\n",
       "                                 66a87d147ccbaa07e2e490937977227b             0\n",
       "                                 670be217dd99b181cc8a6a4db60df0d5             0\n",
       "                                 6d74e2f933e60fe3a533ff88523a22fb             0\n",
       "                                 72c3429137ec83cfe48e3ab49d8c6007             0\n",
       "                                 732c654dda32d8575f85657f24ea11c5             0\n",
       "                                 782762327e188a712b991d26574f8806             0\n",
       "                                 7d3cdf7086f2062369ffb6c714a1beb6             0\n",
       "...                                                                         ...\n",
       "fff970d2014c3e10a77e38d540239017 c0e93c88cb11143ddafcf62454ecc57b             0\n",
       "                                 c895cf7902b5b9d667bbd7fe7b237be7             0\n",
       "                                 c9dfe642b0680f67fe47d91ea6930ca8             0\n",
       "                                 cce8ae4e7e1e18fb18f913431034ab87             0\n",
       "                                 cef38abd9aea06e568b6e328a06cd417             0\n",
       "                                 d0beff6a1419a73f4b9d3ecd52b3c413             0\n",
       "                                 d187d74e1ab64133cc5c2313b034b82d             0\n",
       "                                 d22cec5ae4127f98f034d73683ccbea9             0\n",
       "                                 d5fa40771a7781c2ac464c9e827de7cc             2\n",
       "                                 dc46b0a968bb0b8c32e7526d1a84edbe             0\n",
       "                                 de741997784d986b97e75d6a91fb7407             0\n",
       "                                 e58ab32b122162f7f426dbf9788b3237             0\n",
       "                                 e9a6160006d0064a9cd84e4331c4a714             0\n",
       "                                 ee1e91ce2dfe8f856c929036d232f74d             0\n",
       "                                 fb4ee873ff4be228ab802a2a9a8b4bc1             0\n",
       "                                 fb7d966c9183aa0ea50b5372fa9d21b2             0\n",
       "                                 ff29f21fcaab0cdc18a883d0e400c89d             0\n",
       "fffafc024e264d5d539813444cf61199 09411858ae07c0be91aeeddacf4556b4             1\n",
       "                                 0de4875c90bb952ab23b706a94a3efa9             0\n",
       "                                 134e74a0073d63d6344dca458ce0a632             1\n",
       "                                 35c1138ad9cdbcf8632f5d3f225d1ceb             0\n",
       "                                 42c4e4b3505f6da14a98f0920348f9a1             0\n",
       "                                 6802798fc647d2593b45794b6ac189ea             0\n",
       "                                 780f19b627c3a1ba3e8efaec0409a164             0\n",
       "                                 9a59e0b49c7d24aa4992add0d3214963             0\n",
       "                                 a59b4ce089e25202f8d417321f73d259             0\n",
       "                                 cefcc9e0a0e2eb3e0934f89b225feb25             0\n",
       "                                 d9e947891035210f7cba4456cfd99fbf             0\n",
       "ffff56dbf3c782c3532f88c6c79817ba 09411858ae07c0be91aeeddacf4556b4             1\n",
       "                                 a262c7ff56a5cd3de3c5c40443f3018c             0\n",
       "\n",
       "[1853450 rows x 1 columns]"
      ]
     },
     "execution_count": 103,
     "metadata": {},
     "output_type": "execute_result"
    }
   ],
   "source": [
    "# Most coupons were viewed, but never used. Each of such coupons now has single record:\n",
    "# {user, coupon, purchase_flag = 0, purchase_id = NaN}\n",
    "\n",
    "# Coupons that were used for purchase have either single record:\n",
    "# {user, coupon, purchase_flag = 1, purchase_id}\n",
    "# or this record and additional record for viewing without purchasing (same as for non-used coupons)\n",
    "\n",
    "# I want to drop such records for used coupons, so that there is a single record for each\n",
    "# {user, coupon} combination.\n",
    "\n",
    "# I want a dataframe of {user, coupon, coupon_flag}\n",
    "# I can get it by resetting index of the following frame.\n",
    "# If more than one purchase was made with a coupon, flags add up to int > 1, but I don't care.\n",
    "# I'll reset all flags to 0 or 1 later.\n",
    "\n",
    "visit.drop_duplicates().groupby(['USER_ID_hash', 'VIEW_COUPON_ID_hash']).sum()"
   ]
  },
  {
   "cell_type": "code",
   "execution_count": 107,
   "metadata": {
    "collapsed": false
   },
   "outputs": [
    {
     "data": {
      "text/html": [
       "<div>\n",
       "<table border=\"1\" class=\"dataframe\">\n",
       "  <thead>\n",
       "    <tr style=\"text-align: right;\">\n",
       "      <th></th>\n",
       "      <th>USER_ID_hash</th>\n",
       "      <th>COUPON_ID_hash</th>\n",
       "      <th>PURCHASE_FLG</th>\n",
       "    </tr>\n",
       "  </thead>\n",
       "  <tbody>\n",
       "    <tr>\n",
       "      <th>0</th>\n",
       "      <td>0000b53e182165208887ba65c079fc21</td>\n",
       "      <td>0645faa156f34104e6d8910160868f9f</td>\n",
       "      <td>0</td>\n",
       "    </tr>\n",
       "    <tr>\n",
       "      <th>1</th>\n",
       "      <td>0000b53e182165208887ba65c079fc21</td>\n",
       "      <td>18097cd25ab6b7e8eb0481b0e3a3cfd8</td>\n",
       "      <td>0</td>\n",
       "    </tr>\n",
       "    <tr>\n",
       "      <th>2</th>\n",
       "      <td>0000b53e182165208887ba65c079fc21</td>\n",
       "      <td>1b581f2ed53f2f2eafbc1560db640194</td>\n",
       "      <td>0</td>\n",
       "    </tr>\n",
       "    <tr>\n",
       "      <th>3</th>\n",
       "      <td>0000b53e182165208887ba65c079fc21</td>\n",
       "      <td>1d04e76c44c231d5d05dc1634d20fe8c</td>\n",
       "      <td>0</td>\n",
       "    </tr>\n",
       "    <tr>\n",
       "      <th>4</th>\n",
       "      <td>0000b53e182165208887ba65c079fc21</td>\n",
       "      <td>2962b9f2ec7ecde9daddf53dd3118526</td>\n",
       "      <td>0</td>\n",
       "    </tr>\n",
       "    <tr>\n",
       "      <th>5</th>\n",
       "      <td>0000b53e182165208887ba65c079fc21</td>\n",
       "      <td>2ab16b8f5aeead6d31dbdb9bd59c41db</td>\n",
       "      <td>0</td>\n",
       "    </tr>\n",
       "    <tr>\n",
       "      <th>6</th>\n",
       "      <td>0000b53e182165208887ba65c079fc21</td>\n",
       "      <td>2ccbe8c179e4f956b367ad6c4a74a23e</td>\n",
       "      <td>0</td>\n",
       "    </tr>\n",
       "    <tr>\n",
       "      <th>7</th>\n",
       "      <td>0000b53e182165208887ba65c079fc21</td>\n",
       "      <td>2d231a9ce88beb42b0952f59d3e0e8e8</td>\n",
       "      <td>0</td>\n",
       "    </tr>\n",
       "    <tr>\n",
       "      <th>8</th>\n",
       "      <td>0000b53e182165208887ba65c079fc21</td>\n",
       "      <td>300bffc61bc80717d7a2a2c22965fa58</td>\n",
       "      <td>0</td>\n",
       "    </tr>\n",
       "    <tr>\n",
       "      <th>9</th>\n",
       "      <td>0000b53e182165208887ba65c079fc21</td>\n",
       "      <td>35dd6298ee5e42db692c2c211a5f5eba</td>\n",
       "      <td>0</td>\n",
       "    </tr>\n",
       "    <tr>\n",
       "      <th>10</th>\n",
       "      <td>0000b53e182165208887ba65c079fc21</td>\n",
       "      <td>35ed2dd67171a5defaac71ea31298f07</td>\n",
       "      <td>0</td>\n",
       "    </tr>\n",
       "    <tr>\n",
       "      <th>11</th>\n",
       "      <td>0000b53e182165208887ba65c079fc21</td>\n",
       "      <td>36b2cae27d8d37e322ce0f20d02d6ede</td>\n",
       "      <td>0</td>\n",
       "    </tr>\n",
       "    <tr>\n",
       "      <th>12</th>\n",
       "      <td>0000b53e182165208887ba65c079fc21</td>\n",
       "      <td>38beeadfe3f97e640367eddae4a8c1b5</td>\n",
       "      <td>1</td>\n",
       "    </tr>\n",
       "    <tr>\n",
       "      <th>13</th>\n",
       "      <td>0000b53e182165208887ba65c079fc21</td>\n",
       "      <td>3a55fd3a869b1674efa364debfa4442b</td>\n",
       "      <td>0</td>\n",
       "    </tr>\n",
       "    <tr>\n",
       "      <th>14</th>\n",
       "      <td>0000b53e182165208887ba65c079fc21</td>\n",
       "      <td>3c7e742af0db59fb6d714b3c6f5845b9</td>\n",
       "      <td>0</td>\n",
       "    </tr>\n",
       "    <tr>\n",
       "      <th>15</th>\n",
       "      <td>0000b53e182165208887ba65c079fc21</td>\n",
       "      <td>41103c9fa867c654dc914604ccb417b6</td>\n",
       "      <td>0</td>\n",
       "    </tr>\n",
       "    <tr>\n",
       "      <th>16</th>\n",
       "      <td>0000b53e182165208887ba65c079fc21</td>\n",
       "      <td>41ecb75dad1a4ea6d06e828d314bb278</td>\n",
       "      <td>0</td>\n",
       "    </tr>\n",
       "    <tr>\n",
       "      <th>17</th>\n",
       "      <td>0000b53e182165208887ba65c079fc21</td>\n",
       "      <td>42945e9c231f1b8cfe6642d823a19401</td>\n",
       "      <td>0</td>\n",
       "    </tr>\n",
       "    <tr>\n",
       "      <th>18</th>\n",
       "      <td>0000b53e182165208887ba65c079fc21</td>\n",
       "      <td>460b8ff0668e1237e4e63e3f825978da</td>\n",
       "      <td>0</td>\n",
       "    </tr>\n",
       "    <tr>\n",
       "      <th>19</th>\n",
       "      <td>0000b53e182165208887ba65c079fc21</td>\n",
       "      <td>4f3c3667db2231befb2b309d0f3720f8</td>\n",
       "      <td>0</td>\n",
       "    </tr>\n",
       "    <tr>\n",
       "      <th>20</th>\n",
       "      <td>0000b53e182165208887ba65c079fc21</td>\n",
       "      <td>58e03f650bb4fba1f19113340a3a50a3</td>\n",
       "      <td>0</td>\n",
       "    </tr>\n",
       "    <tr>\n",
       "      <th>21</th>\n",
       "      <td>0000b53e182165208887ba65c079fc21</td>\n",
       "      <td>660f2b8e209fd7deb21e19307cd8135a</td>\n",
       "      <td>0</td>\n",
       "    </tr>\n",
       "    <tr>\n",
       "      <th>22</th>\n",
       "      <td>0000b53e182165208887ba65c079fc21</td>\n",
       "      <td>66518e59026acaf78dbb9a57d0f5e793</td>\n",
       "      <td>0</td>\n",
       "    </tr>\n",
       "    <tr>\n",
       "      <th>23</th>\n",
       "      <td>0000b53e182165208887ba65c079fc21</td>\n",
       "      <td>66a87d147ccbaa07e2e490937977227b</td>\n",
       "      <td>0</td>\n",
       "    </tr>\n",
       "    <tr>\n",
       "      <th>24</th>\n",
       "      <td>0000b53e182165208887ba65c079fc21</td>\n",
       "      <td>670be217dd99b181cc8a6a4db60df0d5</td>\n",
       "      <td>0</td>\n",
       "    </tr>\n",
       "    <tr>\n",
       "      <th>25</th>\n",
       "      <td>0000b53e182165208887ba65c079fc21</td>\n",
       "      <td>6d74e2f933e60fe3a533ff88523a22fb</td>\n",
       "      <td>0</td>\n",
       "    </tr>\n",
       "    <tr>\n",
       "      <th>26</th>\n",
       "      <td>0000b53e182165208887ba65c079fc21</td>\n",
       "      <td>72c3429137ec83cfe48e3ab49d8c6007</td>\n",
       "      <td>0</td>\n",
       "    </tr>\n",
       "    <tr>\n",
       "      <th>27</th>\n",
       "      <td>0000b53e182165208887ba65c079fc21</td>\n",
       "      <td>732c654dda32d8575f85657f24ea11c5</td>\n",
       "      <td>0</td>\n",
       "    </tr>\n",
       "    <tr>\n",
       "      <th>28</th>\n",
       "      <td>0000b53e182165208887ba65c079fc21</td>\n",
       "      <td>782762327e188a712b991d26574f8806</td>\n",
       "      <td>0</td>\n",
       "    </tr>\n",
       "    <tr>\n",
       "      <th>29</th>\n",
       "      <td>0000b53e182165208887ba65c079fc21</td>\n",
       "      <td>7d3cdf7086f2062369ffb6c714a1beb6</td>\n",
       "      <td>0</td>\n",
       "    </tr>\n",
       "    <tr>\n",
       "      <th>...</th>\n",
       "      <td>...</td>\n",
       "      <td>...</td>\n",
       "      <td>...</td>\n",
       "    </tr>\n",
       "    <tr>\n",
       "      <th>1853420</th>\n",
       "      <td>fff970d2014c3e10a77e38d540239017</td>\n",
       "      <td>c0e93c88cb11143ddafcf62454ecc57b</td>\n",
       "      <td>0</td>\n",
       "    </tr>\n",
       "    <tr>\n",
       "      <th>1853421</th>\n",
       "      <td>fff970d2014c3e10a77e38d540239017</td>\n",
       "      <td>c895cf7902b5b9d667bbd7fe7b237be7</td>\n",
       "      <td>0</td>\n",
       "    </tr>\n",
       "    <tr>\n",
       "      <th>1853422</th>\n",
       "      <td>fff970d2014c3e10a77e38d540239017</td>\n",
       "      <td>c9dfe642b0680f67fe47d91ea6930ca8</td>\n",
       "      <td>0</td>\n",
       "    </tr>\n",
       "    <tr>\n",
       "      <th>1853423</th>\n",
       "      <td>fff970d2014c3e10a77e38d540239017</td>\n",
       "      <td>cce8ae4e7e1e18fb18f913431034ab87</td>\n",
       "      <td>0</td>\n",
       "    </tr>\n",
       "    <tr>\n",
       "      <th>1853424</th>\n",
       "      <td>fff970d2014c3e10a77e38d540239017</td>\n",
       "      <td>cef38abd9aea06e568b6e328a06cd417</td>\n",
       "      <td>0</td>\n",
       "    </tr>\n",
       "    <tr>\n",
       "      <th>1853425</th>\n",
       "      <td>fff970d2014c3e10a77e38d540239017</td>\n",
       "      <td>d0beff6a1419a73f4b9d3ecd52b3c413</td>\n",
       "      <td>0</td>\n",
       "    </tr>\n",
       "    <tr>\n",
       "      <th>1853426</th>\n",
       "      <td>fff970d2014c3e10a77e38d540239017</td>\n",
       "      <td>d187d74e1ab64133cc5c2313b034b82d</td>\n",
       "      <td>0</td>\n",
       "    </tr>\n",
       "    <tr>\n",
       "      <th>1853427</th>\n",
       "      <td>fff970d2014c3e10a77e38d540239017</td>\n",
       "      <td>d22cec5ae4127f98f034d73683ccbea9</td>\n",
       "      <td>0</td>\n",
       "    </tr>\n",
       "    <tr>\n",
       "      <th>1853428</th>\n",
       "      <td>fff970d2014c3e10a77e38d540239017</td>\n",
       "      <td>d5fa40771a7781c2ac464c9e827de7cc</td>\n",
       "      <td>1</td>\n",
       "    </tr>\n",
       "    <tr>\n",
       "      <th>1853429</th>\n",
       "      <td>fff970d2014c3e10a77e38d540239017</td>\n",
       "      <td>dc46b0a968bb0b8c32e7526d1a84edbe</td>\n",
       "      <td>0</td>\n",
       "    </tr>\n",
       "    <tr>\n",
       "      <th>1853430</th>\n",
       "      <td>fff970d2014c3e10a77e38d540239017</td>\n",
       "      <td>de741997784d986b97e75d6a91fb7407</td>\n",
       "      <td>0</td>\n",
       "    </tr>\n",
       "    <tr>\n",
       "      <th>1853431</th>\n",
       "      <td>fff970d2014c3e10a77e38d540239017</td>\n",
       "      <td>e58ab32b122162f7f426dbf9788b3237</td>\n",
       "      <td>0</td>\n",
       "    </tr>\n",
       "    <tr>\n",
       "      <th>1853432</th>\n",
       "      <td>fff970d2014c3e10a77e38d540239017</td>\n",
       "      <td>e9a6160006d0064a9cd84e4331c4a714</td>\n",
       "      <td>0</td>\n",
       "    </tr>\n",
       "    <tr>\n",
       "      <th>1853433</th>\n",
       "      <td>fff970d2014c3e10a77e38d540239017</td>\n",
       "      <td>ee1e91ce2dfe8f856c929036d232f74d</td>\n",
       "      <td>0</td>\n",
       "    </tr>\n",
       "    <tr>\n",
       "      <th>1853434</th>\n",
       "      <td>fff970d2014c3e10a77e38d540239017</td>\n",
       "      <td>fb4ee873ff4be228ab802a2a9a8b4bc1</td>\n",
       "      <td>0</td>\n",
       "    </tr>\n",
       "    <tr>\n",
       "      <th>1853435</th>\n",
       "      <td>fff970d2014c3e10a77e38d540239017</td>\n",
       "      <td>fb7d966c9183aa0ea50b5372fa9d21b2</td>\n",
       "      <td>0</td>\n",
       "    </tr>\n",
       "    <tr>\n",
       "      <th>1853436</th>\n",
       "      <td>fff970d2014c3e10a77e38d540239017</td>\n",
       "      <td>ff29f21fcaab0cdc18a883d0e400c89d</td>\n",
       "      <td>0</td>\n",
       "    </tr>\n",
       "    <tr>\n",
       "      <th>1853437</th>\n",
       "      <td>fffafc024e264d5d539813444cf61199</td>\n",
       "      <td>09411858ae07c0be91aeeddacf4556b4</td>\n",
       "      <td>1</td>\n",
       "    </tr>\n",
       "    <tr>\n",
       "      <th>1853438</th>\n",
       "      <td>fffafc024e264d5d539813444cf61199</td>\n",
       "      <td>0de4875c90bb952ab23b706a94a3efa9</td>\n",
       "      <td>0</td>\n",
       "    </tr>\n",
       "    <tr>\n",
       "      <th>1853439</th>\n",
       "      <td>fffafc024e264d5d539813444cf61199</td>\n",
       "      <td>134e74a0073d63d6344dca458ce0a632</td>\n",
       "      <td>1</td>\n",
       "    </tr>\n",
       "    <tr>\n",
       "      <th>1853440</th>\n",
       "      <td>fffafc024e264d5d539813444cf61199</td>\n",
       "      <td>35c1138ad9cdbcf8632f5d3f225d1ceb</td>\n",
       "      <td>0</td>\n",
       "    </tr>\n",
       "    <tr>\n",
       "      <th>1853441</th>\n",
       "      <td>fffafc024e264d5d539813444cf61199</td>\n",
       "      <td>42c4e4b3505f6da14a98f0920348f9a1</td>\n",
       "      <td>0</td>\n",
       "    </tr>\n",
       "    <tr>\n",
       "      <th>1853442</th>\n",
       "      <td>fffafc024e264d5d539813444cf61199</td>\n",
       "      <td>6802798fc647d2593b45794b6ac189ea</td>\n",
       "      <td>0</td>\n",
       "    </tr>\n",
       "    <tr>\n",
       "      <th>1853443</th>\n",
       "      <td>fffafc024e264d5d539813444cf61199</td>\n",
       "      <td>780f19b627c3a1ba3e8efaec0409a164</td>\n",
       "      <td>0</td>\n",
       "    </tr>\n",
       "    <tr>\n",
       "      <th>1853444</th>\n",
       "      <td>fffafc024e264d5d539813444cf61199</td>\n",
       "      <td>9a59e0b49c7d24aa4992add0d3214963</td>\n",
       "      <td>0</td>\n",
       "    </tr>\n",
       "    <tr>\n",
       "      <th>1853445</th>\n",
       "      <td>fffafc024e264d5d539813444cf61199</td>\n",
       "      <td>a59b4ce089e25202f8d417321f73d259</td>\n",
       "      <td>0</td>\n",
       "    </tr>\n",
       "    <tr>\n",
       "      <th>1853446</th>\n",
       "      <td>fffafc024e264d5d539813444cf61199</td>\n",
       "      <td>cefcc9e0a0e2eb3e0934f89b225feb25</td>\n",
       "      <td>0</td>\n",
       "    </tr>\n",
       "    <tr>\n",
       "      <th>1853447</th>\n",
       "      <td>fffafc024e264d5d539813444cf61199</td>\n",
       "      <td>d9e947891035210f7cba4456cfd99fbf</td>\n",
       "      <td>0</td>\n",
       "    </tr>\n",
       "    <tr>\n",
       "      <th>1853448</th>\n",
       "      <td>ffff56dbf3c782c3532f88c6c79817ba</td>\n",
       "      <td>09411858ae07c0be91aeeddacf4556b4</td>\n",
       "      <td>1</td>\n",
       "    </tr>\n",
       "    <tr>\n",
       "      <th>1853449</th>\n",
       "      <td>ffff56dbf3c782c3532f88c6c79817ba</td>\n",
       "      <td>a262c7ff56a5cd3de3c5c40443f3018c</td>\n",
       "      <td>0</td>\n",
       "    </tr>\n",
       "  </tbody>\n",
       "</table>\n",
       "<p>1853450 rows × 3 columns</p>\n",
       "</div>"
      ],
      "text/plain": [
       "                             USER_ID_hash                    COUPON_ID_hash  \\\n",
       "0        0000b53e182165208887ba65c079fc21  0645faa156f34104e6d8910160868f9f   \n",
       "1        0000b53e182165208887ba65c079fc21  18097cd25ab6b7e8eb0481b0e3a3cfd8   \n",
       "2        0000b53e182165208887ba65c079fc21  1b581f2ed53f2f2eafbc1560db640194   \n",
       "3        0000b53e182165208887ba65c079fc21  1d04e76c44c231d5d05dc1634d20fe8c   \n",
       "4        0000b53e182165208887ba65c079fc21  2962b9f2ec7ecde9daddf53dd3118526   \n",
       "5        0000b53e182165208887ba65c079fc21  2ab16b8f5aeead6d31dbdb9bd59c41db   \n",
       "6        0000b53e182165208887ba65c079fc21  2ccbe8c179e4f956b367ad6c4a74a23e   \n",
       "7        0000b53e182165208887ba65c079fc21  2d231a9ce88beb42b0952f59d3e0e8e8   \n",
       "8        0000b53e182165208887ba65c079fc21  300bffc61bc80717d7a2a2c22965fa58   \n",
       "9        0000b53e182165208887ba65c079fc21  35dd6298ee5e42db692c2c211a5f5eba   \n",
       "10       0000b53e182165208887ba65c079fc21  35ed2dd67171a5defaac71ea31298f07   \n",
       "11       0000b53e182165208887ba65c079fc21  36b2cae27d8d37e322ce0f20d02d6ede   \n",
       "12       0000b53e182165208887ba65c079fc21  38beeadfe3f97e640367eddae4a8c1b5   \n",
       "13       0000b53e182165208887ba65c079fc21  3a55fd3a869b1674efa364debfa4442b   \n",
       "14       0000b53e182165208887ba65c079fc21  3c7e742af0db59fb6d714b3c6f5845b9   \n",
       "15       0000b53e182165208887ba65c079fc21  41103c9fa867c654dc914604ccb417b6   \n",
       "16       0000b53e182165208887ba65c079fc21  41ecb75dad1a4ea6d06e828d314bb278   \n",
       "17       0000b53e182165208887ba65c079fc21  42945e9c231f1b8cfe6642d823a19401   \n",
       "18       0000b53e182165208887ba65c079fc21  460b8ff0668e1237e4e63e3f825978da   \n",
       "19       0000b53e182165208887ba65c079fc21  4f3c3667db2231befb2b309d0f3720f8   \n",
       "20       0000b53e182165208887ba65c079fc21  58e03f650bb4fba1f19113340a3a50a3   \n",
       "21       0000b53e182165208887ba65c079fc21  660f2b8e209fd7deb21e19307cd8135a   \n",
       "22       0000b53e182165208887ba65c079fc21  66518e59026acaf78dbb9a57d0f5e793   \n",
       "23       0000b53e182165208887ba65c079fc21  66a87d147ccbaa07e2e490937977227b   \n",
       "24       0000b53e182165208887ba65c079fc21  670be217dd99b181cc8a6a4db60df0d5   \n",
       "25       0000b53e182165208887ba65c079fc21  6d74e2f933e60fe3a533ff88523a22fb   \n",
       "26       0000b53e182165208887ba65c079fc21  72c3429137ec83cfe48e3ab49d8c6007   \n",
       "27       0000b53e182165208887ba65c079fc21  732c654dda32d8575f85657f24ea11c5   \n",
       "28       0000b53e182165208887ba65c079fc21  782762327e188a712b991d26574f8806   \n",
       "29       0000b53e182165208887ba65c079fc21  7d3cdf7086f2062369ffb6c714a1beb6   \n",
       "...                                   ...                               ...   \n",
       "1853420  fff970d2014c3e10a77e38d540239017  c0e93c88cb11143ddafcf62454ecc57b   \n",
       "1853421  fff970d2014c3e10a77e38d540239017  c895cf7902b5b9d667bbd7fe7b237be7   \n",
       "1853422  fff970d2014c3e10a77e38d540239017  c9dfe642b0680f67fe47d91ea6930ca8   \n",
       "1853423  fff970d2014c3e10a77e38d540239017  cce8ae4e7e1e18fb18f913431034ab87   \n",
       "1853424  fff970d2014c3e10a77e38d540239017  cef38abd9aea06e568b6e328a06cd417   \n",
       "1853425  fff970d2014c3e10a77e38d540239017  d0beff6a1419a73f4b9d3ecd52b3c413   \n",
       "1853426  fff970d2014c3e10a77e38d540239017  d187d74e1ab64133cc5c2313b034b82d   \n",
       "1853427  fff970d2014c3e10a77e38d540239017  d22cec5ae4127f98f034d73683ccbea9   \n",
       "1853428  fff970d2014c3e10a77e38d540239017  d5fa40771a7781c2ac464c9e827de7cc   \n",
       "1853429  fff970d2014c3e10a77e38d540239017  dc46b0a968bb0b8c32e7526d1a84edbe   \n",
       "1853430  fff970d2014c3e10a77e38d540239017  de741997784d986b97e75d6a91fb7407   \n",
       "1853431  fff970d2014c3e10a77e38d540239017  e58ab32b122162f7f426dbf9788b3237   \n",
       "1853432  fff970d2014c3e10a77e38d540239017  e9a6160006d0064a9cd84e4331c4a714   \n",
       "1853433  fff970d2014c3e10a77e38d540239017  ee1e91ce2dfe8f856c929036d232f74d   \n",
       "1853434  fff970d2014c3e10a77e38d540239017  fb4ee873ff4be228ab802a2a9a8b4bc1   \n",
       "1853435  fff970d2014c3e10a77e38d540239017  fb7d966c9183aa0ea50b5372fa9d21b2   \n",
       "1853436  fff970d2014c3e10a77e38d540239017  ff29f21fcaab0cdc18a883d0e400c89d   \n",
       "1853437  fffafc024e264d5d539813444cf61199  09411858ae07c0be91aeeddacf4556b4   \n",
       "1853438  fffafc024e264d5d539813444cf61199  0de4875c90bb952ab23b706a94a3efa9   \n",
       "1853439  fffafc024e264d5d539813444cf61199  134e74a0073d63d6344dca458ce0a632   \n",
       "1853440  fffafc024e264d5d539813444cf61199  35c1138ad9cdbcf8632f5d3f225d1ceb   \n",
       "1853441  fffafc024e264d5d539813444cf61199  42c4e4b3505f6da14a98f0920348f9a1   \n",
       "1853442  fffafc024e264d5d539813444cf61199  6802798fc647d2593b45794b6ac189ea   \n",
       "1853443  fffafc024e264d5d539813444cf61199  780f19b627c3a1ba3e8efaec0409a164   \n",
       "1853444  fffafc024e264d5d539813444cf61199  9a59e0b49c7d24aa4992add0d3214963   \n",
       "1853445  fffafc024e264d5d539813444cf61199  a59b4ce089e25202f8d417321f73d259   \n",
       "1853446  fffafc024e264d5d539813444cf61199  cefcc9e0a0e2eb3e0934f89b225feb25   \n",
       "1853447  fffafc024e264d5d539813444cf61199  d9e947891035210f7cba4456cfd99fbf   \n",
       "1853448  ffff56dbf3c782c3532f88c6c79817ba  09411858ae07c0be91aeeddacf4556b4   \n",
       "1853449  ffff56dbf3c782c3532f88c6c79817ba  a262c7ff56a5cd3de3c5c40443f3018c   \n",
       "\n",
       "         PURCHASE_FLG  \n",
       "0                   0  \n",
       "1                   0  \n",
       "2                   0  \n",
       "3                   0  \n",
       "4                   0  \n",
       "5                   0  \n",
       "6                   0  \n",
       "7                   0  \n",
       "8                   0  \n",
       "9                   0  \n",
       "10                  0  \n",
       "11                  0  \n",
       "12                  1  \n",
       "13                  0  \n",
       "14                  0  \n",
       "15                  0  \n",
       "16                  0  \n",
       "17                  0  \n",
       "18                  0  \n",
       "19                  0  \n",
       "20                  0  \n",
       "21                  0  \n",
       "22                  0  \n",
       "23                  0  \n",
       "24                  0  \n",
       "25                  0  \n",
       "26                  0  \n",
       "27                  0  \n",
       "28                  0  \n",
       "29                  0  \n",
       "...               ...  \n",
       "1853420             0  \n",
       "1853421             0  \n",
       "1853422             0  \n",
       "1853423             0  \n",
       "1853424             0  \n",
       "1853425             0  \n",
       "1853426             0  \n",
       "1853427             0  \n",
       "1853428             1  \n",
       "1853429             0  \n",
       "1853430             0  \n",
       "1853431             0  \n",
       "1853432             0  \n",
       "1853433             0  \n",
       "1853434             0  \n",
       "1853435             0  \n",
       "1853436             0  \n",
       "1853437             1  \n",
       "1853438             0  \n",
       "1853439             1  \n",
       "1853440             0  \n",
       "1853441             0  \n",
       "1853442             0  \n",
       "1853443             0  \n",
       "1853444             0  \n",
       "1853445             0  \n",
       "1853446             0  \n",
       "1853447             0  \n",
       "1853448             1  \n",
       "1853449             0  \n",
       "\n",
       "[1853450 rows x 3 columns]"
      ]
     },
     "execution_count": 107,
     "metadata": {},
     "output_type": "execute_result"
    }
   ],
   "source": [
    "index_id = visit.drop_duplicates().groupby(['USER_ID_hash', 'VIEW_COUPON_ID_hash']).sum().reset_index()\n",
    "index_id['PURCHASE_FLG'] = index_id['PURCHASE_FLG'].map(lambda x: 1 if x > 0 else 0)\n",
    "index_id.rename(columns={'VIEW_COUPON_ID_hash' : 'COUPON_ID_hash'}, inplace = True)\n",
    "index_id"
   ]
  },
  {
   "cell_type": "code",
   "execution_count": 108,
   "metadata": {
    "collapsed": true
   },
   "outputs": [],
   "source": [
    "index_userID = set(index_id['USER_ID_hash'].unique())\n",
    "index_couponID = set(index_id['COUPON_ID_hash'].unique()) "
   ]
  },
  {
   "cell_type": "markdown",
   "metadata": {},
   "source": [
    "### Summary\n",
    "One in 19 413 coupons in train test and 271 in 310 coupons in test set were never visited.\n",
    "Only 122 389 in 2 833 180  PURCHASEID_hash entries are not NaNs.\n",
    "114 775 of these IDs are unique.\n",
    "\n",
    "*Important*: looks like only "
   ]
  },
  {
   "cell_type": "markdown",
   "metadata": {},
   "source": [
    "## coupon_detail_train.csv"
   ]
  },
  {
   "cell_type": "code",
   "execution_count": 35,
   "metadata": {
    "collapsed": false
   },
   "outputs": [],
   "source": [
    "detail = pd.read_csv('coupon_detail_train.csv')\n",
    "detail.drop('ITEM_COUNT', axis = 1, inplace = True)\n",
    "\n",
    "# I_DATE to number of days since start time. Negative numbers to zero.\n",
    "detail['I_DATE'] = pd.to_datetime(detail['I_DATE'])\n",
    "detail['I_DATE'] = detail['I_DATE'].map(lambda x : 0 if x < start_time else (x - start_time).days)"
   ]
  },
  {
   "cell_type": "code",
   "execution_count": 36,
   "metadata": {
    "collapsed": false
   },
   "outputs": [
    {
     "data": {
      "text/html": [
       "<div>\n",
       "<table border=\"1\" class=\"dataframe\">\n",
       "  <thead>\n",
       "    <tr style=\"text-align: right;\">\n",
       "      <th></th>\n",
       "      <th>I_DATE</th>\n",
       "      <th>SMALL_AREA_NAME</th>\n",
       "      <th>PURCHASEID_hash</th>\n",
       "      <th>USER_ID_hash</th>\n",
       "      <th>COUPON_ID_hash</th>\n",
       "    </tr>\n",
       "  </thead>\n",
       "  <tbody>\n",
       "    <tr>\n",
       "      <th>0</th>\n",
       "      <td>275</td>\n",
       "      <td>兵庫</td>\n",
       "      <td>c820a8882374a4e472f0984a8825893f</td>\n",
       "      <td>d9dca3cb44bab12ba313eaa681f663eb</td>\n",
       "      <td>34c48f84026e08355dc3bd19b427f09a</td>\n",
       "    </tr>\n",
       "    <tr>\n",
       "      <th>1</th>\n",
       "      <td>7</td>\n",
       "      <td>銀座・新橋・東京・上野</td>\n",
       "      <td>1b4eb2435421ede98c8931c42e8220ec</td>\n",
       "      <td>560574a339f1b25e57b0221e486907ed</td>\n",
       "      <td>767673b7a777854a92b73b0934ddfae7</td>\n",
       "    </tr>\n",
       "    <tr>\n",
       "      <th>2</th>\n",
       "      <td>19</td>\n",
       "      <td>恵比寿・目黒・品川</td>\n",
       "      <td>36b5f9ba46c44b65587d0b16f2e4c77f</td>\n",
       "      <td>560574a339f1b25e57b0221e486907ed</td>\n",
       "      <td>4f3b5b91d9831192557c056022fdc1f2</td>\n",
       "    </tr>\n",
       "    <tr>\n",
       "      <th>3</th>\n",
       "      <td>19</td>\n",
       "      <td>恵比寿・目黒・品川</td>\n",
       "      <td>2f30f46937cc9004774e576914b2aa1a</td>\n",
       "      <td>560574a339f1b25e57b0221e486907ed</td>\n",
       "      <td>4f3b5b91d9831192557c056022fdc1f2</td>\n",
       "    </tr>\n",
       "    <tr>\n",
       "      <th>4</th>\n",
       "      <td>19</td>\n",
       "      <td>恵比寿・目黒・品川</td>\n",
       "      <td>4d000c64a55ac573d0ae1a8f03677f50</td>\n",
       "      <td>560574a339f1b25e57b0221e486907ed</td>\n",
       "      <td>4f3b5b91d9831192557c056022fdc1f2</td>\n",
       "    </tr>\n",
       "  </tbody>\n",
       "</table>\n",
       "</div>"
      ],
      "text/plain": [
       "   I_DATE SMALL_AREA_NAME                   PURCHASEID_hash  \\\n",
       "0     275              兵庫  c820a8882374a4e472f0984a8825893f   \n",
       "1       7     銀座・新橋・東京・上野  1b4eb2435421ede98c8931c42e8220ec   \n",
       "2      19       恵比寿・目黒・品川  36b5f9ba46c44b65587d0b16f2e4c77f   \n",
       "3      19       恵比寿・目黒・品川  2f30f46937cc9004774e576914b2aa1a   \n",
       "4      19       恵比寿・目黒・品川  4d000c64a55ac573d0ae1a8f03677f50   \n",
       "\n",
       "                       USER_ID_hash                    COUPON_ID_hash  \n",
       "0  d9dca3cb44bab12ba313eaa681f663eb  34c48f84026e08355dc3bd19b427f09a  \n",
       "1  560574a339f1b25e57b0221e486907ed  767673b7a777854a92b73b0934ddfae7  \n",
       "2  560574a339f1b25e57b0221e486907ed  4f3b5b91d9831192557c056022fdc1f2  \n",
       "3  560574a339f1b25e57b0221e486907ed  4f3b5b91d9831192557c056022fdc1f2  \n",
       "4  560574a339f1b25e57b0221e486907ed  4f3b5b91d9831192557c056022fdc1f2  "
      ]
     },
     "execution_count": 36,
     "metadata": {},
     "output_type": "execute_result"
    }
   ],
   "source": [
    "detail.head()"
   ]
  },
  {
   "cell_type": "code",
   "execution_count": 44,
   "metadata": {
    "collapsed": false
   },
   "outputs": [
    {
     "name": "stdout",
     "output_type": "stream",
     "text": [
      "<class 'pandas.core.frame.DataFrame'>\n",
      "Int64Index: 168996 entries, 0 to 168995\n",
      "Data columns (total 5 columns):\n",
      "I_DATE             168996 non-null int64\n",
      "SMALL_AREA_NAME    168996 non-null object\n",
      "PURCHASEID_hash    168996 non-null object\n",
      "USER_ID_hash       168996 non-null object\n",
      "COUPON_ID_hash     168996 non-null object\n",
      "dtypes: int64(1), object(4)\n",
      "memory usage: 7.7+ MB\n"
     ]
    }
   ],
   "source": [
    "detail.info()"
   ]
  },
  {
   "cell_type": "code",
   "execution_count": 45,
   "metadata": {
    "collapsed": false
   },
   "outputs": [
    {
     "name": "stdout",
     "output_type": "stream",
     "text": [
      "Number of unique entries in I_DATE 359\n",
      "Number of unique entries in SMALL_AREA_NAME 55\n",
      "Number of unique entries in PURCHASEID_hash 168996\n",
      "Number of unique entries in USER_ID_hash 22782\n",
      "Number of unique entries in COUPON_ID_hash 19368\n"
     ]
    }
   ],
   "source": [
    "for col in detail:\n",
    "    print 'Number of unique entries in', col, len(detail[col].unique())"
   ]
  },
  {
   "cell_type": "code",
   "execution_count": 37,
   "metadata": {
    "collapsed": false
   },
   "outputs": [
    {
     "name": "stdout",
     "output_type": "stream",
     "text": [
      "Latest transaction day: 362\n"
     ]
    }
   ],
   "source": [
    "print 'Latest transaction day:', max(detail['I_DATE'])"
   ]
  },
  {
   "cell_type": "code",
   "execution_count": 51,
   "metadata": {
    "collapsed": false
   },
   "outputs": [
    {
     "name": "stdout",
     "output_type": "stream",
     "text": [
      " Unique coupons in joined list: 19723\n",
      "Unique coupons in visit list: 32628\n",
      "Unique coupons in detail list: 19368\n",
      "Intersection beween joined and visit sets of users: 19451\n",
      "Intersection beween joined and detail sets of users: 19368\n",
      "Intersection beween detail and visit sets of coupons: 19367\n"
     ]
    }
   ],
   "source": [
    "detail_couponID = set(detail['COUPON_ID_hash'].unique())\n",
    "\n",
    "print 'Unique coupons in joined list:', len(joined_couponID)\n",
    "print 'Unique coupons in visit list:', len(visit_couponID)\n",
    "print 'Unique coupons in detail list:', len(detail_couponID)\n",
    "print 'Intersection beween joined and visit sets of users:', len(joined_couponID.intersection(visit_couponID))\n",
    "print 'Intersection beween joined and detail sets of users:', len(joined_couponID.intersection(detail_couponID))\n",
    "print 'Intersection beween detail and visit sets of coupons:', len(detail_couponID.intersection(visit_couponID))"
   ]
  },
  {
   "cell_type": "code",
   "execution_count": 48,
   "metadata": {
    "collapsed": false
   },
   "outputs": [
    {
     "name": "stdout",
     "output_type": "stream",
     "text": [
      "Unique users in users list: 22873\n",
      "Unique users in visit list: 22805\n",
      "Unique users in detail list: 22782\n",
      "Intersection beween users and visit sets of users: 22805\n",
      "Intersection beween users and detail sets of users: 22782\n",
      "Intersection beween detail and visit sets of users: 22754\n"
     ]
    }
   ],
   "source": [
    "detail_userID = set(detail['USER_ID_hash'].unique())\n",
    "\n",
    "print 'Unique users in users list:', len(users_userID)\n",
    "print 'Unique users in visit list:', len(visit_userID)\n",
    "print 'Unique users in detail list:', len(detail_userID)\n",
    "print 'Intersection beween users and visit sets of users:', len(users_userID.intersection(visit_userID))\n",
    "print 'Intersection beween users and detail sets of users:', len(users_userID.intersection(detail_userID))\n",
    "print 'Intersection beween detail and visit sets of users:', len(detail_userID.intersection(visit_userID))"
   ]
  },
  {
   "cell_type": "markdown",
   "metadata": {},
   "source": [
    "# I don't actually need detail, because:\n",
    "# - I don't have that data for test\n",
    "# - visit file is enough to get answers for train set\n",
    "\n",
    "# See 01 Explore data for cleaned up version"
   ]
  },
  {
   "cell_type": "markdown",
   "metadata": {},
   "source": [
    "## Sets of users and coupons"
   ]
  },
  {
   "cell_type": "code",
   "execution_count": 111,
   "metadata": {
    "collapsed": false
   },
   "outputs": [
    {
     "name": "stdout",
     "output_type": "stream",
     "text": [
      "Unique users in users list: 22873\n",
      "Unique users in index list: 22805 \n",
      "\n",
      "Intersection beween users and index sets of users: 22805\n"
     ]
    }
   ],
   "source": [
    "print 'Unique users in users list:', len(users_userID)\n",
    "print 'Unique users in index list:', len(index_userID), '\\n'\n",
    "\n",
    "print 'Intersection beween users and index sets of users:', len(users_userID.intersection(index_userID))\n",
    "# Users that are not in index_id table should be ones from test set (the ones we don't have answers for)."
   ]
  },
  {
   "cell_type": "code",
   "execution_count": 112,
   "metadata": {
    "collapsed": false
   },
   "outputs": [
    {
     "name": "stdout",
     "output_type": "stream",
     "text": [
      "Unique coupons in joined list: 19723\n",
      "Unique coupons in train list: 19413\n",
      "Unique coupons in test list: 310\n",
      "Unique coupons in index list: 32628 \n",
      "\n",
      "Intersection beween joined and index sets of coupons: 19451\n",
      "Intersection beween train and index sets of coupons: 19412\n",
      "Intersection beween test and index sets of coupons: 39\n"
     ]
    }
   ],
   "source": [
    "print 'Unique coupons in joined list:', len(joined_couponID)\n",
    "print 'Unique coupons in train list:', len(train_couponID)\n",
    "print 'Unique coupons in test list:', len(test_couponID)\n",
    "print 'Unique coupons in index list:', len(index_couponID), '\\n'\n",
    "\n",
    "print 'Intersection beween joined and index sets of coupons:', len(joined_couponID.intersection(index_couponID))\n",
    "print 'Intersection beween train and index sets of coupons:', len(train_couponID.intersection(index_couponID))\n",
    "print 'Intersection beween test and index sets of coupons:', len(test_couponID.intersection(index_couponID))"
   ]
  },
  {
   "cell_type": "markdown",
   "metadata": {},
   "source": [
    "We know for sure that some of the coupons from test set were viewed (and maybe used; should check).\n",
    "But by which users? If train users, everythin is fine, I'll lose no info when I merge tables.\n",
    "If by test users, I need to decide whether I want to use this information for prediction."
   ]
  },
  {
   "cell_type": "code",
   "execution_count": null,
   "metadata": {
    "collapsed": true
   },
   "outputs": [],
   "source": []
  }
 ],
 "metadata": {
  "kernelspec": {
   "display_name": "Python 2",
   "language": "python",
   "name": "python2"
  },
  "language_info": {
   "codemirror_mode": {
    "name": "ipython",
    "version": 2
   },
   "file_extension": ".py",
   "mimetype": "text/x-python",
   "name": "python",
   "nbconvert_exporter": "python",
   "pygments_lexer": "ipython2",
   "version": "2.7.9"
  }
 },
 "nbformat": 4,
 "nbformat_minor": 0
}
