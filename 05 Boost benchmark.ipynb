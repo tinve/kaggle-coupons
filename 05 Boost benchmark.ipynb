{
 "cells": [
  {
   "cell_type": "code",
   "execution_count": 1,
   "metadata": {
    "collapsed": true
   },
   "outputs": [],
   "source": [
    "from __future__ import division\n",
    "\n",
    "import pandas as pd\n",
    "import numpy as np"
   ]
  },
  {
   "cell_type": "code",
   "execution_count": 2,
   "metadata": {
    "collapsed": true
   },
   "outputs": [],
   "source": [
    "benchmark = pd.read_csv('benchmark.csv')"
   ]
  },
  {
   "cell_type": "code",
   "execution_count": 8,
   "metadata": {
    "collapsed": false
   },
   "outputs": [
    {
     "name": "stdout",
     "output_type": "stream",
     "text": [
      "<class 'pandas.core.frame.DataFrame'>\n",
      "Int64Index: 22873 entries, 0 to 22872\n",
      "Data columns (total 2 columns):\n",
      "USER_ID_hash         22873 non-null object\n",
      "PURCHASED_COUPONS    22833 non-null object\n",
      "dtypes: object(2)\n",
      "memory usage: 536.1+ KB\n"
     ]
    }
   ],
   "source": [
    "benchmark.info()"
   ]
  },
  {
   "cell_type": "code",
   "execution_count": 4,
   "metadata": {
    "collapsed": false
   },
   "outputs": [
    {
     "data": {
      "text/html": [
       "<div>\n",
       "<table border=\"1\" class=\"dataframe\">\n",
       "  <thead>\n",
       "    <tr style=\"text-align: right;\">\n",
       "      <th></th>\n",
       "      <th>USER_ID_hash</th>\n",
       "      <th>PURCHASED_COUPONS</th>\n",
       "    </tr>\n",
       "  </thead>\n",
       "  <tbody>\n",
       "    <tr>\n",
       "      <th>929</th>\n",
       "      <td>0aa3ad3ad9f8f5455d94d10f711f340c</td>\n",
       "      <td>NaN</td>\n",
       "    </tr>\n",
       "    <tr>\n",
       "      <th>2203</th>\n",
       "      <td>18a9503065bba3b294249b39a498a325</td>\n",
       "      <td>NaN</td>\n",
       "    </tr>\n",
       "    <tr>\n",
       "      <th>2731</th>\n",
       "      <td>1e3dfda72166740a8041212e6e98dd7a</td>\n",
       "      <td>NaN</td>\n",
       "    </tr>\n",
       "    <tr>\n",
       "      <th>2824</th>\n",
       "      <td>1f51bc2422ce79fec91e2fc66bb28d03</td>\n",
       "      <td>NaN</td>\n",
       "    </tr>\n",
       "    <tr>\n",
       "      <th>2877</th>\n",
       "      <td>1fe74103ba1d127445af7f4905173141</td>\n",
       "      <td>NaN</td>\n",
       "    </tr>\n",
       "    <tr>\n",
       "      <th>2896</th>\n",
       "      <td>2020c1ce40119a48cc23281ed61985a5</td>\n",
       "      <td>NaN</td>\n",
       "    </tr>\n",
       "    <tr>\n",
       "      <th>3000</th>\n",
       "      <td>211b4ff405ca621652df03e7dd2e6b12</td>\n",
       "      <td>NaN</td>\n",
       "    </tr>\n",
       "    <tr>\n",
       "      <th>3864</th>\n",
       "      <td>2afae5db6fa579a0780fc2059f6ddd34</td>\n",
       "      <td>NaN</td>\n",
       "    </tr>\n",
       "    <tr>\n",
       "      <th>5307</th>\n",
       "      <td>3be924043f64ca2503ed0f1af8ba5558</td>\n",
       "      <td>NaN</td>\n",
       "    </tr>\n",
       "    <tr>\n",
       "      <th>5771</th>\n",
       "      <td>4148480f120ebc38eb760b66c2c0bb74</td>\n",
       "      <td>NaN</td>\n",
       "    </tr>\n",
       "    <tr>\n",
       "      <th>6053</th>\n",
       "      <td>44b2d9008d20727fd0f1dd7bcad1ae67</td>\n",
       "      <td>NaN</td>\n",
       "    </tr>\n",
       "    <tr>\n",
       "      <th>6379</th>\n",
       "      <td>484650287e7d4095a57a1940191886f3</td>\n",
       "      <td>NaN</td>\n",
       "    </tr>\n",
       "    <tr>\n",
       "      <th>7255</th>\n",
       "      <td>519dec6272ceee9451aaa4b43915a458</td>\n",
       "      <td>NaN</td>\n",
       "    </tr>\n",
       "    <tr>\n",
       "      <th>7560</th>\n",
       "      <td>552ad4da4e825de84b1afb6289c138ee</td>\n",
       "      <td>NaN</td>\n",
       "    </tr>\n",
       "    <tr>\n",
       "      <th>8507</th>\n",
       "      <td>5fc9c05ec3a038d56faf36baa7d33acf</td>\n",
       "      <td>NaN</td>\n",
       "    </tr>\n",
       "    <tr>\n",
       "      <th>8618</th>\n",
       "      <td>6114083e0a0045d135aa80e000ae4afa</td>\n",
       "      <td>NaN</td>\n",
       "    </tr>\n",
       "    <tr>\n",
       "      <th>8661</th>\n",
       "      <td>6168a7883b13479db3d87a7e991d5735</td>\n",
       "      <td>NaN</td>\n",
       "    </tr>\n",
       "    <tr>\n",
       "      <th>9139</th>\n",
       "      <td>66e661b3b2a4a3ba961bb3c1613b2bcb</td>\n",
       "      <td>NaN</td>\n",
       "    </tr>\n",
       "    <tr>\n",
       "      <th>10900</th>\n",
       "      <td>7a10712ff9fb1daa3be900b7aa55fe32</td>\n",
       "      <td>NaN</td>\n",
       "    </tr>\n",
       "    <tr>\n",
       "      <th>11094</th>\n",
       "      <td>7c35af1978bd0d6cffcc49400a989eb5</td>\n",
       "      <td>NaN</td>\n",
       "    </tr>\n",
       "    <tr>\n",
       "      <th>11216</th>\n",
       "      <td>7d6f64016b1d8bdf02a6cbe149d7cfab</td>\n",
       "      <td>NaN</td>\n",
       "    </tr>\n",
       "    <tr>\n",
       "      <th>12118</th>\n",
       "      <td>86e22ea18f5d4558818c50bbaf7c009d</td>\n",
       "      <td>NaN</td>\n",
       "    </tr>\n",
       "    <tr>\n",
       "      <th>12746</th>\n",
       "      <td>8da48842b9462e1c99252ae37279e297</td>\n",
       "      <td>NaN</td>\n",
       "    </tr>\n",
       "    <tr>\n",
       "      <th>12779</th>\n",
       "      <td>8e0d7f4cdb2e4550c68a0dd4cb85f45e</td>\n",
       "      <td>NaN</td>\n",
       "    </tr>\n",
       "    <tr>\n",
       "      <th>13109</th>\n",
       "      <td>91c924b2a6967021beae70c3cbb7f2ca</td>\n",
       "      <td>NaN</td>\n",
       "    </tr>\n",
       "    <tr>\n",
       "      <th>13299</th>\n",
       "      <td>93c7029756e720aaedc8581848f3ea23</td>\n",
       "      <td>NaN</td>\n",
       "    </tr>\n",
       "    <tr>\n",
       "      <th>14223</th>\n",
       "      <td>9e183f01d82ac8bf653a679a68848adc</td>\n",
       "      <td>NaN</td>\n",
       "    </tr>\n",
       "    <tr>\n",
       "      <th>14262</th>\n",
       "      <td>9e795f533831341f1c1d21d9b83ff4e7</td>\n",
       "      <td>NaN</td>\n",
       "    </tr>\n",
       "    <tr>\n",
       "      <th>14768</th>\n",
       "      <td>a430df69523d291460db24b076297d81</td>\n",
       "      <td>NaN</td>\n",
       "    </tr>\n",
       "    <tr>\n",
       "      <th>15502</th>\n",
       "      <td>ac35ac2b5be94d7c186b4be81a8aea8b</td>\n",
       "      <td>NaN</td>\n",
       "    </tr>\n",
       "    <tr>\n",
       "      <th>15674</th>\n",
       "      <td>ae1f18874b581746d723140975f3667e</td>\n",
       "      <td>NaN</td>\n",
       "    </tr>\n",
       "    <tr>\n",
       "      <th>16654</th>\n",
       "      <td>b93ef5b5782c063f9ce52cceaba2f23e</td>\n",
       "      <td>NaN</td>\n",
       "    </tr>\n",
       "    <tr>\n",
       "      <th>17287</th>\n",
       "      <td>c068d179b8e1f82205949d0c7d91c7ca</td>\n",
       "      <td>NaN</td>\n",
       "    </tr>\n",
       "    <tr>\n",
       "      <th>17394</th>\n",
       "      <td>c198deabad4c51b20dc85625cdc8a351</td>\n",
       "      <td>NaN</td>\n",
       "    </tr>\n",
       "    <tr>\n",
       "      <th>17532</th>\n",
       "      <td>c31c8652cf967bda0c952f444fd1b995</td>\n",
       "      <td>NaN</td>\n",
       "    </tr>\n",
       "    <tr>\n",
       "      <th>19218</th>\n",
       "      <td>d6258f6d0cf8415fcc8d96f726836816</td>\n",
       "      <td>NaN</td>\n",
       "    </tr>\n",
       "    <tr>\n",
       "      <th>20189</th>\n",
       "      <td>e14aeda5f2629698dc2003392191374b</td>\n",
       "      <td>NaN</td>\n",
       "    </tr>\n",
       "    <tr>\n",
       "      <th>20603</th>\n",
       "      <td>e6328b1b60386b705ba6d93db2ca285b</td>\n",
       "      <td>NaN</td>\n",
       "    </tr>\n",
       "    <tr>\n",
       "      <th>22071</th>\n",
       "      <td>f6cfc95a010eb279829c14efe11da85e</td>\n",
       "      <td>NaN</td>\n",
       "    </tr>\n",
       "    <tr>\n",
       "      <th>22826</th>\n",
       "      <td>ff81d7ccb52b6510b8a5d98ffa26319c</td>\n",
       "      <td>NaN</td>\n",
       "    </tr>\n",
       "  </tbody>\n",
       "</table>\n",
       "</div>"
      ],
      "text/plain": [
       "                           USER_ID_hash PURCHASED_COUPONS\n",
       "929    0aa3ad3ad9f8f5455d94d10f711f340c               NaN\n",
       "2203   18a9503065bba3b294249b39a498a325               NaN\n",
       "2731   1e3dfda72166740a8041212e6e98dd7a               NaN\n",
       "2824   1f51bc2422ce79fec91e2fc66bb28d03               NaN\n",
       "2877   1fe74103ba1d127445af7f4905173141               NaN\n",
       "2896   2020c1ce40119a48cc23281ed61985a5               NaN\n",
       "3000   211b4ff405ca621652df03e7dd2e6b12               NaN\n",
       "3864   2afae5db6fa579a0780fc2059f6ddd34               NaN\n",
       "5307   3be924043f64ca2503ed0f1af8ba5558               NaN\n",
       "5771   4148480f120ebc38eb760b66c2c0bb74               NaN\n",
       "6053   44b2d9008d20727fd0f1dd7bcad1ae67               NaN\n",
       "6379   484650287e7d4095a57a1940191886f3               NaN\n",
       "7255   519dec6272ceee9451aaa4b43915a458               NaN\n",
       "7560   552ad4da4e825de84b1afb6289c138ee               NaN\n",
       "8507   5fc9c05ec3a038d56faf36baa7d33acf               NaN\n",
       "8618   6114083e0a0045d135aa80e000ae4afa               NaN\n",
       "8661   6168a7883b13479db3d87a7e991d5735               NaN\n",
       "9139   66e661b3b2a4a3ba961bb3c1613b2bcb               NaN\n",
       "10900  7a10712ff9fb1daa3be900b7aa55fe32               NaN\n",
       "11094  7c35af1978bd0d6cffcc49400a989eb5               NaN\n",
       "11216  7d6f64016b1d8bdf02a6cbe149d7cfab               NaN\n",
       "12118  86e22ea18f5d4558818c50bbaf7c009d               NaN\n",
       "12746  8da48842b9462e1c99252ae37279e297               NaN\n",
       "12779  8e0d7f4cdb2e4550c68a0dd4cb85f45e               NaN\n",
       "13109  91c924b2a6967021beae70c3cbb7f2ca               NaN\n",
       "13299  93c7029756e720aaedc8581848f3ea23               NaN\n",
       "14223  9e183f01d82ac8bf653a679a68848adc               NaN\n",
       "14262  9e795f533831341f1c1d21d9b83ff4e7               NaN\n",
       "14768  a430df69523d291460db24b076297d81               NaN\n",
       "15502  ac35ac2b5be94d7c186b4be81a8aea8b               NaN\n",
       "15674  ae1f18874b581746d723140975f3667e               NaN\n",
       "16654  b93ef5b5782c063f9ce52cceaba2f23e               NaN\n",
       "17287  c068d179b8e1f82205949d0c7d91c7ca               NaN\n",
       "17394  c198deabad4c51b20dc85625cdc8a351               NaN\n",
       "17532  c31c8652cf967bda0c952f444fd1b995               NaN\n",
       "19218  d6258f6d0cf8415fcc8d96f726836816               NaN\n",
       "20189  e14aeda5f2629698dc2003392191374b               NaN\n",
       "20603  e6328b1b60386b705ba6d93db2ca285b               NaN\n",
       "22071  f6cfc95a010eb279829c14efe11da85e               NaN\n",
       "22826  ff81d7ccb52b6510b8a5d98ffa26319c               NaN"
      ]
     },
     "execution_count": 4,
     "metadata": {},
     "output_type": "execute_result"
    }
   ],
   "source": [
    "benchmark[benchmark['PURCHASED_COUPONS'].isnull()]"
   ]
  },
  {
   "cell_type": "code",
   "execution_count": 10,
   "metadata": {
    "collapsed": false
   },
   "outputs": [],
   "source": [
    "# split = benchmark.copy()\n",
    "# split['PURCHASED_COUPONS'].apply(lambda x : x.split(' '))"
   ]
  },
  {
   "cell_type": "markdown",
   "metadata": {},
   "source": [
    "# WRONG APPROACH! USE MOST POPULAR OF **TEST** COUPONS"
   ]
  },
  {
   "cell_type": "code",
   "execution_count": 11,
   "metadata": {
    "collapsed": false
   },
   "outputs": [],
   "source": [
    "visit = pd.read_csv('coupon_visit_train.csv')\n",
    "visit.drop(['PAGE_SERIAL', 'REFERRER_hash', 'SESSION_ID_hash', 'I_DATE'], axis = 1, inplace = True)\n",
    "\n",
    "visit = visit.drop_duplicates()"
   ]
  },
  {
   "cell_type": "code",
   "execution_count": 12,
   "metadata": {
    "collapsed": false
   },
   "outputs": [
    {
     "data": {
      "text/html": [
       "<div>\n",
       "<table border=\"1\" class=\"dataframe\">\n",
       "  <thead>\n",
       "    <tr style=\"text-align: right;\">\n",
       "      <th></th>\n",
       "      <th>USER_ID_hash</th>\n",
       "      <th>COUPON_ID_hash</th>\n",
       "      <th>PURCHASE_FLG</th>\n",
       "    </tr>\n",
       "  </thead>\n",
       "  <tbody>\n",
       "    <tr>\n",
       "      <th>0</th>\n",
       "      <td>0000b53e182165208887ba65c079fc21</td>\n",
       "      <td>0645faa156f34104e6d8910160868f9f</td>\n",
       "      <td>0</td>\n",
       "    </tr>\n",
       "    <tr>\n",
       "      <th>1</th>\n",
       "      <td>0000b53e182165208887ba65c079fc21</td>\n",
       "      <td>18097cd25ab6b7e8eb0481b0e3a3cfd8</td>\n",
       "      <td>0</td>\n",
       "    </tr>\n",
       "    <tr>\n",
       "      <th>2</th>\n",
       "      <td>0000b53e182165208887ba65c079fc21</td>\n",
       "      <td>1b581f2ed53f2f2eafbc1560db640194</td>\n",
       "      <td>0</td>\n",
       "    </tr>\n",
       "    <tr>\n",
       "      <th>3</th>\n",
       "      <td>0000b53e182165208887ba65c079fc21</td>\n",
       "      <td>1d04e76c44c231d5d05dc1634d20fe8c</td>\n",
       "      <td>0</td>\n",
       "    </tr>\n",
       "    <tr>\n",
       "      <th>4</th>\n",
       "      <td>0000b53e182165208887ba65c079fc21</td>\n",
       "      <td>2962b9f2ec7ecde9daddf53dd3118526</td>\n",
       "      <td>0</td>\n",
       "    </tr>\n",
       "  </tbody>\n",
       "</table>\n",
       "</div>"
      ],
      "text/plain": [
       "                       USER_ID_hash                    COUPON_ID_hash  \\\n",
       "0  0000b53e182165208887ba65c079fc21  0645faa156f34104e6d8910160868f9f   \n",
       "1  0000b53e182165208887ba65c079fc21  18097cd25ab6b7e8eb0481b0e3a3cfd8   \n",
       "2  0000b53e182165208887ba65c079fc21  1b581f2ed53f2f2eafbc1560db640194   \n",
       "3  0000b53e182165208887ba65c079fc21  1d04e76c44c231d5d05dc1634d20fe8c   \n",
       "4  0000b53e182165208887ba65c079fc21  2962b9f2ec7ecde9daddf53dd3118526   \n",
       "\n",
       "   PURCHASE_FLG  \n",
       "0             0  \n",
       "1             0  \n",
       "2             0  \n",
       "3             0  \n",
       "4             0  "
      ]
     },
     "execution_count": 12,
     "metadata": {},
     "output_type": "execute_result"
    }
   ],
   "source": [
    "index_id = visit.drop_duplicates().groupby(['USER_ID_hash', 'VIEW_COUPON_ID_hash']).sum().reset_index()\n",
    "index_id['PURCHASE_FLG'] = index_id['PURCHASE_FLG'].map(lambda x: 1 if x > 0 else 0)\n",
    "index_id.rename(columns={'VIEW_COUPON_ID_hash' : 'COUPON_ID_hash'}, inplace = True)\n",
    "index_id.head()"
   ]
  },
  {
   "cell_type": "markdown",
   "metadata": {},
   "source": [
    "## coupon_detail_train.csv"
   ]
  },
  {
   "cell_type": "code",
   "execution_count": 13,
   "metadata": {
    "collapsed": false
   },
   "outputs": [
    {
     "data": {
      "text/html": [
       "<div>\n",
       "<table border=\"1\" class=\"dataframe\">\n",
       "  <thead>\n",
       "    <tr style=\"text-align: right;\">\n",
       "      <th></th>\n",
       "      <th>USER_ID_hash</th>\n",
       "      <th>COUPON_ID_hash</th>\n",
       "      <th>PURCHASE_FLG</th>\n",
       "    </tr>\n",
       "  </thead>\n",
       "  <tbody>\n",
       "    <tr>\n",
       "      <th>0</th>\n",
       "      <td>d9dca3cb44bab12ba313eaa681f663eb</td>\n",
       "      <td>34c48f84026e08355dc3bd19b427f09a</td>\n",
       "      <td>1</td>\n",
       "    </tr>\n",
       "    <tr>\n",
       "      <th>1</th>\n",
       "      <td>560574a339f1b25e57b0221e486907ed</td>\n",
       "      <td>767673b7a777854a92b73b0934ddfae7</td>\n",
       "      <td>1</td>\n",
       "    </tr>\n",
       "    <tr>\n",
       "      <th>2</th>\n",
       "      <td>560574a339f1b25e57b0221e486907ed</td>\n",
       "      <td>4f3b5b91d9831192557c056022fdc1f2</td>\n",
       "      <td>1</td>\n",
       "    </tr>\n",
       "    <tr>\n",
       "      <th>3</th>\n",
       "      <td>560574a339f1b25e57b0221e486907ed</td>\n",
       "      <td>4f3b5b91d9831192557c056022fdc1f2</td>\n",
       "      <td>1</td>\n",
       "    </tr>\n",
       "    <tr>\n",
       "      <th>4</th>\n",
       "      <td>560574a339f1b25e57b0221e486907ed</td>\n",
       "      <td>4f3b5b91d9831192557c056022fdc1f2</td>\n",
       "      <td>1</td>\n",
       "    </tr>\n",
       "  </tbody>\n",
       "</table>\n",
       "</div>"
      ],
      "text/plain": [
       "                       USER_ID_hash                    COUPON_ID_hash  \\\n",
       "0  d9dca3cb44bab12ba313eaa681f663eb  34c48f84026e08355dc3bd19b427f09a   \n",
       "1  560574a339f1b25e57b0221e486907ed  767673b7a777854a92b73b0934ddfae7   \n",
       "2  560574a339f1b25e57b0221e486907ed  4f3b5b91d9831192557c056022fdc1f2   \n",
       "3  560574a339f1b25e57b0221e486907ed  4f3b5b91d9831192557c056022fdc1f2   \n",
       "4  560574a339f1b25e57b0221e486907ed  4f3b5b91d9831192557c056022fdc1f2   \n",
       "\n",
       "   PURCHASE_FLG  \n",
       "0             1  \n",
       "1             1  \n",
       "2             1  \n",
       "3             1  \n",
       "4             1  "
      ]
     },
     "execution_count": 13,
     "metadata": {},
     "output_type": "execute_result"
    }
   ],
   "source": [
    "detail = pd.read_csv('coupon_detail_train.csv')\n",
    "detail.drop(['ITEM_COUNT', 'I_DATE', 'SMALL_AREA_NAME', 'PURCHASEID_hash'], axis = 1, inplace = True)\n",
    "detail['PURCHASE_FLG'] = 1\n",
    "detail.head()"
   ]
  },
  {
   "cell_type": "code",
   "execution_count": 14,
   "metadata": {
    "collapsed": false
   },
   "outputs": [],
   "source": [
    "index_id = pd.concat([index_id, detail]).drop_duplicates()"
   ]
  },
  {
   "cell_type": "code",
   "execution_count": 15,
   "metadata": {
    "collapsed": false
   },
   "outputs": [],
   "source": [
    "index_id.drop('USER_ID_hash', axis = 1, inplace = True)"
   ]
  },
  {
   "cell_type": "code",
   "execution_count": 19,
   "metadata": {
    "collapsed": false
   },
   "outputs": [],
   "source": [
    "index_id = index_id.groupby('COUPON_ID_hash').aggregate(sum).reset_index()"
   ]
  },
  {
   "cell_type": "code",
   "execution_count": 23,
   "metadata": {
    "collapsed": false
   },
   "outputs": [],
   "source": [
    "popular = index_id.sort('PURCHASE_FLG', ascending = False).head(10)"
   ]
  },
  {
   "cell_type": "code",
   "execution_count": 25,
   "metadata": {
    "collapsed": false
   },
   "outputs": [],
   "source": [
    "popular = list(popular['COUPON_ID_hash'])"
   ]
  },
  {
   "cell_type": "code",
   "execution_count": 29,
   "metadata": {
    "collapsed": true
   },
   "outputs": [],
   "source": [
    "popular = ' '.join(popular)"
   ]
  },
  {
   "cell_type": "code",
   "execution_count": 30,
   "metadata": {
    "collapsed": false
   },
   "outputs": [
    {
     "data": {
      "text/plain": [
       "'a262c7ff56a5cd3de3c5c40443f3018c 3d9029d3ec66802b11ee2645dc16e8cb 09411858ae07c0be91aeeddacf4556b4 7fc6567f470af5356ae97097dbe18486 bf69bd9e0e26fa1f62243d1fcada38f1 047fb1f23d8cedea8cb86956cfd4b7cf 36addcc4b958135895c859d8783e3cd2 3e6d617c55328b761d62510167c43c08 229ff5cc21c8d26615493be7f3b42841 4a79cd05ecb2bf8672e1d955f5faa7fa'"
      ]
     },
     "execution_count": 30,
     "metadata": {},
     "output_type": "execute_result"
    }
   ],
   "source": [
    "popular"
   ]
  },
  {
   "cell_type": "code",
   "execution_count": 32,
   "metadata": {
    "collapsed": false
   },
   "outputs": [],
   "source": [
    "modified = benchmark.fillna(popular)"
   ]
  },
  {
   "cell_type": "code",
   "execution_count": 33,
   "metadata": {
    "collapsed": false
   },
   "outputs": [
    {
     "data": {
      "text/html": [
       "<div>\n",
       "<table border=\"1\" class=\"dataframe\">\n",
       "  <thead>\n",
       "    <tr style=\"text-align: right;\">\n",
       "      <th></th>\n",
       "      <th>USER_ID_hash</th>\n",
       "      <th>PURCHASED_COUPONS</th>\n",
       "    </tr>\n",
       "  </thead>\n",
       "  <tbody>\n",
       "  </tbody>\n",
       "</table>\n",
       "</div>"
      ],
      "text/plain": [
       "Empty DataFrame\n",
       "Columns: [USER_ID_hash, PURCHASED_COUPONS]\n",
       "Index: []"
      ]
     },
     "execution_count": 33,
     "metadata": {},
     "output_type": "execute_result"
    }
   ],
   "source": [
    "modified[modified['PURCHASED_COUPONS'].isnull()]"
   ]
  },
  {
   "cell_type": "code",
   "execution_count": 34,
   "metadata": {
    "collapsed": true
   },
   "outputs": [],
   "source": [
    "modified.to_csv('modified_benchmark.csv', index = False)"
   ]
  },
  {
   "cell_type": "code",
   "execution_count": null,
   "metadata": {
    "collapsed": true
   },
   "outputs": [],
   "source": []
  }
 ],
 "metadata": {
  "kernelspec": {
   "display_name": "Python 2",
   "language": "python",
   "name": "python2"
  },
  "language_info": {
   "codemirror_mode": {
    "name": "ipython",
    "version": 2
   },
   "file_extension": ".py",
   "mimetype": "text/x-python",
   "name": "python",
   "nbconvert_exporter": "python",
   "pygments_lexer": "ipython2",
   "version": "2.7.9"
  }
 },
 "nbformat": 4,
 "nbformat_minor": 0
}
