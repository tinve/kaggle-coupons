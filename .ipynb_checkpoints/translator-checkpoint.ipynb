{
 "cells": [
  {
   "cell_type": "code",
   "execution_count": 21,
   "metadata": {
    "collapsed": false
   },
   "outputs": [],
   "source": [
    "import pandas as pd\n",
    "import xlrd\n",
    "import sys\n",
    "\n",
    "reload(sys)\n",
    "sys.setdefaultencoding('utf8')\n",
    "\n",
    "def encode_text(data):\n",
    "    text = data.encode(\"UTF-8\")\n",
    "    return text\n",
    "\n",
    "df = pd.read_excel('documentation/CAPSULE_TEXT_Translation.xlsx',skiprows = 5)\n",
    "# dictionary for the column 'CAPSULE_TEXT'.\n",
    "k = [ encode_text(x) for x in df['CAPSULE_TEXT'] ] \n",
    "v = [ encode_text(x) for x in df['English Translation'] ]\n",
    "capsuleText = dict(zip(k,v))\n",
    "\n",
    "# dictionary for the column 'GENRE_NAME'.\n",
    "k = df['CAPSULE_TEXT.1'].dropna()\n",
    "v = df['English Translation.1'].dropna()\n",
    "k = [ encode_text(x) for x in k ]\n",
    "v = [ encode_text(x) for x in v ]\n",
    "genreName = dict(zip(k,v))\n",
    "\n",
    "#translating the columns from japanese to english.\n",
    "files = ['coupon_list_train','coupon_list_test']\n",
    "\n",
    "for f in files:\n",
    "    df = pd.read_csv(f + '.csv')\n",
    "    df['CAPSULE_TEXT'] = [ capsuleText[encode_text(x)] for x in df['CAPSULE_TEXT'] ]\n",
    "    df['GENRE_NAME'] = [ genreName[encode_text(x)] for x in df['GENRE_NAME'] ]\n",
    "    df.to_csv(f + '_translated.csv',index = False)                "
   ]
  }
 ],
 "metadata": {
  "kernelspec": {
   "display_name": "Python 2",
   "language": "python",
   "name": "python2"
  },
  "language_info": {
   "codemirror_mode": {
    "name": "ipython",
    "version": 2
   },
   "file_extension": ".py",
   "mimetype": "text/x-python",
   "name": "python",
   "nbconvert_exporter": "python",
   "pygments_lexer": "ipython2",
   "version": "2.7.9"
  }
 },
 "nbformat": 4,
 "nbformat_minor": 0
}
