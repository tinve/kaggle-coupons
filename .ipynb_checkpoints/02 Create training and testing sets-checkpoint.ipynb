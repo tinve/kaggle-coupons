{
 "cells": [
  {
   "cell_type": "code",
   "execution_count": 15,
   "metadata": {
    "collapsed": false
   },
   "outputs": [],
   "source": [
    "from __future__ import division\n",
    "\n",
    "import pandas as pd\n",
    "import numpy as np\n",
    "import graphlab as gl\n",
    "import sys\n",
    "\n",
    "sys.path.append('/home/galina/PythonProjects/common_functions')\n",
    "import preprocess"
   ]
  },
  {
   "cell_type": "code",
   "execution_count": 16,
   "metadata": {
    "collapsed": false
   },
   "outputs": [],
   "source": [
    "start_time = pd.to_datetime('2011-06-27')\n",
    "end_time = pd.to_datetime('2012-12-30')\n",
    "time_length = int((end_time - start_time).days)"
   ]
  },
  {
   "cell_type": "markdown",
   "metadata": {},
   "source": [
    "## user_list.csv"
   ]
  },
  {
   "cell_type": "code",
   "execution_count": 17,
   "metadata": {
    "collapsed": false
   },
   "outputs": [],
   "source": [
    "users = pd.read_csv('user_list.csv', index_col = None)\n",
    "users.drop('PREF_NAME', axis = 1, inplace = True)\n",
    "users['SEX_ID'] = users['SEX_ID'].map({'f':0, 'm': 1})\n",
    "\n",
    "users['REG_DATE'] = pd.to_datetime(users['REG_DATE'])\n",
    "users['WITHDRAW_DATE'] = pd.to_datetime(users['WITHDRAW_DATE'])\n",
    "users['WITHDRAW_DATE'] =users['WITHDRAW_DATE'].fillna(end_time)\n",
    "\n",
    "# REG_DATE to number of days since start time. Negative numbers to zero.\n",
    "users['REG_DATE'] = users['REG_DATE'].map(lambda x : 0 if x < start_time else (x - start_time).days)\n",
    "users['WITHDRAW_DATE'] = users['WITHDRAW_DATE'].map(lambda x : (x - start_time).days)"
   ]
  },
  {
   "cell_type": "code",
   "execution_count": 18,
   "metadata": {
    "collapsed": false
   },
   "outputs": [
    {
     "data": {
      "text/plain": [
       "5"
      ]
     },
     "execution_count": 18,
     "metadata": {},
     "output_type": "execute_result"
    }
   ],
   "source": [
    "# users that deactivated their accounts before test coupons became valid. Can be shown nothing (or anything?)\n",
    "users_withdraw = set(users[users['WITHDRAW_DATE'] < 367])\n",
    "len(users_withdraw)"
   ]
  },
  {
   "cell_type": "markdown",
   "metadata": {},
   "source": [
    "## coupon_list_train_translated.csv\n",
    "## coupon_list_test_translated.csv"
   ]
  },
  {
   "cell_type": "code",
   "execution_count": 19,
   "metadata": {
    "collapsed": false
   },
   "outputs": [],
   "source": [
    "train = pd.read_csv('coupon_list_train_translated.csv', index_col = None)\n",
    "train['test'] = 0\n",
    "test = pd.read_csv('coupon_list_test_translated.csv', index_col = None)\n",
    "test['test'] = 1\n",
    "\n",
    "joined = pd.concat([train, test])"
   ]
  },
  {
   "cell_type": "code",
   "execution_count": 20,
   "metadata": {
    "collapsed": false
   },
   "outputs": [],
   "source": [
    "# USABLE_DATE_SOMETHING: replace 2 and NaN with 1\n",
    "for col in joined.iloc[:, 11:20]:\n",
    "    joined[col] = joined[col].map({0:0, 1:1, 2:1})\n",
    "    joined[col] = joined[col].fillna(1)"
   ]
  },
  {
   "cell_type": "code",
   "execution_count": 21,
   "metadata": {
    "collapsed": true
   },
   "outputs": [],
   "source": [
    "# drop DISPEND and VALIDEND (because start and length are known)\n",
    "joined.drop('DISPEND', axis = 1, inplace = True)\n",
    "joined.drop('VALIDEND', axis = 1, inplace = True)"
   ]
  },
  {
   "cell_type": "code",
   "execution_count": 22,
   "metadata": {
    "collapsed": false
   },
   "outputs": [],
   "source": [
    "# when valid period unknown, assume it's the same as dispensing period\n",
    "joined['VALIDFROM'] = joined['VALIDFROM'].fillna(joined['DISPFROM'])\n",
    "joined['VALIDPERIOD'] = joined['VALIDPERIOD'].fillna(joined['DISPPERIOD'])"
   ]
  },
  {
   "cell_type": "code",
   "execution_count": 23,
   "metadata": {
    "collapsed": true
   },
   "outputs": [],
   "source": [
    "# DISPFROM and VALIDFROM to number of days since start time\n",
    "joined['DISPFROM'] = pd.to_datetime(joined['DISPFROM'])\n",
    "joined['DISPFROM'] = joined['DISPFROM'].map(lambda x: (x - start_time).days)\n",
    "\n",
    "joined['VALIDFROM'] = pd.to_datetime(joined['VALIDFROM'])\n",
    "joined['VALIDFROM'] = joined['VALIDFROM'].map(lambda x: (x - start_time).days)"
   ]
  },
  {
   "cell_type": "code",
   "execution_count": 24,
   "metadata": {
    "collapsed": false
   },
   "outputs": [
    {
     "data": {
      "text/html": [
       "<div>\n",
       "<table border=\"1\" class=\"dataframe\">\n",
       "  <thead>\n",
       "    <tr style=\"text-align: right;\">\n",
       "      <th></th>\n",
       "      <th>CAPSULE_TEXT</th>\n",
       "      <th>GENRE_NAME</th>\n",
       "      <th>PRICE_RATE</th>\n",
       "      <th>CATALOG_PRICE</th>\n",
       "      <th>DISCOUNT_PRICE</th>\n",
       "      <th>DISPFROM</th>\n",
       "      <th>DISPPERIOD</th>\n",
       "      <th>VALIDFROM</th>\n",
       "      <th>VALIDPERIOD</th>\n",
       "      <th>USABLE_DATE_MON</th>\n",
       "      <th>...</th>\n",
       "      <th>USABLE_DATE_FRI</th>\n",
       "      <th>USABLE_DATE_SAT</th>\n",
       "      <th>USABLE_DATE_SUN</th>\n",
       "      <th>USABLE_DATE_HOLIDAY</th>\n",
       "      <th>USABLE_DATE_BEFORE_HOLIDAY</th>\n",
       "      <th>large_area_name</th>\n",
       "      <th>ken_name</th>\n",
       "      <th>small_area_name</th>\n",
       "      <th>COUPON_ID_hash</th>\n",
       "      <th>test</th>\n",
       "    </tr>\n",
       "  </thead>\n",
       "  <tbody>\n",
       "    <tr>\n",
       "      <th>0</th>\n",
       "      <td>Food</td>\n",
       "      <td>Food</td>\n",
       "      <td>50</td>\n",
       "      <td>3000</td>\n",
       "      <td>1500</td>\n",
       "      <td>11</td>\n",
       "      <td>1</td>\n",
       "      <td>13</td>\n",
       "      <td>151</td>\n",
       "      <td>1</td>\n",
       "      <td>...</td>\n",
       "      <td>0</td>\n",
       "      <td>0</td>\n",
       "      <td>1</td>\n",
       "      <td>1</td>\n",
       "      <td>0</td>\n",
       "      <td>関東</td>\n",
       "      <td>埼玉県</td>\n",
       "      <td>埼玉</td>\n",
       "      <td>6b263844241eea98c5a97f1335ea82af</td>\n",
       "      <td>0</td>\n",
       "    </tr>\n",
       "    <tr>\n",
       "      <th>1</th>\n",
       "      <td>Food</td>\n",
       "      <td>Food</td>\n",
       "      <td>51</td>\n",
       "      <td>2080</td>\n",
       "      <td>1000</td>\n",
       "      <td>4</td>\n",
       "      <td>1</td>\n",
       "      <td>6</td>\n",
       "      <td>154</td>\n",
       "      <td>1</td>\n",
       "      <td>...</td>\n",
       "      <td>1</td>\n",
       "      <td>1</td>\n",
       "      <td>1</td>\n",
       "      <td>1</td>\n",
       "      <td>1</td>\n",
       "      <td>関東</td>\n",
       "      <td>千葉県</td>\n",
       "      <td>千葉</td>\n",
       "      <td>cc031f250e8bad1e24060263b9fc0ddd</td>\n",
       "      <td>0</td>\n",
       "    </tr>\n",
       "    <tr>\n",
       "      <th>2</th>\n",
       "      <td>Food</td>\n",
       "      <td>Food</td>\n",
       "      <td>50</td>\n",
       "      <td>7000</td>\n",
       "      <td>3500</td>\n",
       "      <td>15</td>\n",
       "      <td>3</td>\n",
       "      <td>19</td>\n",
       "      <td>179</td>\n",
       "      <td>0</td>\n",
       "      <td>...</td>\n",
       "      <td>1</td>\n",
       "      <td>1</td>\n",
       "      <td>1</td>\n",
       "      <td>1</td>\n",
       "      <td>1</td>\n",
       "      <td>関東</td>\n",
       "      <td>千葉県</td>\n",
       "      <td>千葉</td>\n",
       "      <td>ba5e9b7453ca52ff711635a5d2e8102d</td>\n",
       "      <td>0</td>\n",
       "    </tr>\n",
       "    <tr>\n",
       "      <th>3</th>\n",
       "      <td>Food</td>\n",
       "      <td>Food</td>\n",
       "      <td>50</td>\n",
       "      <td>3000</td>\n",
       "      <td>1500</td>\n",
       "      <td>12</td>\n",
       "      <td>2</td>\n",
       "      <td>15</td>\n",
       "      <td>142</td>\n",
       "      <td>1</td>\n",
       "      <td>...</td>\n",
       "      <td>0</td>\n",
       "      <td>0</td>\n",
       "      <td>1</td>\n",
       "      <td>1</td>\n",
       "      <td>1</td>\n",
       "      <td>関東</td>\n",
       "      <td>千葉県</td>\n",
       "      <td>千葉</td>\n",
       "      <td>3e1ffbedca3569f9e8032d401e8cb4e6</td>\n",
       "      <td>0</td>\n",
       "    </tr>\n",
       "    <tr>\n",
       "      <th>4</th>\n",
       "      <td>Food</td>\n",
       "      <td>Food</td>\n",
       "      <td>50</td>\n",
       "      <td>2000</td>\n",
       "      <td>1000</td>\n",
       "      <td>8</td>\n",
       "      <td>1</td>\n",
       "      <td>10</td>\n",
       "      <td>176</td>\n",
       "      <td>1</td>\n",
       "      <td>...</td>\n",
       "      <td>0</td>\n",
       "      <td>0</td>\n",
       "      <td>1</td>\n",
       "      <td>1</td>\n",
       "      <td>0</td>\n",
       "      <td>関東</td>\n",
       "      <td>千葉県</td>\n",
       "      <td>千葉</td>\n",
       "      <td>782934b6c815b4030ea204eef7d4a734</td>\n",
       "      <td>0</td>\n",
       "    </tr>\n",
       "  </tbody>\n",
       "</table>\n",
       "<p>5 rows × 23 columns</p>\n",
       "</div>"
      ],
      "text/plain": [
       "  CAPSULE_TEXT GENRE_NAME  PRICE_RATE  CATALOG_PRICE  DISCOUNT_PRICE  \\\n",
       "0         Food       Food          50           3000            1500   \n",
       "1         Food       Food          51           2080            1000   \n",
       "2         Food       Food          50           7000            3500   \n",
       "3         Food       Food          50           3000            1500   \n",
       "4         Food       Food          50           2000            1000   \n",
       "\n",
       "   DISPFROM  DISPPERIOD  VALIDFROM  VALIDPERIOD  USABLE_DATE_MON ...   \\\n",
       "0        11           1         13          151                1 ...    \n",
       "1         4           1          6          154                1 ...    \n",
       "2        15           3         19          179                0 ...    \n",
       "3        12           2         15          142                1 ...    \n",
       "4         8           1         10          176                1 ...    \n",
       "\n",
       "   USABLE_DATE_FRI  USABLE_DATE_SAT  USABLE_DATE_SUN  USABLE_DATE_HOLIDAY  \\\n",
       "0                0                0                1                    1   \n",
       "1                1                1                1                    1   \n",
       "2                1                1                1                    1   \n",
       "3                0                0                1                    1   \n",
       "4                0                0                1                    1   \n",
       "\n",
       "   USABLE_DATE_BEFORE_HOLIDAY  large_area_name  ken_name  small_area_name  \\\n",
       "0                           0               関東       埼玉県               埼玉   \n",
       "1                           1               関東       千葉県               千葉   \n",
       "2                           1               関東       千葉県               千葉   \n",
       "3                           1               関東       千葉県               千葉   \n",
       "4                           0               関東       千葉県               千葉   \n",
       "\n",
       "                     COUPON_ID_hash test  \n",
       "0  6b263844241eea98c5a97f1335ea82af    0  \n",
       "1  cc031f250e8bad1e24060263b9fc0ddd    0  \n",
       "2  ba5e9b7453ca52ff711635a5d2e8102d    0  \n",
       "3  3e1ffbedca3569f9e8032d401e8cb4e6    0  \n",
       "4  782934b6c815b4030ea204eef7d4a734    0  \n",
       "\n",
       "[5 rows x 23 columns]"
      ]
     },
     "execution_count": 24,
     "metadata": {},
     "output_type": "execute_result"
    }
   ],
   "source": [
    "joined.head()"
   ]
  },
  {
   "cell_type": "markdown",
   "metadata": {},
   "source": [
    "## coupon_visit_train.csv"
   ]
  },
  {
   "cell_type": "code",
   "execution_count": 25,
   "metadata": {
    "collapsed": false
   },
   "outputs": [],
   "source": [
    "visit = pd.read_csv('coupon_visit_train.csv')\n",
    "visit.drop(['PAGE_SERIAL', 'REFERRER_hash', 'SESSION_ID_hash', 'I_DATE'], axis = 1, inplace = True)\n",
    "\n",
    "visit = visit.drop_duplicates()"
   ]
  },
  {
   "cell_type": "code",
   "execution_count": 26,
   "metadata": {
    "collapsed": false
   },
   "outputs": [
    {
     "data": {
      "text/html": [
       "<div>\n",
       "<table border=\"1\" class=\"dataframe\">\n",
       "  <thead>\n",
       "    <tr style=\"text-align: right;\">\n",
       "      <th></th>\n",
       "      <th>USER_ID_hash</th>\n",
       "      <th>COUPON_ID_hash</th>\n",
       "      <th>PURCHASE_FLG</th>\n",
       "    </tr>\n",
       "  </thead>\n",
       "  <tbody>\n",
       "    <tr>\n",
       "      <th>0</th>\n",
       "      <td>0000b53e182165208887ba65c079fc21</td>\n",
       "      <td>0645faa156f34104e6d8910160868f9f</td>\n",
       "      <td>0</td>\n",
       "    </tr>\n",
       "    <tr>\n",
       "      <th>1</th>\n",
       "      <td>0000b53e182165208887ba65c079fc21</td>\n",
       "      <td>18097cd25ab6b7e8eb0481b0e3a3cfd8</td>\n",
       "      <td>0</td>\n",
       "    </tr>\n",
       "    <tr>\n",
       "      <th>2</th>\n",
       "      <td>0000b53e182165208887ba65c079fc21</td>\n",
       "      <td>1b581f2ed53f2f2eafbc1560db640194</td>\n",
       "      <td>0</td>\n",
       "    </tr>\n",
       "    <tr>\n",
       "      <th>3</th>\n",
       "      <td>0000b53e182165208887ba65c079fc21</td>\n",
       "      <td>1d04e76c44c231d5d05dc1634d20fe8c</td>\n",
       "      <td>0</td>\n",
       "    </tr>\n",
       "    <tr>\n",
       "      <th>4</th>\n",
       "      <td>0000b53e182165208887ba65c079fc21</td>\n",
       "      <td>2962b9f2ec7ecde9daddf53dd3118526</td>\n",
       "      <td>0</td>\n",
       "    </tr>\n",
       "  </tbody>\n",
       "</table>\n",
       "</div>"
      ],
      "text/plain": [
       "                       USER_ID_hash                    COUPON_ID_hash  \\\n",
       "0  0000b53e182165208887ba65c079fc21  0645faa156f34104e6d8910160868f9f   \n",
       "1  0000b53e182165208887ba65c079fc21  18097cd25ab6b7e8eb0481b0e3a3cfd8   \n",
       "2  0000b53e182165208887ba65c079fc21  1b581f2ed53f2f2eafbc1560db640194   \n",
       "3  0000b53e182165208887ba65c079fc21  1d04e76c44c231d5d05dc1634d20fe8c   \n",
       "4  0000b53e182165208887ba65c079fc21  2962b9f2ec7ecde9daddf53dd3118526   \n",
       "\n",
       "   PURCHASE_FLG  \n",
       "0             0  \n",
       "1             0  \n",
       "2             0  \n",
       "3             0  \n",
       "4             0  "
      ]
     },
     "execution_count": 26,
     "metadata": {},
     "output_type": "execute_result"
    }
   ],
   "source": [
    "index_id = visit.drop_duplicates().groupby(['USER_ID_hash', 'VIEW_COUPON_ID_hash']).sum().reset_index()\n",
    "index_id['PURCHASE_FLG'] = index_id['PURCHASE_FLG'].map(lambda x: 1 if x > 0 else 0)\n",
    "index_id.rename(columns={'VIEW_COUPON_ID_hash' : 'COUPON_ID_hash'}, inplace = True)\n",
    "index_id.head()"
   ]
  },
  {
   "cell_type": "markdown",
   "metadata": {},
   "source": [
    "## coupon_detail_train.csv"
   ]
  },
  {
   "cell_type": "code",
   "execution_count": 27,
   "metadata": {
    "collapsed": false
   },
   "outputs": [
    {
     "data": {
      "text/html": [
       "<div>\n",
       "<table border=\"1\" class=\"dataframe\">\n",
       "  <thead>\n",
       "    <tr style=\"text-align: right;\">\n",
       "      <th></th>\n",
       "      <th>USER_ID_hash</th>\n",
       "      <th>COUPON_ID_hash</th>\n",
       "      <th>PURCHASE_FLG</th>\n",
       "    </tr>\n",
       "  </thead>\n",
       "  <tbody>\n",
       "    <tr>\n",
       "      <th>0</th>\n",
       "      <td>d9dca3cb44bab12ba313eaa681f663eb</td>\n",
       "      <td>34c48f84026e08355dc3bd19b427f09a</td>\n",
       "      <td>1</td>\n",
       "    </tr>\n",
       "    <tr>\n",
       "      <th>1</th>\n",
       "      <td>560574a339f1b25e57b0221e486907ed</td>\n",
       "      <td>767673b7a777854a92b73b0934ddfae7</td>\n",
       "      <td>1</td>\n",
       "    </tr>\n",
       "    <tr>\n",
       "      <th>2</th>\n",
       "      <td>560574a339f1b25e57b0221e486907ed</td>\n",
       "      <td>4f3b5b91d9831192557c056022fdc1f2</td>\n",
       "      <td>1</td>\n",
       "    </tr>\n",
       "    <tr>\n",
       "      <th>3</th>\n",
       "      <td>560574a339f1b25e57b0221e486907ed</td>\n",
       "      <td>4f3b5b91d9831192557c056022fdc1f2</td>\n",
       "      <td>1</td>\n",
       "    </tr>\n",
       "    <tr>\n",
       "      <th>4</th>\n",
       "      <td>560574a339f1b25e57b0221e486907ed</td>\n",
       "      <td>4f3b5b91d9831192557c056022fdc1f2</td>\n",
       "      <td>1</td>\n",
       "    </tr>\n",
       "  </tbody>\n",
       "</table>\n",
       "</div>"
      ],
      "text/plain": [
       "                       USER_ID_hash                    COUPON_ID_hash  \\\n",
       "0  d9dca3cb44bab12ba313eaa681f663eb  34c48f84026e08355dc3bd19b427f09a   \n",
       "1  560574a339f1b25e57b0221e486907ed  767673b7a777854a92b73b0934ddfae7   \n",
       "2  560574a339f1b25e57b0221e486907ed  4f3b5b91d9831192557c056022fdc1f2   \n",
       "3  560574a339f1b25e57b0221e486907ed  4f3b5b91d9831192557c056022fdc1f2   \n",
       "4  560574a339f1b25e57b0221e486907ed  4f3b5b91d9831192557c056022fdc1f2   \n",
       "\n",
       "   PURCHASE_FLG  \n",
       "0             1  \n",
       "1             1  \n",
       "2             1  \n",
       "3             1  \n",
       "4             1  "
      ]
     },
     "execution_count": 27,
     "metadata": {},
     "output_type": "execute_result"
    }
   ],
   "source": [
    "detail = pd.read_csv('coupon_detail_train.csv')\n",
    "detail.drop(['ITEM_COUNT', 'I_DATE', 'SMALL_AREA_NAME', 'PURCHASEID_hash'], axis = 1, inplace = True)\n",
    "detail['PURCHASE_FLG'] = 1\n",
    "detail.head()"
   ]
  },
  {
   "cell_type": "code",
   "execution_count": 28,
   "metadata": {
    "collapsed": false
   },
   "outputs": [],
   "source": [
    "index_id = pd.concat([index_id, detail]).drop_duplicates()"
   ]
  },
  {
   "cell_type": "code",
   "execution_count": 29,
   "metadata": {
    "collapsed": false
   },
   "outputs": [
    {
     "data": {
      "text/plain": [
       "51"
      ]
     },
     "execution_count": 29,
     "metadata": {},
     "output_type": "execute_result"
    }
   ],
   "source": [
    "# users that only viewed coupons but didn't purchase anything.\n",
    "\n",
    "users_view = index_id.groupby('USER_ID_hash').sum().reset_index()\n",
    "users_view = users_view[users_view['PURCHASE_FLG'] == 0]\n",
    "users_view = set(users_view['USER_ID_hash'])\n",
    "len(users_view)"
   ]
  },
  {
   "cell_type": "code",
   "execution_count": 30,
   "metadata": {
    "collapsed": false
   },
   "outputs": [],
   "source": [
    "big = joined.merge(index_id)\n",
    "big = big.merge(users)"
   ]
  },
  {
   "cell_type": "markdown",
   "metadata": {},
   "source": [
    "# Create new training data"
   ]
  },
  {
   "cell_type": "code",
   "execution_count": 58,
   "metadata": {
    "collapsed": false
   },
   "outputs": [
    {
     "data": {
      "text/plain": [
       "19368"
      ]
     },
     "execution_count": 58,
     "metadata": {},
     "output_type": "execute_result"
    }
   ],
   "source": [
    "big_train = big[big['test'] == 0]\n",
    "\n",
    "# number of used coupons in train set\n",
    "len(big_train[big_train['PURCHASE_FLG'] == 1]['COUPON_ID_hash'].unique())"
   ]
  },
  {
   "cell_type": "code",
   "execution_count": 59,
   "metadata": {
    "collapsed": false
   },
   "outputs": [
    {
     "name": "stderr",
     "output_type": "stream",
     "text": [
      "/usr/local/lib/python2.7/dist-packages/IPython/kernel/__main__.py:1: SettingWithCopyWarning: \n",
      "A value is trying to be set on a copy of a slice from a DataFrame\n",
      "\n",
      "See the the caveats in the documentation: http://pandas.pydata.org/pandas-docs/stable/indexing.html#indexing-view-versus-copy\n",
      "  if __name__ == '__main__':\n"
     ]
    }
   ],
   "source": [
    "big_train.drop(['test'], axis = 1, inplace = True)\n",
    "\n",
    "cols = list(big_train.columns.values)\n",
    "\n",
    "cols.remove('COUPON_ID_hash')\n",
    "cols.remove('USER_ID_hash')\n",
    "cols.remove('PURCHASE_FLG')\n",
    "\n",
    "cols = cols + ['USER_ID_hash', 'COUPON_ID_hash', 'PURCHASE_FLG']\n",
    "\n",
    "big_train = big_train[cols]"
   ]
  },
  {
   "cell_type": "code",
   "execution_count": 60,
   "metadata": {
    "collapsed": false
   },
   "outputs": [
    {
     "data": {
      "text/html": [
       "<div>\n",
       "<table border=\"1\" class=\"dataframe\">\n",
       "  <thead>\n",
       "    <tr style=\"text-align: right;\">\n",
       "      <th></th>\n",
       "      <th>CAPSULE_TEXT</th>\n",
       "      <th>GENRE_NAME</th>\n",
       "      <th>PRICE_RATE</th>\n",
       "      <th>CATALOG_PRICE</th>\n",
       "      <th>DISCOUNT_PRICE</th>\n",
       "      <th>DISPFROM</th>\n",
       "      <th>DISPPERIOD</th>\n",
       "      <th>VALIDFROM</th>\n",
       "      <th>VALIDPERIOD</th>\n",
       "      <th>USABLE_DATE_MON</th>\n",
       "      <th>...</th>\n",
       "      <th>large_area_name</th>\n",
       "      <th>ken_name</th>\n",
       "      <th>small_area_name</th>\n",
       "      <th>REG_DATE</th>\n",
       "      <th>SEX_ID</th>\n",
       "      <th>AGE</th>\n",
       "      <th>WITHDRAW_DATE</th>\n",
       "      <th>USER_ID_hash</th>\n",
       "      <th>COUPON_ID_hash</th>\n",
       "      <th>PURCHASE_FLG</th>\n",
       "    </tr>\n",
       "  </thead>\n",
       "  <tbody>\n",
       "    <tr>\n",
       "      <th>0</th>\n",
       "      <td>Food</td>\n",
       "      <td>Food</td>\n",
       "      <td>50</td>\n",
       "      <td>3000</td>\n",
       "      <td>1500</td>\n",
       "      <td>11</td>\n",
       "      <td>1</td>\n",
       "      <td>13</td>\n",
       "      <td>151</td>\n",
       "      <td>1</td>\n",
       "      <td>...</td>\n",
       "      <td>関東</td>\n",
       "      <td>埼玉県</td>\n",
       "      <td>埼玉</td>\n",
       "      <td>0</td>\n",
       "      <td>1</td>\n",
       "      <td>42</td>\n",
       "      <td>552</td>\n",
       "      <td>2190cfb528ddc82f2bbb786163231ae5</td>\n",
       "      <td>6b263844241eea98c5a97f1335ea82af</td>\n",
       "      <td>0</td>\n",
       "    </tr>\n",
       "    <tr>\n",
       "      <th>1</th>\n",
       "      <td>Food</td>\n",
       "      <td>Food</td>\n",
       "      <td>50</td>\n",
       "      <td>8000</td>\n",
       "      <td>3980</td>\n",
       "      <td>4</td>\n",
       "      <td>2</td>\n",
       "      <td>8</td>\n",
       "      <td>179</td>\n",
       "      <td>1</td>\n",
       "      <td>...</td>\n",
       "      <td>関東</td>\n",
       "      <td>埼玉県</td>\n",
       "      <td>埼玉</td>\n",
       "      <td>0</td>\n",
       "      <td>1</td>\n",
       "      <td>42</td>\n",
       "      <td>552</td>\n",
       "      <td>2190cfb528ddc82f2bbb786163231ae5</td>\n",
       "      <td>c5e7bccd11979d5378fb58ee6266e692</td>\n",
       "      <td>0</td>\n",
       "    </tr>\n",
       "    <tr>\n",
       "      <th>2</th>\n",
       "      <td>Other</td>\n",
       "      <td>Other coupon</td>\n",
       "      <td>74</td>\n",
       "      <td>3835</td>\n",
       "      <td>980</td>\n",
       "      <td>14</td>\n",
       "      <td>2</td>\n",
       "      <td>17</td>\n",
       "      <td>90</td>\n",
       "      <td>1</td>\n",
       "      <td>...</td>\n",
       "      <td>関西</td>\n",
       "      <td>大阪府</td>\n",
       "      <td>ミナミ他</td>\n",
       "      <td>0</td>\n",
       "      <td>1</td>\n",
       "      <td>42</td>\n",
       "      <td>552</td>\n",
       "      <td>2190cfb528ddc82f2bbb786163231ae5</td>\n",
       "      <td>9ea331b5d1983df6f0af7df463f5798f</td>\n",
       "      <td>0</td>\n",
       "    </tr>\n",
       "    <tr>\n",
       "      <th>3</th>\n",
       "      <td>Delivery service</td>\n",
       "      <td>Delivery service</td>\n",
       "      <td>62</td>\n",
       "      <td>4000</td>\n",
       "      <td>1500</td>\n",
       "      <td>10</td>\n",
       "      <td>2</td>\n",
       "      <td>10</td>\n",
       "      <td>2</td>\n",
       "      <td>1</td>\n",
       "      <td>...</td>\n",
       "      <td>関西</td>\n",
       "      <td>大阪府</td>\n",
       "      <td>ミナミ他</td>\n",
       "      <td>0</td>\n",
       "      <td>1</td>\n",
       "      <td>42</td>\n",
       "      <td>552</td>\n",
       "      <td>2190cfb528ddc82f2bbb786163231ae5</td>\n",
       "      <td>e14345c8b3d5aaac2b47747bb5f54dee</td>\n",
       "      <td>0</td>\n",
       "    </tr>\n",
       "    <tr>\n",
       "      <th>4</th>\n",
       "      <td>Delivery service</td>\n",
       "      <td>Delivery service</td>\n",
       "      <td>66</td>\n",
       "      <td>2980</td>\n",
       "      <td>999</td>\n",
       "      <td>12</td>\n",
       "      <td>2</td>\n",
       "      <td>12</td>\n",
       "      <td>2</td>\n",
       "      <td>1</td>\n",
       "      <td>...</td>\n",
       "      <td>関東</td>\n",
       "      <td>東京都</td>\n",
       "      <td>銀座・新橋・東京・上野</td>\n",
       "      <td>0</td>\n",
       "      <td>1</td>\n",
       "      <td>42</td>\n",
       "      <td>552</td>\n",
       "      <td>2190cfb528ddc82f2bbb786163231ae5</td>\n",
       "      <td>ec39e0718619dcd2cc402ddbc39ce4ff</td>\n",
       "      <td>0</td>\n",
       "    </tr>\n",
       "  </tbody>\n",
       "</table>\n",
       "<p>5 rows × 28 columns</p>\n",
       "</div>"
      ],
      "text/plain": [
       "       CAPSULE_TEXT        GENRE_NAME  PRICE_RATE  CATALOG_PRICE  \\\n",
       "0              Food              Food          50           3000   \n",
       "1              Food              Food          50           8000   \n",
       "2             Other      Other coupon          74           3835   \n",
       "3  Delivery service  Delivery service          62           4000   \n",
       "4  Delivery service  Delivery service          66           2980   \n",
       "\n",
       "   DISCOUNT_PRICE  DISPFROM  DISPPERIOD  VALIDFROM  VALIDPERIOD  \\\n",
       "0            1500        11           1         13          151   \n",
       "1            3980         4           2          8          179   \n",
       "2             980        14           2         17           90   \n",
       "3            1500        10           2         10            2   \n",
       "4             999        12           2         12            2   \n",
       "\n",
       "   USABLE_DATE_MON     ...       large_area_name  ken_name  small_area_name  \\\n",
       "0                1     ...                    関東       埼玉県               埼玉   \n",
       "1                1     ...                    関東       埼玉県               埼玉   \n",
       "2                1     ...                    関西       大阪府             ミナミ他   \n",
       "3                1     ...                    関西       大阪府             ミナミ他   \n",
       "4                1     ...                    関東       東京都      銀座・新橋・東京・上野   \n",
       "\n",
       "   REG_DATE  SEX_ID  AGE  WITHDRAW_DATE                      USER_ID_hash  \\\n",
       "0         0       1   42            552  2190cfb528ddc82f2bbb786163231ae5   \n",
       "1         0       1   42            552  2190cfb528ddc82f2bbb786163231ae5   \n",
       "2         0       1   42            552  2190cfb528ddc82f2bbb786163231ae5   \n",
       "3         0       1   42            552  2190cfb528ddc82f2bbb786163231ae5   \n",
       "4         0       1   42            552  2190cfb528ddc82f2bbb786163231ae5   \n",
       "\n",
       "                     COUPON_ID_hash PURCHASE_FLG  \n",
       "0  6b263844241eea98c5a97f1335ea82af            0  \n",
       "1  c5e7bccd11979d5378fb58ee6266e692            0  \n",
       "2  9ea331b5d1983df6f0af7df463f5798f            0  \n",
       "3  e14345c8b3d5aaac2b47747bb5f54dee            0  \n",
       "4  ec39e0718619dcd2cc402ddbc39ce4ff            0  \n",
       "\n",
       "[5 rows x 28 columns]"
      ]
     },
     "execution_count": 60,
     "metadata": {},
     "output_type": "execute_result"
    }
   ],
   "source": [
    "big_train.head()"
   ]
  },
  {
   "cell_type": "code",
   "execution_count": 61,
   "metadata": {
    "collapsed": false
   },
   "outputs": [
    {
     "name": "stdout",
     "output_type": "stream",
     "text": [
      "<class 'pandas.core.frame.DataFrame'>\n",
      "Int64Index: 1654063 entries, 0 to 1654687\n",
      "Data columns (total 28 columns):\n",
      "CAPSULE_TEXT                  1654063 non-null object\n",
      "GENRE_NAME                    1654063 non-null object\n",
      "PRICE_RATE                    1654063 non-null int64\n",
      "CATALOG_PRICE                 1654063 non-null int64\n",
      "DISCOUNT_PRICE                1654063 non-null int64\n",
      "DISPFROM                      1654063 non-null int64\n",
      "DISPPERIOD                    1654063 non-null int64\n",
      "VALIDFROM                     1654063 non-null int64\n",
      "VALIDPERIOD                   1654063 non-null float64\n",
      "USABLE_DATE_MON               1654063 non-null float64\n",
      "USABLE_DATE_TUE               1654063 non-null float64\n",
      "USABLE_DATE_WED               1654063 non-null float64\n",
      "USABLE_DATE_THU               1654063 non-null float64\n",
      "USABLE_DATE_FRI               1654063 non-null float64\n",
      "USABLE_DATE_SAT               1654063 non-null float64\n",
      "USABLE_DATE_SUN               1654063 non-null float64\n",
      "USABLE_DATE_HOLIDAY           1654063 non-null float64\n",
      "USABLE_DATE_BEFORE_HOLIDAY    1654063 non-null float64\n",
      "large_area_name               1654063 non-null object\n",
      "ken_name                      1654063 non-null object\n",
      "small_area_name               1654063 non-null object\n",
      "REG_DATE                      1654063 non-null int64\n",
      "SEX_ID                        1654063 non-null int64\n",
      "AGE                           1654063 non-null int64\n",
      "WITHDRAW_DATE                 1654063 non-null int64\n",
      "USER_ID_hash                  1654063 non-null object\n",
      "COUPON_ID_hash                1654063 non-null object\n",
      "PURCHASE_FLG                  1654063 non-null int64\n",
      "dtypes: float64(10), int64(11), object(7)\n",
      "memory usage: 366.0+ MB\n"
     ]
    }
   ],
   "source": [
    "big_train.info()"
   ]
  },
  {
   "cell_type": "code",
   "execution_count": 62,
   "metadata": {
    "collapsed": false
   },
   "outputs": [
    {
     "name": "stdout",
     "output_type": "stream",
     "text": [
      "CAPSULE_TEXT 24 object\n",
      "GENRE_NAME 13 object\n",
      "PRICE_RATE 71 int64\n",
      "CATALOG_PRICE 2415 int64\n",
      "DISCOUNT_PRICE 1115 int64\n",
      "DISPFROM 363 int64\n",
      "DISPPERIOD 18 int64\n",
      "VALIDFROM 380 int64\n",
      "VALIDPERIOD 180 float64\n",
      "USABLE_DATE_MON 2 float64\n",
      "USABLE_DATE_TUE 2 float64\n",
      "USABLE_DATE_WED 2 float64\n",
      "USABLE_DATE_THU 2 float64\n",
      "USABLE_DATE_FRI 2 float64\n",
      "USABLE_DATE_SAT 2 float64\n",
      "USABLE_DATE_SUN 2 float64\n",
      "USABLE_DATE_HOLIDAY 2 float64\n",
      "USABLE_DATE_BEFORE_HOLIDAY 2 float64\n",
      "large_area_name 9 object\n",
      "ken_name 47 object\n",
      "small_area_name 55 object\n",
      "REG_DATE 364 int64\n",
      "SEX_ID 2 int64\n",
      "AGE 66 int64\n",
      "WITHDRAW_DATE 293 int64\n",
      "USER_ID_hash 22833 object\n",
      "COUPON_ID_hash 19413 object\n",
      "PURCHASE_FLG 2 int64\n"
     ]
    }
   ],
   "source": [
    "for col in big_train:\n",
    "    print col, len(big_train[col].unique()), big_train[col].dtype"
   ]
  },
  {
   "cell_type": "code",
   "execution_count": 63,
   "metadata": {
    "collapsed": false
   },
   "outputs": [],
   "source": [
    "big_train = gl.SFrame(big_train)\n",
    "big_train.save('big_train.data', format = 'binary')"
   ]
  },
  {
   "cell_type": "markdown",
   "metadata": {},
   "source": [
    "# Create new testing data"
   ]
  },
  {
   "cell_type": "code",
   "execution_count": 38,
   "metadata": {
    "collapsed": true
   },
   "outputs": [],
   "source": [
    "test = joined[joined['test'] == 1]\n",
    "users['test'] = 1\n",
    "\n",
    "big_test = pd.merge(test, users, on = 'test', how = 'outer').drop('test', axis = 1)\n",
    "\n",
    "users.drop('test', axis = 1, inplace = True)"
   ]
  },
  {
   "cell_type": "code",
   "execution_count": 39,
   "metadata": {
    "collapsed": false
   },
   "outputs": [
    {
     "name": "stdout",
     "output_type": "stream",
     "text": [
      "<class 'pandas.core.frame.DataFrame'>\n",
      "Int64Index: 7090630 entries, 0 to 7090629\n",
      "Data columns (total 27 columns):\n",
      "CAPSULE_TEXT                  object\n",
      "GENRE_NAME                    object\n",
      "PRICE_RATE                    int64\n",
      "CATALOG_PRICE                 int64\n",
      "DISCOUNT_PRICE                int64\n",
      "DISPFROM                      int64\n",
      "DISPPERIOD                    int64\n",
      "VALIDFROM                     int64\n",
      "VALIDPERIOD                   float64\n",
      "USABLE_DATE_MON               float64\n",
      "USABLE_DATE_TUE               float64\n",
      "USABLE_DATE_WED               float64\n",
      "USABLE_DATE_THU               float64\n",
      "USABLE_DATE_FRI               float64\n",
      "USABLE_DATE_SAT               float64\n",
      "USABLE_DATE_SUN               float64\n",
      "USABLE_DATE_HOLIDAY           float64\n",
      "USABLE_DATE_BEFORE_HOLIDAY    float64\n",
      "large_area_name               object\n",
      "ken_name                      object\n",
      "small_area_name               object\n",
      "REG_DATE                      int64\n",
      "SEX_ID                        int64\n",
      "AGE                           int64\n",
      "WITHDRAW_DATE                 int64\n",
      "USER_ID_hash                  object\n",
      "COUPON_ID_hash                object\n",
      "dtypes: float64(10), int64(10), object(7)\n",
      "memory usage: 1.5+ GB\n"
     ]
    }
   ],
   "source": [
    "# big_test.drop('small_area_name', axis = 1, inplace= True)\n",
    "big_test = big_test[ [col for col in big_test if col != 'COUPON_ID_hash'] + ['COUPON_ID_hash'] ]\n",
    "big_test.info()"
   ]
  },
  {
   "cell_type": "code",
   "execution_count": 40,
   "metadata": {
    "collapsed": false
   },
   "outputs": [
    {
     "name": "stdout",
     "output_type": "stream",
     "text": [
      "CAPSULE_TEXT 17 object\n",
      "GENRE_NAME 12 object\n",
      "PRICE_RATE 41 int64\n",
      "CATALOG_PRICE 229 int64\n",
      "DISCOUNT_PRICE 142 int64\n",
      "DISPFROM 7 int64\n",
      "DISPPERIOD 7 int64\n",
      "VALIDFROM 28 int64\n",
      "VALIDPERIOD 83 float64\n",
      "USABLE_DATE_MON 2 float64\n",
      "USABLE_DATE_TUE 2 float64\n",
      "USABLE_DATE_WED 2 float64\n",
      "USABLE_DATE_THU 2 float64\n",
      "USABLE_DATE_FRI 2 float64\n",
      "USABLE_DATE_SAT 2 float64\n",
      "USABLE_DATE_SUN 2 float64\n",
      "USABLE_DATE_HOLIDAY 2 float64\n",
      "USABLE_DATE_BEFORE_HOLIDAY 2 float64\n",
      "large_area_name 9 object\n",
      "ken_name 34 object\n",
      "small_area_name 42 object\n",
      "REG_DATE 369 int64\n",
      "SEX_ID 2 int64\n",
      "AGE 66 int64\n",
      "WITHDRAW_DATE 293 int64\n",
      "USER_ID_hash 22873 object\n",
      "COUPON_ID_hash 310 object\n"
     ]
    }
   ],
   "source": [
    "for col in big_test:\n",
    "    print col, len(big_test[col].unique()), big_test[col].dtype"
   ]
  },
  {
   "cell_type": "code",
   "execution_count": 41,
   "metadata": {
    "collapsed": false
   },
   "outputs": [],
   "source": [
    "# dirty, dirty hack.\n",
    "# I split set into for conversion into graphlab frame, because whole set is too large\n",
    "split = 3545315\n",
    "big_test_0 = big_test[:split]\n",
    "big_test_1 = big_test[split:]\n",
    "\n",
    "big_test_0 = gl.SFrame(big_test_0)\n",
    "big_test_1 = gl.SFrame(big_test_1)\n",
    "\n",
    "big_test = big_test_0.append(big_test_1)\n",
    "big_test.save('big_test.data', format = 'binary')"
   ]
  }
 ],
 "metadata": {
  "kernelspec": {
   "display_name": "Python 2",
   "language": "python",
   "name": "python2"
  },
  "language_info": {
   "codemirror_mode": {
    "name": "ipython",
    "version": 2
   },
   "file_extension": ".py",
   "mimetype": "text/x-python",
   "name": "python",
   "nbconvert_exporter": "python",
   "pygments_lexer": "ipython2",
   "version": "2.7.9"
  }
 },
 "nbformat": 4,
 "nbformat_minor": 0
}
