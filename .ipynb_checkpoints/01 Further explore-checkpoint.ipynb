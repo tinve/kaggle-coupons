{
 "cells": [
  {
   "cell_type": "code",
   "execution_count": 1,
   "metadata": {
    "collapsed": false
   },
   "outputs": [],
   "source": [
    "from __future__ import division\n",
    "\n",
    "import pandas as pd\n",
    "import numpy as np\n",
    "import sys\n",
    "\n",
    "sys.path.append('/home/galina/PythonProjects/common_functions')\n",
    "import preprocess"
   ]
  },
  {
   "cell_type": "code",
   "execution_count": 2,
   "metadata": {
    "collapsed": false
   },
   "outputs": [],
   "source": [
    "start_time = pd.to_datetime('2011-06-27')\n",
    "end_time = pd.to_datetime('2012-12-30')\n",
    "time_length = int((end_time - start_time).days)"
   ]
  },
  {
   "cell_type": "markdown",
   "metadata": {},
   "source": [
    "## user_list.csv"
   ]
  },
  {
   "cell_type": "code",
   "execution_count": 3,
   "metadata": {
    "collapsed": false
   },
   "outputs": [],
   "source": [
    "users = pd.read_csv('user_list.csv', index_col = None)\n",
    "users.drop('PREF_NAME', axis = 1, inplace = True)\n",
    "users['SEX_ID'] = users['SEX_ID'].map({'f':0, 'm': 1})\n",
    "\n",
    "users['REG_DATE'] = pd.to_datetime(users['REG_DATE'])\n",
    "users['WITHDRAW_DATE'] = pd.to_datetime(users['WITHDRAW_DATE'])\n",
    "users['WITHDRAW_DATE'] =users['WITHDRAW_DATE'].fillna(end_time)\n",
    "\n",
    "# REG_DATE to number of days since start time. Negative numbers to zero.\n",
    "users['REG_DATE'] = users['REG_DATE'].map(lambda x : 0 if x < start_time else (x - start_time).days)\n",
    "users['WITHDRAW_DATE'] = users['WITHDRAW_DATE'].map(lambda x : (x - start_time).days)"
   ]
  },
  {
   "cell_type": "code",
   "execution_count": 4,
   "metadata": {
    "collapsed": false
   },
   "outputs": [
    {
     "data": {
      "text/plain": [
       "5"
      ]
     },
     "execution_count": 4,
     "metadata": {},
     "output_type": "execute_result"
    }
   ],
   "source": [
    "# users that deactivated their accounts before test coupons became valid. Can be shown nothing (or anything?)\n",
    "users_withdraw = set(users[users['WITHDRAW_DATE'] < 367])\n",
    "len(users_withdraw)"
   ]
  },
  {
   "cell_type": "markdown",
   "metadata": {},
   "source": [
    "## coupon_list_train_translated.csv\n",
    "## coupon_list_test_translated.csv"
   ]
  },
  {
   "cell_type": "code",
   "execution_count": 46,
   "metadata": {
    "collapsed": false
   },
   "outputs": [],
   "source": [
    "train = pd.read_csv('coupon_list_train_translated.csv', index_col = None)\n",
    "train['test'] = 0\n",
    "test = pd.read_csv('coupon_list_test_translated.csv', index_col = None)\n",
    "test['test'] = 1\n",
    "\n",
    "joined = pd.concat([train, test])"
   ]
  },
  {
   "cell_type": "code",
   "execution_count": 47,
   "metadata": {
    "collapsed": false
   },
   "outputs": [
    {
     "data": {
      "text/plain": [
       "CAPSULE_TEXT                  19413\n",
       "GENRE_NAME                    19413\n",
       "PRICE_RATE                    19413\n",
       "CATALOG_PRICE                 19413\n",
       "DISCOUNT_PRICE                19413\n",
       "DISPFROM                      19413\n",
       "DISPEND                       19413\n",
       "DISPPERIOD                    19413\n",
       "VALIDFROM                     13266\n",
       "VALIDEND                      13266\n",
       "VALIDPERIOD                   13266\n",
       "USABLE_DATE_MON               12408\n",
       "USABLE_DATE_TUE               12408\n",
       "USABLE_DATE_WED               12408\n",
       "USABLE_DATE_THU               12408\n",
       "USABLE_DATE_FRI               12408\n",
       "USABLE_DATE_SAT               12408\n",
       "USABLE_DATE_SUN               12408\n",
       "USABLE_DATE_HOLIDAY           12408\n",
       "USABLE_DATE_BEFORE_HOLIDAY    12408\n",
       "large_area_name               19413\n",
       "ken_name                      19413\n",
       "small_area_name               19413\n",
       "COUPON_ID_hash                19413\n",
       "test                          19413\n",
       "dtype: int64"
      ]
     },
     "execution_count": 47,
     "metadata": {},
     "output_type": "execute_result"
    }
   ],
   "source": [
    "train.count()"
   ]
  },
  {
   "cell_type": "code",
   "execution_count": 48,
   "metadata": {
    "collapsed": false
   },
   "outputs": [
    {
     "name": "stdout",
     "output_type": "stream",
     "text": [
      "USABLE_DATE_MON 2\n",
      "USABLE_DATE_TUE 7\n",
      "USABLE_DATE_WED 2\n",
      "USABLE_DATE_THU 0\n",
      "USABLE_DATE_FRI 8\n",
      "USABLE_DATE_SAT 46\n",
      "USABLE_DATE_SUN 11\n",
      "USABLE_DATE_HOLIDAY 11\n",
      "USABLE_DATE_BEFORE_HOLIDAY 37\n"
     ]
    }
   ],
   "source": [
    "for col in test.iloc[:, 11:20]:\n",
    "    print col, len(test[test[col] == 2 ])"
   ]
  },
  {
   "cell_type": "code",
   "execution_count": 49,
   "metadata": {
    "collapsed": false
   },
   "outputs": [
    {
     "name": "stdout",
     "output_type": "stream",
     "text": [
      "USABLE_DATE_MON 224\n",
      "USABLE_DATE_TUE 339\n",
      "USABLE_DATE_WED 185\n",
      "USABLE_DATE_THU 133\n",
      "USABLE_DATE_FRI 635\n",
      "USABLE_DATE_SAT 2416\n",
      "USABLE_DATE_SUN 667\n",
      "USABLE_DATE_HOLIDAY 630\n",
      "USABLE_DATE_BEFORE_HOLIDAY 2059\n"
     ]
    }
   ],
   "source": [
    "for col in train.iloc[:, 11:20]:\n",
    "    print col, len(train[train[col] == 2 ])"
   ]
  },
  {
   "cell_type": "code",
   "execution_count": 50,
   "metadata": {
    "collapsed": false
   },
   "outputs": [],
   "source": [
    "# USABLE_DATE_SOMETHING: replace 2 and NaN with 1\n",
    "for col in joined.iloc[:, 11:20]:\n",
    "    joined[col] = joined[col].map({0:0, 1:1, 2:1})\n",
    "    joined[col] = joined[col].fillna(1)"
   ]
  },
  {
   "cell_type": "code",
   "execution_count": 51,
   "metadata": {
    "collapsed": true
   },
   "outputs": [],
   "source": [
    "# drop DISPEND and VALIDEND (because start and length are known)\n",
    "\n",
    "joined.drop('DISPEND', axis = 1, inplace = True)\n",
    "joined.drop('VALIDEND', axis = 1, inplace = True)"
   ]
  },
  {
   "cell_type": "code",
   "execution_count": 52,
   "metadata": {
    "collapsed": true
   },
   "outputs": [],
   "source": [
    "# when valid period unknown, assume it's the same as dispensing period\n",
    "\n",
    "joined['VALIDFROM'] = joined['VALIDFROM'].fillna(joined['DISPFROM'])\n",
    "joined['VALIDFROM'] = joined['VALIDFROM'].fillna(joined['DISPFROM'])"
   ]
  },
  {
   "cell_type": "code",
   "execution_count": 53,
   "metadata": {
    "collapsed": true
   },
   "outputs": [],
   "source": [
    "# DISPFROM to number of days since start time\n",
    "\n",
    "joined['DISPFROM'] = pd.to_datetime(joined['DISPFROM'])\n",
    "joined['DISPFROM'] = joined['DISPFROM'].map(lambda x: (x - start_time).days)"
   ]
  },
  {
   "cell_type": "code",
   "execution_count": 54,
   "metadata": {
    "collapsed": true
   },
   "outputs": [],
   "source": [
    "# VALIDFROM to number of days since start time\n",
    "\n",
    "joined['VALIDFROM'] = pd.to_datetime(joined['VALIDFROM'])\n",
    "joined['VALIDFROM'] = joined['VALIDFROM'].map(lambda x: (x - start_time).days)"
   ]
  },
  {
   "cell_type": "code",
   "execution_count": 55,
   "metadata": {
    "collapsed": false
   },
   "outputs": [],
   "source": [
    "train = joined[joined['test'] == 0].drop('test', axis = 1)\n",
    "test = joined[joined['test'] == 1].drop('test', axis = 1)"
   ]
  },
  {
   "cell_type": "code",
   "execution_count": 56,
   "metadata": {
    "collapsed": false
   },
   "outputs": [
    {
     "data": {
      "text/html": [
       "<div>\n",
       "<table border=\"1\" class=\"dataframe\">\n",
       "  <thead>\n",
       "    <tr style=\"text-align: right;\">\n",
       "      <th></th>\n",
       "      <th>CAPSULE_TEXT</th>\n",
       "      <th>GENRE_NAME</th>\n",
       "      <th>PRICE_RATE</th>\n",
       "      <th>CATALOG_PRICE</th>\n",
       "      <th>DISCOUNT_PRICE</th>\n",
       "      <th>DISPFROM</th>\n",
       "      <th>DISPPERIOD</th>\n",
       "      <th>VALIDFROM</th>\n",
       "      <th>VALIDPERIOD</th>\n",
       "      <th>USABLE_DATE_MON</th>\n",
       "      <th>...</th>\n",
       "      <th>USABLE_DATE_FRI</th>\n",
       "      <th>USABLE_DATE_SAT</th>\n",
       "      <th>USABLE_DATE_SUN</th>\n",
       "      <th>USABLE_DATE_HOLIDAY</th>\n",
       "      <th>USABLE_DATE_BEFORE_HOLIDAY</th>\n",
       "      <th>large_area_name</th>\n",
       "      <th>ken_name</th>\n",
       "      <th>small_area_name</th>\n",
       "      <th>COUPON_ID_hash</th>\n",
       "      <th>test</th>\n",
       "    </tr>\n",
       "  </thead>\n",
       "  <tbody>\n",
       "    <tr>\n",
       "      <th>0</th>\n",
       "      <td>Food</td>\n",
       "      <td>Food</td>\n",
       "      <td>50</td>\n",
       "      <td>3000</td>\n",
       "      <td>1500</td>\n",
       "      <td>11</td>\n",
       "      <td>1</td>\n",
       "      <td>13</td>\n",
       "      <td>151</td>\n",
       "      <td>1</td>\n",
       "      <td>...</td>\n",
       "      <td>0</td>\n",
       "      <td>0</td>\n",
       "      <td>1</td>\n",
       "      <td>1</td>\n",
       "      <td>0</td>\n",
       "      <td>関東</td>\n",
       "      <td>埼玉県</td>\n",
       "      <td>埼玉</td>\n",
       "      <td>6b263844241eea98c5a97f1335ea82af</td>\n",
       "      <td>0</td>\n",
       "    </tr>\n",
       "    <tr>\n",
       "      <th>1</th>\n",
       "      <td>Food</td>\n",
       "      <td>Food</td>\n",
       "      <td>51</td>\n",
       "      <td>2080</td>\n",
       "      <td>1000</td>\n",
       "      <td>4</td>\n",
       "      <td>1</td>\n",
       "      <td>6</td>\n",
       "      <td>154</td>\n",
       "      <td>1</td>\n",
       "      <td>...</td>\n",
       "      <td>1</td>\n",
       "      <td>1</td>\n",
       "      <td>1</td>\n",
       "      <td>1</td>\n",
       "      <td>1</td>\n",
       "      <td>関東</td>\n",
       "      <td>千葉県</td>\n",
       "      <td>千葉</td>\n",
       "      <td>cc031f250e8bad1e24060263b9fc0ddd</td>\n",
       "      <td>0</td>\n",
       "    </tr>\n",
       "    <tr>\n",
       "      <th>2</th>\n",
       "      <td>Food</td>\n",
       "      <td>Food</td>\n",
       "      <td>50</td>\n",
       "      <td>7000</td>\n",
       "      <td>3500</td>\n",
       "      <td>15</td>\n",
       "      <td>3</td>\n",
       "      <td>19</td>\n",
       "      <td>179</td>\n",
       "      <td>0</td>\n",
       "      <td>...</td>\n",
       "      <td>1</td>\n",
       "      <td>1</td>\n",
       "      <td>1</td>\n",
       "      <td>1</td>\n",
       "      <td>1</td>\n",
       "      <td>関東</td>\n",
       "      <td>千葉県</td>\n",
       "      <td>千葉</td>\n",
       "      <td>ba5e9b7453ca52ff711635a5d2e8102d</td>\n",
       "      <td>0</td>\n",
       "    </tr>\n",
       "    <tr>\n",
       "      <th>3</th>\n",
       "      <td>Food</td>\n",
       "      <td>Food</td>\n",
       "      <td>50</td>\n",
       "      <td>3000</td>\n",
       "      <td>1500</td>\n",
       "      <td>12</td>\n",
       "      <td>2</td>\n",
       "      <td>15</td>\n",
       "      <td>142</td>\n",
       "      <td>1</td>\n",
       "      <td>...</td>\n",
       "      <td>0</td>\n",
       "      <td>0</td>\n",
       "      <td>1</td>\n",
       "      <td>1</td>\n",
       "      <td>1</td>\n",
       "      <td>関東</td>\n",
       "      <td>千葉県</td>\n",
       "      <td>千葉</td>\n",
       "      <td>3e1ffbedca3569f9e8032d401e8cb4e6</td>\n",
       "      <td>0</td>\n",
       "    </tr>\n",
       "    <tr>\n",
       "      <th>4</th>\n",
       "      <td>Food</td>\n",
       "      <td>Food</td>\n",
       "      <td>50</td>\n",
       "      <td>2000</td>\n",
       "      <td>1000</td>\n",
       "      <td>8</td>\n",
       "      <td>1</td>\n",
       "      <td>10</td>\n",
       "      <td>176</td>\n",
       "      <td>1</td>\n",
       "      <td>...</td>\n",
       "      <td>0</td>\n",
       "      <td>0</td>\n",
       "      <td>1</td>\n",
       "      <td>1</td>\n",
       "      <td>0</td>\n",
       "      <td>関東</td>\n",
       "      <td>千葉県</td>\n",
       "      <td>千葉</td>\n",
       "      <td>782934b6c815b4030ea204eef7d4a734</td>\n",
       "      <td>0</td>\n",
       "    </tr>\n",
       "  </tbody>\n",
       "</table>\n",
       "<p>5 rows × 23 columns</p>\n",
       "</div>"
      ],
      "text/plain": [
       "  CAPSULE_TEXT GENRE_NAME  PRICE_RATE  CATALOG_PRICE  DISCOUNT_PRICE  \\\n",
       "0         Food       Food          50           3000            1500   \n",
       "1         Food       Food          51           2080            1000   \n",
       "2         Food       Food          50           7000            3500   \n",
       "3         Food       Food          50           3000            1500   \n",
       "4         Food       Food          50           2000            1000   \n",
       "\n",
       "   DISPFROM  DISPPERIOD  VALIDFROM  VALIDPERIOD  USABLE_DATE_MON ...   \\\n",
       "0        11           1         13          151                1 ...    \n",
       "1         4           1          6          154                1 ...    \n",
       "2        15           3         19          179                0 ...    \n",
       "3        12           2         15          142                1 ...    \n",
       "4         8           1         10          176                1 ...    \n",
       "\n",
       "   USABLE_DATE_FRI  USABLE_DATE_SAT  USABLE_DATE_SUN  USABLE_DATE_HOLIDAY  \\\n",
       "0                0                0                1                    1   \n",
       "1                1                1                1                    1   \n",
       "2                1                1                1                    1   \n",
       "3                0                0                1                    1   \n",
       "4                0                0                1                    1   \n",
       "\n",
       "   USABLE_DATE_BEFORE_HOLIDAY  large_area_name  ken_name  small_area_name  \\\n",
       "0                           0               関東       埼玉県               埼玉   \n",
       "1                           1               関東       千葉県               千葉   \n",
       "2                           1               関東       千葉県               千葉   \n",
       "3                           1               関東       千葉県               千葉   \n",
       "4                           0               関東       千葉県               千葉   \n",
       "\n",
       "                     COUPON_ID_hash test  \n",
       "0  6b263844241eea98c5a97f1335ea82af    0  \n",
       "1  cc031f250e8bad1e24060263b9fc0ddd    0  \n",
       "2  ba5e9b7453ca52ff711635a5d2e8102d    0  \n",
       "3  3e1ffbedca3569f9e8032d401e8cb4e6    0  \n",
       "4  782934b6c815b4030ea204eef7d4a734    0  \n",
       "\n",
       "[5 rows x 23 columns]"
      ]
     },
     "execution_count": 56,
     "metadata": {},
     "output_type": "execute_result"
    }
   ],
   "source": [
    "joined.head()"
   ]
  },
  {
   "cell_type": "code",
   "execution_count": 57,
   "metadata": {
    "collapsed": true
   },
   "outputs": [],
   "source": [
    "joined_couponID = set(joined['COUPON_ID_hash'].unique())\n",
    "train_couponID = set(train['COUPON_ID_hash'].unique())\n",
    "test_couponID = set(test['COUPON_ID_hash'].unique())"
   ]
  },
  {
   "cell_type": "markdown",
   "metadata": {},
   "source": [
    "## coupon_visit_train.csv"
   ]
  },
  {
   "cell_type": "code",
   "execution_count": 58,
   "metadata": {
    "collapsed": false
   },
   "outputs": [],
   "source": [
    "visit = pd.read_csv('coupon_visit_train.csv')\n",
    "visit.drop(['PAGE_SERIAL', 'REFERRER_hash', 'SESSION_ID_hash', 'I_DATE'], axis = 1, inplace = True)\n",
    "\n",
    "visit = visit.drop_duplicates()"
   ]
  },
  {
   "cell_type": "code",
   "execution_count": 59,
   "metadata": {
    "collapsed": false
   },
   "outputs": [
    {
     "data": {
      "text/html": [
       "<div>\n",
       "<table border=\"1\" class=\"dataframe\">\n",
       "  <thead>\n",
       "    <tr style=\"text-align: right;\">\n",
       "      <th></th>\n",
       "      <th>USER_ID_hash</th>\n",
       "      <th>COUPON_ID_hash</th>\n",
       "      <th>PURCHASE_FLG</th>\n",
       "    </tr>\n",
       "  </thead>\n",
       "  <tbody>\n",
       "    <tr>\n",
       "      <th>0</th>\n",
       "      <td>0000b53e182165208887ba65c079fc21</td>\n",
       "      <td>0645faa156f34104e6d8910160868f9f</td>\n",
       "      <td>0</td>\n",
       "    </tr>\n",
       "    <tr>\n",
       "      <th>1</th>\n",
       "      <td>0000b53e182165208887ba65c079fc21</td>\n",
       "      <td>18097cd25ab6b7e8eb0481b0e3a3cfd8</td>\n",
       "      <td>0</td>\n",
       "    </tr>\n",
       "    <tr>\n",
       "      <th>2</th>\n",
       "      <td>0000b53e182165208887ba65c079fc21</td>\n",
       "      <td>1b581f2ed53f2f2eafbc1560db640194</td>\n",
       "      <td>0</td>\n",
       "    </tr>\n",
       "    <tr>\n",
       "      <th>3</th>\n",
       "      <td>0000b53e182165208887ba65c079fc21</td>\n",
       "      <td>1d04e76c44c231d5d05dc1634d20fe8c</td>\n",
       "      <td>0</td>\n",
       "    </tr>\n",
       "    <tr>\n",
       "      <th>4</th>\n",
       "      <td>0000b53e182165208887ba65c079fc21</td>\n",
       "      <td>2962b9f2ec7ecde9daddf53dd3118526</td>\n",
       "      <td>0</td>\n",
       "    </tr>\n",
       "  </tbody>\n",
       "</table>\n",
       "</div>"
      ],
      "text/plain": [
       "                       USER_ID_hash                    COUPON_ID_hash  \\\n",
       "0  0000b53e182165208887ba65c079fc21  0645faa156f34104e6d8910160868f9f   \n",
       "1  0000b53e182165208887ba65c079fc21  18097cd25ab6b7e8eb0481b0e3a3cfd8   \n",
       "2  0000b53e182165208887ba65c079fc21  1b581f2ed53f2f2eafbc1560db640194   \n",
       "3  0000b53e182165208887ba65c079fc21  1d04e76c44c231d5d05dc1634d20fe8c   \n",
       "4  0000b53e182165208887ba65c079fc21  2962b9f2ec7ecde9daddf53dd3118526   \n",
       "\n",
       "   PURCHASE_FLG  \n",
       "0             0  \n",
       "1             0  \n",
       "2             0  \n",
       "3             0  \n",
       "4             0  "
      ]
     },
     "execution_count": 59,
     "metadata": {},
     "output_type": "execute_result"
    }
   ],
   "source": [
    "index_id = visit.drop_duplicates().groupby(['USER_ID_hash', 'VIEW_COUPON_ID_hash']).sum().reset_index()\n",
    "index_id['PURCHASE_FLG'] = index_id['PURCHASE_FLG'].map(lambda x: 1 if x > 0 else 0)\n",
    "index_id.rename(columns={'VIEW_COUPON_ID_hash' : 'COUPON_ID_hash'}, inplace = True)\n",
    "index_id.head()"
   ]
  },
  {
   "cell_type": "code",
   "execution_count": 60,
   "metadata": {
    "collapsed": false
   },
   "outputs": [
    {
     "data": {
      "text/plain": [
       "17183"
      ]
     },
     "execution_count": 60,
     "metadata": {},
     "output_type": "execute_result"
    }
   ],
   "source": [
    "# number of used coupons\n",
    "len(index_id[index_id['PURCHASE_FLG'] == 1]['COUPON_ID_hash'].unique())"
   ]
  },
  {
   "cell_type": "markdown",
   "metadata": {},
   "source": [
    "## coupon_detail_train.csv"
   ]
  },
  {
   "cell_type": "code",
   "execution_count": 61,
   "metadata": {
    "collapsed": false
   },
   "outputs": [
    {
     "data": {
      "text/html": [
       "<div>\n",
       "<table border=\"1\" class=\"dataframe\">\n",
       "  <thead>\n",
       "    <tr style=\"text-align: right;\">\n",
       "      <th></th>\n",
       "      <th>USER_ID_hash</th>\n",
       "      <th>COUPON_ID_hash</th>\n",
       "      <th>PURCHASE_FLG</th>\n",
       "    </tr>\n",
       "  </thead>\n",
       "  <tbody>\n",
       "    <tr>\n",
       "      <th>0</th>\n",
       "      <td>d9dca3cb44bab12ba313eaa681f663eb</td>\n",
       "      <td>34c48f84026e08355dc3bd19b427f09a</td>\n",
       "      <td>1</td>\n",
       "    </tr>\n",
       "    <tr>\n",
       "      <th>1</th>\n",
       "      <td>560574a339f1b25e57b0221e486907ed</td>\n",
       "      <td>767673b7a777854a92b73b0934ddfae7</td>\n",
       "      <td>1</td>\n",
       "    </tr>\n",
       "    <tr>\n",
       "      <th>2</th>\n",
       "      <td>560574a339f1b25e57b0221e486907ed</td>\n",
       "      <td>4f3b5b91d9831192557c056022fdc1f2</td>\n",
       "      <td>1</td>\n",
       "    </tr>\n",
       "    <tr>\n",
       "      <th>3</th>\n",
       "      <td>560574a339f1b25e57b0221e486907ed</td>\n",
       "      <td>4f3b5b91d9831192557c056022fdc1f2</td>\n",
       "      <td>1</td>\n",
       "    </tr>\n",
       "    <tr>\n",
       "      <th>4</th>\n",
       "      <td>560574a339f1b25e57b0221e486907ed</td>\n",
       "      <td>4f3b5b91d9831192557c056022fdc1f2</td>\n",
       "      <td>1</td>\n",
       "    </tr>\n",
       "  </tbody>\n",
       "</table>\n",
       "</div>"
      ],
      "text/plain": [
       "                       USER_ID_hash                    COUPON_ID_hash  \\\n",
       "0  d9dca3cb44bab12ba313eaa681f663eb  34c48f84026e08355dc3bd19b427f09a   \n",
       "1  560574a339f1b25e57b0221e486907ed  767673b7a777854a92b73b0934ddfae7   \n",
       "2  560574a339f1b25e57b0221e486907ed  4f3b5b91d9831192557c056022fdc1f2   \n",
       "3  560574a339f1b25e57b0221e486907ed  4f3b5b91d9831192557c056022fdc1f2   \n",
       "4  560574a339f1b25e57b0221e486907ed  4f3b5b91d9831192557c056022fdc1f2   \n",
       "\n",
       "   PURCHASE_FLG  \n",
       "0             1  \n",
       "1             1  \n",
       "2             1  \n",
       "3             1  \n",
       "4             1  "
      ]
     },
     "execution_count": 61,
     "metadata": {},
     "output_type": "execute_result"
    }
   ],
   "source": [
    "detail = pd.read_csv('coupon_detail_train.csv')\n",
    "detail.drop(['ITEM_COUNT', 'I_DATE', 'SMALL_AREA_NAME', 'PURCHASEID_hash'], axis = 1, inplace = True)\n",
    "detail['PURCHASE_FLG'] = 1\n",
    "detail.head()"
   ]
  },
  {
   "cell_type": "code",
   "execution_count": 62,
   "metadata": {
    "collapsed": false
   },
   "outputs": [],
   "source": [
    "index_id = pd.concat([index_id, detail]).drop_duplicates()"
   ]
  },
  {
   "cell_type": "code",
   "execution_count": 63,
   "metadata": {
    "collapsed": false
   },
   "outputs": [
    {
     "data": {
      "text/plain": [
       "19368"
      ]
     },
     "execution_count": 63,
     "metadata": {},
     "output_type": "execute_result"
    }
   ],
   "source": [
    "# number of used coupons\n",
    "len(index_id[index_id['PURCHASE_FLG'] == 1]['COUPON_ID_hash'].unique())"
   ]
  },
  {
   "cell_type": "code",
   "execution_count": 64,
   "metadata": {
    "collapsed": false
   },
   "outputs": [
    {
     "data": {
      "text/plain": [
       "51"
      ]
     },
     "execution_count": 64,
     "metadata": {},
     "output_type": "execute_result"
    }
   ],
   "source": [
    "# users that only viewed coupons but didn't purchase anything.\n",
    "\n",
    "users_view = index_id.groupby('USER_ID_hash').sum().reset_index()\n",
    "users_view = users_view[users_view['PURCHASE_FLG'] == 0]\n",
    "users_view = set(users_view['USER_ID_hash'])\n",
    "len(users_view)"
   ]
  },
  {
   "cell_type": "code",
   "execution_count": 65,
   "metadata": {
    "collapsed": false
   },
   "outputs": [
    {
     "name": "stdout",
     "output_type": "stream",
     "text": [
      "Number of pairs user-coupon: 1904630\n",
      "Number of purchases in these pairs: 158933\n"
     ]
    }
   ],
   "source": [
    "print 'Number of pairs user-coupon:', len(index_id)\n",
    "print 'Number of purchases in these pairs:', len(index_id[index_id['PURCHASE_FLG'] == 1])\n",
    "# Number of purchases much larger than number of coupons. Many coupons were used multiple times"
   ]
  },
  {
   "cell_type": "code",
   "execution_count": 66,
   "metadata": {
    "collapsed": false
   },
   "outputs": [],
   "source": [
    "big = joined.merge(index_id)\n",
    "big = big.merge(users)"
   ]
  },
  {
   "cell_type": "code",
   "execution_count": 67,
   "metadata": {
    "collapsed": false
   },
   "outputs": [
    {
     "data": {
      "text/plain": [
       "19368"
      ]
     },
     "execution_count": 67,
     "metadata": {},
     "output_type": "execute_result"
    }
   ],
   "source": [
    "# number of used coupons in merged data (sanity check)\n",
    "len(big[big['PURCHASE_FLG'] == 1]['COUPON_ID_hash'].unique())"
   ]
  },
  {
   "cell_type": "markdown",
   "metadata": {},
   "source": [
    "# Create new training data"
   ]
  },
  {
   "cell_type": "code",
   "execution_count": 68,
   "metadata": {
    "collapsed": false
   },
   "outputs": [
    {
     "data": {
      "text/plain": [
       "19368"
      ]
     },
     "execution_count": 68,
     "metadata": {},
     "output_type": "execute_result"
    }
   ],
   "source": [
    "big_train = big[big['test'] == 0]\n",
    "\n",
    "# number of used coupons in train set\n",
    "len(big_train[big_train['PURCHASE_FLG'] == 1]['COUPON_ID_hash'].unique())"
   ]
  },
  {
   "cell_type": "code",
   "execution_count": 69,
   "metadata": {
    "collapsed": false
   },
   "outputs": [
    {
     "name": "stderr",
     "output_type": "stream",
     "text": [
      "/usr/local/lib/python2.7/dist-packages/IPython/kernel/__main__.py:2: SettingWithCopyWarning: \n",
      "A value is trying to be set on a copy of a slice from a DataFrame\n",
      "\n",
      "See the the caveats in the documentation: http://pandas.pydata.org/pandas-docs/stable/indexing.html#indexing-view-versus-copy\n",
      "  from IPython.kernel.zmq import kernelapp as app\n"
     ]
    }
   ],
   "source": [
    "target = big_train['PURCHASE_FLG']\n",
    "big_train.drop(['PURCHASE_FLG', 'test', 'COUPON_ID_hash', 'USER_ID_hash'], axis = 1, inplace = True)"
   ]
  },
  {
   "cell_type": "code",
   "execution_count": 70,
   "metadata": {
    "collapsed": false
   },
   "outputs": [
    {
     "data": {
      "text/html": [
       "<div>\n",
       "<table border=\"1\" class=\"dataframe\">\n",
       "  <thead>\n",
       "    <tr style=\"text-align: right;\">\n",
       "      <th></th>\n",
       "      <th>CAPSULE_TEXT</th>\n",
       "      <th>GENRE_NAME</th>\n",
       "      <th>PRICE_RATE</th>\n",
       "      <th>CATALOG_PRICE</th>\n",
       "      <th>DISCOUNT_PRICE</th>\n",
       "      <th>DISPFROM</th>\n",
       "      <th>DISPPERIOD</th>\n",
       "      <th>VALIDFROM</th>\n",
       "      <th>VALIDPERIOD</th>\n",
       "      <th>USABLE_DATE_MON</th>\n",
       "      <th>...</th>\n",
       "      <th>USABLE_DATE_SUN</th>\n",
       "      <th>USABLE_DATE_HOLIDAY</th>\n",
       "      <th>USABLE_DATE_BEFORE_HOLIDAY</th>\n",
       "      <th>large_area_name</th>\n",
       "      <th>ken_name</th>\n",
       "      <th>small_area_name</th>\n",
       "      <th>REG_DATE</th>\n",
       "      <th>SEX_ID</th>\n",
       "      <th>AGE</th>\n",
       "      <th>WITHDRAW_DATE</th>\n",
       "    </tr>\n",
       "  </thead>\n",
       "  <tbody>\n",
       "    <tr>\n",
       "      <th>0</th>\n",
       "      <td>Food</td>\n",
       "      <td>Food</td>\n",
       "      <td>50</td>\n",
       "      <td>3000</td>\n",
       "      <td>1500</td>\n",
       "      <td>11</td>\n",
       "      <td>1</td>\n",
       "      <td>13</td>\n",
       "      <td>151</td>\n",
       "      <td>1</td>\n",
       "      <td>...</td>\n",
       "      <td>1</td>\n",
       "      <td>1</td>\n",
       "      <td>0</td>\n",
       "      <td>関東</td>\n",
       "      <td>埼玉県</td>\n",
       "      <td>埼玉</td>\n",
       "      <td>0</td>\n",
       "      <td>1</td>\n",
       "      <td>42</td>\n",
       "      <td>552</td>\n",
       "    </tr>\n",
       "    <tr>\n",
       "      <th>1</th>\n",
       "      <td>Food</td>\n",
       "      <td>Food</td>\n",
       "      <td>50</td>\n",
       "      <td>8000</td>\n",
       "      <td>3980</td>\n",
       "      <td>4</td>\n",
       "      <td>2</td>\n",
       "      <td>8</td>\n",
       "      <td>179</td>\n",
       "      <td>1</td>\n",
       "      <td>...</td>\n",
       "      <td>1</td>\n",
       "      <td>1</td>\n",
       "      <td>1</td>\n",
       "      <td>関東</td>\n",
       "      <td>埼玉県</td>\n",
       "      <td>埼玉</td>\n",
       "      <td>0</td>\n",
       "      <td>1</td>\n",
       "      <td>42</td>\n",
       "      <td>552</td>\n",
       "    </tr>\n",
       "    <tr>\n",
       "      <th>2</th>\n",
       "      <td>Other</td>\n",
       "      <td>Other coupon</td>\n",
       "      <td>74</td>\n",
       "      <td>3835</td>\n",
       "      <td>980</td>\n",
       "      <td>14</td>\n",
       "      <td>2</td>\n",
       "      <td>17</td>\n",
       "      <td>90</td>\n",
       "      <td>1</td>\n",
       "      <td>...</td>\n",
       "      <td>1</td>\n",
       "      <td>1</td>\n",
       "      <td>1</td>\n",
       "      <td>関西</td>\n",
       "      <td>大阪府</td>\n",
       "      <td>ミナミ他</td>\n",
       "      <td>0</td>\n",
       "      <td>1</td>\n",
       "      <td>42</td>\n",
       "      <td>552</td>\n",
       "    </tr>\n",
       "    <tr>\n",
       "      <th>3</th>\n",
       "      <td>Delivery service</td>\n",
       "      <td>Delivery service</td>\n",
       "      <td>62</td>\n",
       "      <td>4000</td>\n",
       "      <td>1500</td>\n",
       "      <td>10</td>\n",
       "      <td>2</td>\n",
       "      <td>10</td>\n",
       "      <td>NaN</td>\n",
       "      <td>1</td>\n",
       "      <td>...</td>\n",
       "      <td>1</td>\n",
       "      <td>1</td>\n",
       "      <td>1</td>\n",
       "      <td>関西</td>\n",
       "      <td>大阪府</td>\n",
       "      <td>ミナミ他</td>\n",
       "      <td>0</td>\n",
       "      <td>1</td>\n",
       "      <td>42</td>\n",
       "      <td>552</td>\n",
       "    </tr>\n",
       "    <tr>\n",
       "      <th>4</th>\n",
       "      <td>Delivery service</td>\n",
       "      <td>Delivery service</td>\n",
       "      <td>66</td>\n",
       "      <td>2980</td>\n",
       "      <td>999</td>\n",
       "      <td>12</td>\n",
       "      <td>2</td>\n",
       "      <td>12</td>\n",
       "      <td>NaN</td>\n",
       "      <td>1</td>\n",
       "      <td>...</td>\n",
       "      <td>1</td>\n",
       "      <td>1</td>\n",
       "      <td>1</td>\n",
       "      <td>関東</td>\n",
       "      <td>東京都</td>\n",
       "      <td>銀座・新橋・東京・上野</td>\n",
       "      <td>0</td>\n",
       "      <td>1</td>\n",
       "      <td>42</td>\n",
       "      <td>552</td>\n",
       "    </tr>\n",
       "  </tbody>\n",
       "</table>\n",
       "<p>5 rows × 25 columns</p>\n",
       "</div>"
      ],
      "text/plain": [
       "       CAPSULE_TEXT        GENRE_NAME  PRICE_RATE  CATALOG_PRICE  \\\n",
       "0              Food              Food          50           3000   \n",
       "1              Food              Food          50           8000   \n",
       "2             Other      Other coupon          74           3835   \n",
       "3  Delivery service  Delivery service          62           4000   \n",
       "4  Delivery service  Delivery service          66           2980   \n",
       "\n",
       "   DISCOUNT_PRICE  DISPFROM  DISPPERIOD  VALIDFROM  VALIDPERIOD  \\\n",
       "0            1500        11           1         13          151   \n",
       "1            3980         4           2          8          179   \n",
       "2             980        14           2         17           90   \n",
       "3            1500        10           2         10          NaN   \n",
       "4             999        12           2         12          NaN   \n",
       "\n",
       "   USABLE_DATE_MON      ...       USABLE_DATE_SUN  USABLE_DATE_HOLIDAY  \\\n",
       "0                1      ...                     1                    1   \n",
       "1                1      ...                     1                    1   \n",
       "2                1      ...                     1                    1   \n",
       "3                1      ...                     1                    1   \n",
       "4                1      ...                     1                    1   \n",
       "\n",
       "   USABLE_DATE_BEFORE_HOLIDAY  large_area_name  ken_name  small_area_name  \\\n",
       "0                           0               関東       埼玉県               埼玉   \n",
       "1                           1               関東       埼玉県               埼玉   \n",
       "2                           1               関西       大阪府             ミナミ他   \n",
       "3                           1               関西       大阪府             ミナミ他   \n",
       "4                           1               関東       東京都      銀座・新橋・東京・上野   \n",
       "\n",
       "   REG_DATE  SEX_ID AGE WITHDRAW_DATE  \n",
       "0         0       1  42           552  \n",
       "1         0       1  42           552  \n",
       "2         0       1  42           552  \n",
       "3         0       1  42           552  \n",
       "4         0       1  42           552  \n",
       "\n",
       "[5 rows x 25 columns]"
      ]
     },
     "execution_count": 70,
     "metadata": {},
     "output_type": "execute_result"
    }
   ],
   "source": [
    "big_train.head()"
   ]
  },
  {
   "cell_type": "code",
   "execution_count": 71,
   "metadata": {
    "collapsed": false
   },
   "outputs": [
    {
     "name": "stdout",
     "output_type": "stream",
     "text": [
      "<class 'pandas.core.frame.DataFrame'>\n",
      "Int64Index: 1654063 entries, 0 to 1654687\n",
      "Data columns (total 25 columns):\n",
      "CAPSULE_TEXT                  1654063 non-null object\n",
      "GENRE_NAME                    1654063 non-null object\n",
      "PRICE_RATE                    1654063 non-null int64\n",
      "CATALOG_PRICE                 1654063 non-null int64\n",
      "DISCOUNT_PRICE                1654063 non-null int64\n",
      "DISPFROM                      1654063 non-null int64\n",
      "DISPPERIOD                    1654063 non-null int64\n",
      "VALIDFROM                     1654063 non-null int64\n",
      "VALIDPERIOD                   1099978 non-null float64\n",
      "USABLE_DATE_MON               1654063 non-null float64\n",
      "USABLE_DATE_TUE               1654063 non-null float64\n",
      "USABLE_DATE_WED               1654063 non-null float64\n",
      "USABLE_DATE_THU               1654063 non-null float64\n",
      "USABLE_DATE_FRI               1654063 non-null float64\n",
      "USABLE_DATE_SAT               1654063 non-null float64\n",
      "USABLE_DATE_SUN               1654063 non-null float64\n",
      "USABLE_DATE_HOLIDAY           1654063 non-null float64\n",
      "USABLE_DATE_BEFORE_HOLIDAY    1654063 non-null float64\n",
      "large_area_name               1654063 non-null object\n",
      "ken_name                      1654063 non-null object\n",
      "small_area_name               1654063 non-null object\n",
      "REG_DATE                      1654063 non-null int64\n",
      "SEX_ID                        1654063 non-null int64\n",
      "AGE                           1654063 non-null int64\n",
      "WITHDRAW_DATE                 1654063 non-null int64\n",
      "dtypes: float64(10), int64(10), object(5)\n",
      "memory usage: 328.1+ MB\n"
     ]
    }
   ],
   "source": [
    "big_train.info()"
   ]
  },
  {
   "cell_type": "code",
   "execution_count": 72,
   "metadata": {
    "collapsed": false
   },
   "outputs": [
    {
     "name": "stdout",
     "output_type": "stream",
     "text": [
      "CAPSULE_TEXT 24 object\n",
      "GENRE_NAME 13 object\n",
      "PRICE_RATE 71 int64\n",
      "CATALOG_PRICE 2415 int64\n",
      "DISCOUNT_PRICE 1115 int64\n",
      "DISPFROM 363 int64\n",
      "DISPPERIOD 18 int64\n",
      "VALIDFROM 380 int64\n",
      "VALIDPERIOD 181 float64\n",
      "USABLE_DATE_MON 2 float64\n",
      "USABLE_DATE_TUE 2 float64\n",
      "USABLE_DATE_WED 2 float64\n",
      "USABLE_DATE_THU 2 float64\n",
      "USABLE_DATE_FRI 2 float64\n",
      "USABLE_DATE_SAT 2 float64\n",
      "USABLE_DATE_SUN 2 float64\n",
      "USABLE_DATE_HOLIDAY 2 float64\n",
      "USABLE_DATE_BEFORE_HOLIDAY 2 float64\n",
      "large_area_name 9 object\n",
      "ken_name 47 object\n",
      "small_area_name 55 object\n",
      "REG_DATE 364 int64\n",
      "SEX_ID 2 int64\n",
      "AGE 66 int64\n",
      "WITHDRAW_DATE 293 int64\n"
     ]
    }
   ],
   "source": [
    "for col in big_train:\n",
    "    print col, len(big_train[col].unique()), big_train[col].dtype"
   ]
  },
  {
   "cell_type": "code",
   "execution_count": 73,
   "metadata": {
    "collapsed": false
   },
   "outputs": [
    {
     "name": "stderr",
     "output_type": "stream",
     "text": [
      "/home/galina/PythonProjects/common_functions/preprocess.py:54: SettingWithCopyWarning: \n",
      "A value is trying to be set on a copy of a slice from a DataFrame.\n",
      "Try using .loc[row_indexer,col_indexer] = value instead\n",
      "\n",
      "See the the caveats in the documentation: http://pandas.pydata.org/pandas-docs/stable/indexing.html#indexing-view-versus-copy\n",
      "  df[col] = df[col].apply(lambda s : s.split(sep))\n",
      "/home/galina/PythonProjects/common_functions/preprocess.py:59: SettingWithCopyWarning: \n",
      "A value is trying to be set on a copy of a slice from a DataFrame.\n",
      "Try using .loc[row_indexer,col_indexer] = value instead\n",
      "\n",
      "See the the caveats in the documentation: http://pandas.pydata.org/pandas-docs/stable/indexing.html#indexing-view-versus-copy\n",
      "  df[new_col] = [cat in x for x in df[col]]\n",
      "/home/galina/PythonProjects/common_functions/preprocess.py:60: SettingWithCopyWarning: \n",
      "A value is trying to be set on a copy of a slice from a DataFrame.\n",
      "Try using .loc[row_indexer,col_indexer] = value instead\n",
      "\n",
      "See the the caveats in the documentation: http://pandas.pydata.org/pandas-docs/stable/indexing.html#indexing-view-versus-copy\n",
      "  df[new_col] = df[new_col].apply(int)\n",
      "/home/galina/PythonProjects/common_functions/preprocess.py:61: SettingWithCopyWarning: \n",
      "A value is trying to be set on a copy of a slice from a DataFrame\n",
      "\n",
      "See the the caveats in the documentation: http://pandas.pydata.org/pandas-docs/stable/indexing.html#indexing-view-versus-copy\n",
      "  df.drop(col, axis = 1, inplace = True)\n"
     ]
    }
   ],
   "source": [
    "big_train = preprocess.split_to_dummies(big_train, 'small_area_name', sep = '\\xe3\\x83\\xbb')"
   ]
  },
  {
   "cell_type": "code",
   "execution_count": 74,
   "metadata": {
    "collapsed": false
   },
   "outputs": [
    {
     "data": {
      "text/html": [
       "<div>\n",
       "<table border=\"1\" class=\"dataframe\">\n",
       "  <thead>\n",
       "    <tr style=\"text-align: right;\">\n",
       "      <th></th>\n",
       "      <th>CAPSULE_TEXT</th>\n",
       "      <th>GENRE_NAME</th>\n",
       "      <th>PRICE_RATE</th>\n",
       "      <th>CATALOG_PRICE</th>\n",
       "      <th>DISCOUNT_PRICE</th>\n",
       "      <th>DISPFROM</th>\n",
       "      <th>DISPPERIOD</th>\n",
       "      <th>VALIDFROM</th>\n",
       "      <th>VALIDPERIOD</th>\n",
       "      <th>USABLE_DATE_MON</th>\n",
       "      <th>...</th>\n",
       "      <th>small_area_name_長崎</th>\n",
       "      <th>small_area_name_佐賀</th>\n",
       "      <th>small_area_name_吉祥寺</th>\n",
       "      <th>small_area_name_品川</th>\n",
       "      <th>small_area_name_山梨</th>\n",
       "      <th>small_area_name_高知</th>\n",
       "      <th>small_area_name_川崎</th>\n",
       "      <th>small_area_name_熊本</th>\n",
       "      <th>small_area_name_渋谷</th>\n",
       "      <th>small_area_name_宮崎</th>\n",
       "    </tr>\n",
       "  </thead>\n",
       "  <tbody>\n",
       "    <tr>\n",
       "      <th>0</th>\n",
       "      <td>Food</td>\n",
       "      <td>Food</td>\n",
       "      <td>50</td>\n",
       "      <td>3000</td>\n",
       "      <td>1500</td>\n",
       "      <td>11</td>\n",
       "      <td>1</td>\n",
       "      <td>13</td>\n",
       "      <td>151</td>\n",
       "      <td>1</td>\n",
       "      <td>...</td>\n",
       "      <td>0</td>\n",
       "      <td>0</td>\n",
       "      <td>0</td>\n",
       "      <td>0</td>\n",
       "      <td>0</td>\n",
       "      <td>0</td>\n",
       "      <td>0</td>\n",
       "      <td>0</td>\n",
       "      <td>0</td>\n",
       "      <td>0</td>\n",
       "    </tr>\n",
       "    <tr>\n",
       "      <th>1</th>\n",
       "      <td>Food</td>\n",
       "      <td>Food</td>\n",
       "      <td>50</td>\n",
       "      <td>8000</td>\n",
       "      <td>3980</td>\n",
       "      <td>4</td>\n",
       "      <td>2</td>\n",
       "      <td>8</td>\n",
       "      <td>179</td>\n",
       "      <td>1</td>\n",
       "      <td>...</td>\n",
       "      <td>0</td>\n",
       "      <td>0</td>\n",
       "      <td>0</td>\n",
       "      <td>0</td>\n",
       "      <td>0</td>\n",
       "      <td>0</td>\n",
       "      <td>0</td>\n",
       "      <td>0</td>\n",
       "      <td>0</td>\n",
       "      <td>0</td>\n",
       "    </tr>\n",
       "    <tr>\n",
       "      <th>2</th>\n",
       "      <td>Other</td>\n",
       "      <td>Other coupon</td>\n",
       "      <td>74</td>\n",
       "      <td>3835</td>\n",
       "      <td>980</td>\n",
       "      <td>14</td>\n",
       "      <td>2</td>\n",
       "      <td>17</td>\n",
       "      <td>90</td>\n",
       "      <td>1</td>\n",
       "      <td>...</td>\n",
       "      <td>0</td>\n",
       "      <td>0</td>\n",
       "      <td>0</td>\n",
       "      <td>0</td>\n",
       "      <td>0</td>\n",
       "      <td>0</td>\n",
       "      <td>0</td>\n",
       "      <td>0</td>\n",
       "      <td>0</td>\n",
       "      <td>0</td>\n",
       "    </tr>\n",
       "    <tr>\n",
       "      <th>3</th>\n",
       "      <td>Delivery service</td>\n",
       "      <td>Delivery service</td>\n",
       "      <td>62</td>\n",
       "      <td>4000</td>\n",
       "      <td>1500</td>\n",
       "      <td>10</td>\n",
       "      <td>2</td>\n",
       "      <td>10</td>\n",
       "      <td>NaN</td>\n",
       "      <td>1</td>\n",
       "      <td>...</td>\n",
       "      <td>0</td>\n",
       "      <td>0</td>\n",
       "      <td>0</td>\n",
       "      <td>0</td>\n",
       "      <td>0</td>\n",
       "      <td>0</td>\n",
       "      <td>0</td>\n",
       "      <td>0</td>\n",
       "      <td>0</td>\n",
       "      <td>0</td>\n",
       "    </tr>\n",
       "    <tr>\n",
       "      <th>4</th>\n",
       "      <td>Delivery service</td>\n",
       "      <td>Delivery service</td>\n",
       "      <td>66</td>\n",
       "      <td>2980</td>\n",
       "      <td>999</td>\n",
       "      <td>12</td>\n",
       "      <td>2</td>\n",
       "      <td>12</td>\n",
       "      <td>NaN</td>\n",
       "      <td>1</td>\n",
       "      <td>...</td>\n",
       "      <td>0</td>\n",
       "      <td>0</td>\n",
       "      <td>0</td>\n",
       "      <td>0</td>\n",
       "      <td>0</td>\n",
       "      <td>0</td>\n",
       "      <td>0</td>\n",
       "      <td>0</td>\n",
       "      <td>0</td>\n",
       "      <td>0</td>\n",
       "    </tr>\n",
       "  </tbody>\n",
       "</table>\n",
       "<p>5 rows × 97 columns</p>\n",
       "</div>"
      ],
      "text/plain": [
       "       CAPSULE_TEXT        GENRE_NAME  PRICE_RATE  CATALOG_PRICE  \\\n",
       "0              Food              Food          50           3000   \n",
       "1              Food              Food          50           8000   \n",
       "2             Other      Other coupon          74           3835   \n",
       "3  Delivery service  Delivery service          62           4000   \n",
       "4  Delivery service  Delivery service          66           2980   \n",
       "\n",
       "   DISCOUNT_PRICE  DISPFROM  DISPPERIOD  VALIDFROM  VALIDPERIOD  \\\n",
       "0            1500        11           1         13          151   \n",
       "1            3980         4           2          8          179   \n",
       "2             980        14           2         17           90   \n",
       "3            1500        10           2         10          NaN   \n",
       "4             999        12           2         12          NaN   \n",
       "\n",
       "   USABLE_DATE_MON        ...          small_area_name_長崎  small_area_name_佐賀  \\\n",
       "0                1        ...                           0                   0   \n",
       "1                1        ...                           0                   0   \n",
       "2                1        ...                           0                   0   \n",
       "3                1        ...                           0                   0   \n",
       "4                1        ...                           0                   0   \n",
       "\n",
       "   small_area_name_吉祥寺  small_area_name_品川  small_area_name_山梨  \\\n",
       "0                    0                   0                   0   \n",
       "1                    0                   0                   0   \n",
       "2                    0                   0                   0   \n",
       "3                    0                   0                   0   \n",
       "4                    0                   0                   0   \n",
       "\n",
       "   small_area_name_高知  small_area_name_川崎  small_area_name_熊本  \\\n",
       "0                   0                   0                   0   \n",
       "1                   0                   0                   0   \n",
       "2                   0                   0                   0   \n",
       "3                   0                   0                   0   \n",
       "4                   0                   0                   0   \n",
       "\n",
       "  small_area_name_渋谷 small_area_name_宮崎  \n",
       "0                  0                  0  \n",
       "1                  0                  0  \n",
       "2                  0                  0  \n",
       "3                  0                  0  \n",
       "4                  0                  0  \n",
       "\n",
       "[5 rows x 97 columns]"
      ]
     },
     "execution_count": 74,
     "metadata": {},
     "output_type": "execute_result"
    }
   ],
   "source": [
    "big_train.head()"
   ]
  },
  {
   "cell_type": "code",
   "execution_count": 75,
   "metadata": {
    "collapsed": false
   },
   "outputs": [],
   "source": [
    "big_train = preprocess.dummify(big_train)"
   ]
  },
  {
   "cell_type": "code",
   "execution_count": 76,
   "metadata": {
    "collapsed": false
   },
   "outputs": [
    {
     "data": {
      "text/plain": [
       "array(['PRICE_RATE', 'CATALOG_PRICE', 'DISCOUNT_PRICE', 'DISPFROM',\n",
       "       'DISPPERIOD', 'VALIDFROM', 'VALIDPERIOD', 'USABLE_DATE_MON',\n",
       "       'USABLE_DATE_TUE', 'USABLE_DATE_WED', 'USABLE_DATE_THU',\n",
       "       'USABLE_DATE_FRI', 'USABLE_DATE_SAT', 'USABLE_DATE_SUN',\n",
       "       'USABLE_DATE_HOLIDAY', 'USABLE_DATE_BEFORE_HOLIDAY', 'REG_DATE',\n",
       "       'SEX_ID', 'AGE', 'WITHDRAW_DATE',\n",
       "       'small_area_name_\\xe5\\x8d\\x83\\xe8\\x91\\x89',\n",
       "       'small_area_name_\\xe7\\xbe\\xa4\\xe9\\xa6\\xac',\n",
       "       'small_area_name_\\xe7\\x9b\\xae\\xe9\\xbb\\x92',\n",
       "       'small_area_name_\\xe6\\xa0\\x83\\xe6\\x9c\\xa8',\n",
       "       'small_area_name_\\xe7\\xa6\\x8f\\xe5\\xb2\\xa1',\n",
       "       'small_area_name_\\xe8\\x8c\\xa8\\xe5\\x9f\\x8e',\n",
       "       'small_area_name_\\xe5\\xb1\\xb1\\xe5\\xbd\\xa2',\n",
       "       'small_area_name_\\xe9\\xba\\xbb\\xe5\\xb8\\x83',\n",
       "       'small_area_name_\\xe7\\xa7\\x8b\\xe7\\x94\\xb0',\n",
       "       'small_area_name_\\xe6\\xa8\\xaa\\xe6\\xb5\\x9c',\n",
       "       'small_area_name_\\xe3\\x82\\xad\\xe3\\x82\\xbf',\n",
       "       'small_area_name_\\xe5\\xba\\x83\\xe5\\xb3\\xb6',\n",
       "       'small_area_name_\\xe5\\xae\\xae\\xe5\\x9f\\x8e',\n",
       "       'small_area_name_\\xe4\\xb8\\x89\\xe9\\x87\\x8d',\n",
       "       'small_area_name_\\xe7\\xa5\\x9e\\xe6\\xa5\\xbd\\xe5\\x9d\\x82',\n",
       "       'small_area_name_\\xe6\\x96\\xb0\\xe6\\xa9\\x8b',\n",
       "       'small_area_name_\\xe6\\x9d\\xb1\\xe4\\xba\\xac',\n",
       "       'small_area_name_\\xe6\\xbb\\x8b\\xe8\\xb3\\x80',\n",
       "       'small_area_name_\\xe7\\xae\\xb1\\xe6\\xa0\\xb9\\xe4\\xbb\\x96',\n",
       "       'small_area_name_\\xe5\\x92\\x8c\\xe6\\xad\\x8c\\xe5\\xb1\\xb1',\n",
       "       'small_area_name_\\xe5\\xa4\\xa7\\xe5\\x88\\x86',\n",
       "       'small_area_name_\\xe6\\x84\\x9b\\xe7\\x9f\\xa5',\n",
       "       'small_area_name_\\xe6\\x81\\xb5\\xe6\\xaf\\x94\\xe5\\xaf\\xbf',\n",
       "       'small_area_name_\\xe5\\xb2\\xa9\\xe6\\x89\\x8b',\n",
       "       'small_area_name_\\xe6\\xb1\\xa0\\xe8\\xa2\\x8b',\n",
       "       'small_area_name_\\xe5\\xb2\\x90\\xe9\\x98\\x9c',\n",
       "       'small_area_name_\\xe5\\xb3\\xb6\\xe6\\xa0\\xb9',\n",
       "       'small_area_name_\\xe5\\x8c\\x97\\xe6\\xb5\\xb7\\xe9\\x81\\x93',\n",
       "       'small_area_name_\\xe5\\xaf\\x8c\\xe5\\xb1\\xb1',\n",
       "       'small_area_name_\\xe9\\xb3\\xa5\\xe5\\x8f\\x96',\n",
       "       'small_area_name_\\xe6\\xb9\\x98\\xe5\\x8d\\x97',\n",
       "       'small_area_name_\\xe9\\xab\\x98\\xe7\\x94\\xb0\\xe9\\xa6\\xac\\xe5\\xa0\\xb4',\n",
       "       'small_area_name_\\xe8\\xb5\\xa4\\xe7\\xbe\\xbd',\n",
       "       'small_area_name_\\xe4\\xb8\\x8a\\xe9\\x87\\x8e',\n",
       "       'small_area_name_\\xe9\\x9d\\x92\\xe6\\xa3\\xae',\n",
       "       'small_area_name_\\xe9\\x8a\\x80\\xe5\\xba\\xa7',\n",
       "       'small_area_name_\\xe7\\xab\\x8b\\xe5\\xb7\\x9d',\n",
       "       'small_area_name_\\xe7\\x94\\xba\\xe7\\x94\\xb0',\n",
       "       'small_area_name_\\xe6\\xb2\\x96\\xe7\\xb8\\x84',\n",
       "       'small_area_name_\\xe5\\x85\\xb5\\xe5\\xba\\xab',\n",
       "       'small_area_name_\\xe6\\x96\\xb0\\xe6\\xbd\\x9f',\n",
       "       'small_area_name_\\xe4\\xb8\\xad\\xe9\\x87\\x8e',\n",
       "       'small_area_name_\\xe9\\xa6\\x99\\xe5\\xb7\\x9d',\n",
       "       'small_area_name_\\xe3\\x83\\x9f\\xe3\\x83\\x8a\\xe3\\x83\\x9f\\xe4\\xbb\\x96',\n",
       "       'small_area_name_\\xe5\\xb2\\xa1\\xe5\\xb1\\xb1',\n",
       "       'small_area_name_\\xe6\\x84\\x9b\\xe5\\xaa\\x9b',\n",
       "       'small_area_name_\\xe9\\x95\\xb7\\xe9\\x87\\x8e',\n",
       "       'small_area_name_\\xe5\\xbe\\xb3\\xe5\\xb3\\xb6',\n",
       "       'small_area_name_\\xe7\\xa6\\x8f\\xe4\\xba\\x95',\n",
       "       'small_area_name_\\xe5\\x85\\xad\\xe6\\x9c\\xac\\xe6\\x9c\\xa8',\n",
       "       'small_area_name_\\xe5\\x9f\\xbc\\xe7\\x8e\\x89',\n",
       "       'small_area_name_\\xe9\\x9d\\x99\\xe5\\xb2\\xa1',\n",
       "       'small_area_name_\\xe8\\x87\\xaa\\xe7\\x94\\xb1\\xe3\\x81\\x8c\\xe4\\xb8\\x98',\n",
       "       'small_area_name_\\xe7\\xa6\\x8f\\xe5\\xb3\\xb6',\n",
       "       'small_area_name_\\xe4\\xba\\xac\\xe9\\x83\\xbd',\n",
       "       'small_area_name_\\xe7\\x9f\\xb3\\xe5\\xb7\\x9d',\n",
       "       'small_area_name_\\xe5\\xa5\\x88\\xe8\\x89\\xaf',\n",
       "       'small_area_name_\\xe5\\xb1\\xb1\\xe5\\x8f\\xa3',\n",
       "       'small_area_name_\\xe9\\x9d\\x92\\xe5\\xb1\\xb1',\n",
       "       'small_area_name_\\xe6\\x96\\xb0\\xe5\\xae\\xbf',\n",
       "       'small_area_name_\\xe8\\xb5\\xa4\\xe5\\x9d\\x82',\n",
       "       'small_area_name_\\xe9\\xb9\\xbf\\xe5\\x85\\x90\\xe5\\xb3\\xb6',\n",
       "       'small_area_name_\\xe5\\x85\\xab\\xe7\\x8e\\x8b\\xe5\\xad\\x90\\xe4\\xbb\\x96',\n",
       "       'small_area_name_\\xe9\\x95\\xb7\\xe5\\xb4\\x8e',\n",
       "       'small_area_name_\\xe4\\xbd\\x90\\xe8\\xb3\\x80',\n",
       "       'small_area_name_\\xe5\\x90\\x89\\xe7\\xa5\\xa5\\xe5\\xaf\\xba',\n",
       "       'small_area_name_\\xe5\\x93\\x81\\xe5\\xb7\\x9d',\n",
       "       'small_area_name_\\xe5\\xb1\\xb1\\xe6\\xa2\\xa8',\n",
       "       'small_area_name_\\xe9\\xab\\x98\\xe7\\x9f\\xa5',\n",
       "       'small_area_name_\\xe5\\xb7\\x9d\\xe5\\xb4\\x8e',\n",
       "       'small_area_name_\\xe7\\x86\\x8a\\xe6\\x9c\\xac',\n",
       "       'small_area_name_\\xe6\\xb8\\x8b\\xe8\\xb0\\xb7',\n",
       "       'small_area_name_\\xe5\\xae\\xae\\xe5\\xb4\\x8e', 'CAPSULE_TEXT_Beauty',\n",
       "       'CAPSULE_TEXT_Class', 'CAPSULE_TEXT_Correspondence course',\n",
       "       'CAPSULE_TEXT_Delivery service', 'CAPSULE_TEXT_Event',\n",
       "       'CAPSULE_TEXT_Food', 'CAPSULE_TEXT_Gift card',\n",
       "       'CAPSULE_TEXT_Guest house', 'CAPSULE_TEXT_Hair salon',\n",
       "       'CAPSULE_TEXT_Health and medical', 'CAPSULE_TEXT_Hotel',\n",
       "       'CAPSULE_TEXT_Japanese hotel', 'CAPSULE_TEXT_Japanse guest house',\n",
       "       'CAPSULE_TEXT_Leisure', 'CAPSULE_TEXT_Lesson', 'CAPSULE_TEXT_Lodge',\n",
       "       'CAPSULE_TEXT_Nail and eye salon', 'CAPSULE_TEXT_Other',\n",
       "       'CAPSULE_TEXT_Public hotel', 'CAPSULE_TEXT_Relaxation',\n",
       "       'CAPSULE_TEXT_Resort inn', 'CAPSULE_TEXT_Spa',\n",
       "       'CAPSULE_TEXT_Vacation rental', 'CAPSULE_TEXT_Web service',\n",
       "       'GENRE_NAME_Beauty', 'GENRE_NAME_Delivery service',\n",
       "       'GENRE_NAME_Food', 'GENRE_NAME_Gift card', 'GENRE_NAME_Hair salon',\n",
       "       'GENRE_NAME_Health and medical',\n",
       "       'GENRE_NAME_Hotel and Japanese hotel', 'GENRE_NAME_Leisure',\n",
       "       'GENRE_NAME_Lesson', 'GENRE_NAME_Nail and eye salon',\n",
       "       'GENRE_NAME_Other coupon', 'GENRE_NAME_Relaxation',\n",
       "       'GENRE_NAME_Spa', 'large_area_name_\\xe4\\xb8\\xad\\xe5\\x9b\\xbd',\n",
       "       'large_area_name_\\xe4\\xb9\\x9d\\xe5\\xb7\\x9e\\xe3\\x83\\xbb\\xe6\\xb2\\x96\\xe7\\xb8\\x84',\n",
       "       'large_area_name_\\xe5\\x8c\\x97\\xe4\\xbf\\xa1\\xe8\\xb6\\x8a',\n",
       "       'large_area_name_\\xe5\\x8c\\x97\\xe6\\xb5\\xb7\\xe9\\x81\\x93',\n",
       "       'large_area_name_\\xe5\\x9b\\x9b\\xe5\\x9b\\xbd',\n",
       "       'large_area_name_\\xe6\\x9d\\xb1\\xe5\\x8c\\x97',\n",
       "       'large_area_name_\\xe6\\x9d\\xb1\\xe6\\xb5\\xb7',\n",
       "       'large_area_name_\\xe9\\x96\\xa2\\xe6\\x9d\\xb1',\n",
       "       'large_area_name_\\xe9\\x96\\xa2\\xe8\\xa5\\xbf',\n",
       "       'ken_name_\\xe4\\xb8\\x89\\xe9\\x87\\x8d\\xe7\\x9c\\x8c',\n",
       "       'ken_name_\\xe4\\xba\\xac\\xe9\\x83\\xbd\\xe5\\xba\\x9c',\n",
       "       'ken_name_\\xe4\\xbd\\x90\\xe8\\xb3\\x80\\xe7\\x9c\\x8c',\n",
       "       'ken_name_\\xe5\\x85\\xb5\\xe5\\xba\\xab\\xe7\\x9c\\x8c',\n",
       "       'ken_name_\\xe5\\x8c\\x97\\xe6\\xb5\\xb7\\xe9\\x81\\x93',\n",
       "       'ken_name_\\xe5\\x8d\\x83\\xe8\\x91\\x89\\xe7\\x9c\\x8c',\n",
       "       'ken_name_\\xe5\\x92\\x8c\\xe6\\xad\\x8c\\xe5\\xb1\\xb1\\xe7\\x9c\\x8c',\n",
       "       'ken_name_\\xe5\\x9f\\xbc\\xe7\\x8e\\x89\\xe7\\x9c\\x8c',\n",
       "       'ken_name_\\xe5\\xa4\\xa7\\xe5\\x88\\x86\\xe7\\x9c\\x8c',\n",
       "       'ken_name_\\xe5\\xa4\\xa7\\xe9\\x98\\xaa\\xe5\\xba\\x9c',\n",
       "       'ken_name_\\xe5\\xa5\\x88\\xe8\\x89\\xaf\\xe7\\x9c\\x8c',\n",
       "       'ken_name_\\xe5\\xae\\xae\\xe5\\x9f\\x8e\\xe7\\x9c\\x8c',\n",
       "       'ken_name_\\xe5\\xae\\xae\\xe5\\xb4\\x8e\\xe7\\x9c\\x8c',\n",
       "       'ken_name_\\xe5\\xaf\\x8c\\xe5\\xb1\\xb1\\xe7\\x9c\\x8c',\n",
       "       'ken_name_\\xe5\\xb1\\xb1\\xe5\\x8f\\xa3\\xe7\\x9c\\x8c',\n",
       "       'ken_name_\\xe5\\xb1\\xb1\\xe5\\xbd\\xa2\\xe7\\x9c\\x8c',\n",
       "       'ken_name_\\xe5\\xb1\\xb1\\xe6\\xa2\\xa8\\xe7\\x9c\\x8c',\n",
       "       'ken_name_\\xe5\\xb2\\x90\\xe9\\x98\\x9c\\xe7\\x9c\\x8c',\n",
       "       'ken_name_\\xe5\\xb2\\xa1\\xe5\\xb1\\xb1\\xe7\\x9c\\x8c',\n",
       "       'ken_name_\\xe5\\xb2\\xa9\\xe6\\x89\\x8b\\xe7\\x9c\\x8c',\n",
       "       'ken_name_\\xe5\\xb3\\xb6\\xe6\\xa0\\xb9\\xe7\\x9c\\x8c',\n",
       "       'ken_name_\\xe5\\xba\\x83\\xe5\\xb3\\xb6\\xe7\\x9c\\x8c',\n",
       "       'ken_name_\\xe5\\xbe\\xb3\\xe5\\xb3\\xb6\\xe7\\x9c\\x8c',\n",
       "       'ken_name_\\xe6\\x84\\x9b\\xe5\\xaa\\x9b\\xe7\\x9c\\x8c',\n",
       "       'ken_name_\\xe6\\x84\\x9b\\xe7\\x9f\\xa5\\xe7\\x9c\\x8c',\n",
       "       'ken_name_\\xe6\\x96\\xb0\\xe6\\xbd\\x9f\\xe7\\x9c\\x8c',\n",
       "       'ken_name_\\xe6\\x9d\\xb1\\xe4\\xba\\xac\\xe9\\x83\\xbd',\n",
       "       'ken_name_\\xe6\\xa0\\x83\\xe6\\x9c\\xa8\\xe7\\x9c\\x8c',\n",
       "       'ken_name_\\xe6\\xb2\\x96\\xe7\\xb8\\x84\\xe7\\x9c\\x8c',\n",
       "       'ken_name_\\xe6\\xbb\\x8b\\xe8\\xb3\\x80\\xe7\\x9c\\x8c',\n",
       "       'ken_name_\\xe7\\x86\\x8a\\xe6\\x9c\\xac\\xe7\\x9c\\x8c',\n",
       "       'ken_name_\\xe7\\x9f\\xb3\\xe5\\xb7\\x9d\\xe7\\x9c\\x8c',\n",
       "       'ken_name_\\xe7\\xa5\\x9e\\xe5\\xa5\\x88\\xe5\\xb7\\x9d\\xe7\\x9c\\x8c',\n",
       "       'ken_name_\\xe7\\xa6\\x8f\\xe4\\xba\\x95\\xe7\\x9c\\x8c',\n",
       "       'ken_name_\\xe7\\xa6\\x8f\\xe5\\xb2\\xa1\\xe7\\x9c\\x8c',\n",
       "       'ken_name_\\xe7\\xa6\\x8f\\xe5\\xb3\\xb6\\xe7\\x9c\\x8c',\n",
       "       'ken_name_\\xe7\\xa7\\x8b\\xe7\\x94\\xb0\\xe7\\x9c\\x8c',\n",
       "       'ken_name_\\xe7\\xbe\\xa4\\xe9\\xa6\\xac\\xe7\\x9c\\x8c',\n",
       "       'ken_name_\\xe8\\x8c\\xa8\\xe5\\x9f\\x8e\\xe7\\x9c\\x8c',\n",
       "       'ken_name_\\xe9\\x95\\xb7\\xe5\\xb4\\x8e\\xe7\\x9c\\x8c',\n",
       "       'ken_name_\\xe9\\x95\\xb7\\xe9\\x87\\x8e\\xe7\\x9c\\x8c',\n",
       "       'ken_name_\\xe9\\x9d\\x92\\xe6\\xa3\\xae\\xe7\\x9c\\x8c',\n",
       "       'ken_name_\\xe9\\x9d\\x99\\xe5\\xb2\\xa1\\xe7\\x9c\\x8c',\n",
       "       'ken_name_\\xe9\\xa6\\x99\\xe5\\xb7\\x9d\\xe7\\x9c\\x8c',\n",
       "       'ken_name_\\xe9\\xab\\x98\\xe7\\x9f\\xa5\\xe7\\x9c\\x8c',\n",
       "       'ken_name_\\xe9\\xb3\\xa5\\xe5\\x8f\\x96\\xe7\\x9c\\x8c',\n",
       "       'ken_name_\\xe9\\xb9\\xbf\\xe5\\x85\\x90\\xe5\\xb3\\xb6\\xe7\\x9c\\x8c'], dtype=object)"
      ]
     },
     "execution_count": 76,
     "metadata": {},
     "output_type": "execute_result"
    }
   ],
   "source": [
    "big_train.columns.values"
   ]
  },
  {
   "cell_type": "code",
   "execution_count": 47,
   "metadata": {
    "collapsed": false
   },
   "outputs": [],
   "source": [
    "big_train.to_csv('big_train.csv')"
   ]
  },
  {
   "cell_type": "code",
   "execution_count": null,
   "metadata": {
    "collapsed": true
   },
   "outputs": [],
   "source": []
  }
 ],
 "metadata": {
  "kernelspec": {
   "display_name": "Python 2",
   "language": "python",
   "name": "python2"
  },
  "language_info": {
   "codemirror_mode": {
    "name": "ipython",
    "version": 2
   },
   "file_extension": ".py",
   "mimetype": "text/x-python",
   "name": "python",
   "nbconvert_exporter": "python",
   "pygments_lexer": "ipython2",
   "version": "2.7.9"
  }
 },
 "nbformat": 4,
 "nbformat_minor": 0
}
